{
 "cells": [
  {
   "cell_type": "markdown",
   "metadata": {},
   "source": [
    "# Estadística Inferencial"
   ]
  },
  {
   "cell_type": "markdown",
   "metadata": {},
   "source": [
    "## Contenido\n",
    "\n",
    "- [Prueba de Hipótesis](#Prueba-de-Hipótesis)\n",
    "    - [¿Qué es una hipótesis y cómo se especifica una?](#¿Qué-es-una-hipótesis-y-cómo-se-especifica-una?)\n",
    "    - [La hipótesis nula](#La-hipótesis-nula)\n",
    "    - [P-valor](#P-valor)\n",
    "    - [Tipos de Hipótesis Alternativas](#Tipos-de-Hipótesis-Alternativas)\n",
    "    - [Tipos de Errores](#Tipos-de-Errores)\n",
    "    - [Prueba paramétrica vs no paramétrica](#Prueba-paramétrica-vs-no-paramétrica)\n",
    "    \n",
    "    \n",
    "- [Correlación](#Correlación)\n",
    "    - [Covarianza y correlación: fórmulas](#Covarianza-y-correlación:-fórmulas)\n",
    "    - [El problema con Pearson](#El-problema-con-Pearson)\n",
    "    \n",
    "    \n",
    "- [T-test](#T-test)\n",
    "    - [T-test de una muestra](#T-test-de-una-muestra)\n",
    "    - [T-test de dos muestras](#T-test-de-dos-muestras)\n",
    "    - [Wilcoxon signed-rank (T-test no paramétrico)](#Wilcoxon-signed-rank-(T-test-no-paramétrico))\n",
    "    \n",
    "    \n",
    "    \n",
    "    \n",
    "- [Ejercicio](#Ejercicio)"
   ]
  },
  {
   "cell_type": "markdown",
   "metadata": {},
   "source": [
    "## Prueba de Hipótesis\n",
    "\n",
    "\n",
    "Para que la estadística sea de utilidad no basta con calcular estadísticos, también se tienen que tomar decisiones basadas en los datos que estamos analizando, que acepte o rechace una afirmación relativa al valor de un parámetro. Estas afirmaciones que nos permiten aceptar o rechazar algo, reciben el nombre de hipótesis y el método estadístico de toma de decisión sobre una hipótesis recibe el nombre de prueba de hipótesis. Solemos tener dos hipótesis, una que queremos que ocurra, y otra que tomaremos si no ocurre la primera, la hipótesis alternativa $H_1$ es la hipótesis de la que busco evidencia de que ocurra y la hipótesis nula $H_0$ es la que rechazaremos si tenemos evidencia de la alternativa, _aceptaremos $H_0$ a menos que la evidencia diga lo contrario_."
   ]
  },
  {
   "cell_type": "markdown",
   "metadata": {},
   "source": [
    "[Regresar al contenido](#Contenido)"
   ]
  },
  {
   "cell_type": "markdown",
   "metadata": {},
   "source": [
    "<hr>\n",
    "\n",
    "# ¿Qué es una hipótesis y cómo se especifica una?\n",
    "\n",
    "\n",
    "Una afirmación falsable que requiere verificación, generalmente a partir de datos experimentales u observacionales, y que permite realizar predicciones sobre observaciones futuras.\n",
    "\n",
    "\n",
    "\n",
    "## La hipótesis nula\n",
    "\n",
    "\n",
    "La _hipótesis nula_ es la _hipótesis aburrida_ ($H_0$), la hipótesis de que no sucede nada interesante en los datos.\n",
    "\n",
    "En la investigación, se especifica la _hipótesis alternativa_ ($H_1$).\n",
    "\n",
    "**En el análisis estadístico, prueba la hipótesis nula.**\n",
    "\n",
    "- $H_1$ → La gente comprará más widgets después de ver el anuncio $X$ en comparación con el anuncio $Y$.\n",
    "\n",
    "- $H_0$ → El tipo de anuncio no tiene ningún efecto en las compras de widgets."
   ]
  },
  {
   "cell_type": "code",
   "execution_count": null,
   "metadata": {},
   "outputs": [],
   "source": []
  },
  {
   "cell_type": "markdown",
   "metadata": {},
   "source": [
    "[Regresar al contenido](#Contenido)"
   ]
  },
  {
   "cell_type": "markdown",
   "metadata": {},
   "source": [
    "# P-valor\n",
    "\n",
    "- ¿Qué posibilidades hay de que ocurra el valor de $H_1$ si $H_0$ es verdadero?"
   ]
  },
  {
   "cell_type": "code",
   "execution_count": null,
   "metadata": {},
   "outputs": [],
   "source": []
  },
  {
   "cell_type": "markdown",
   "metadata": {},
   "source": [
    "Concepto importante:\n",
    "\n",
    "- No podemos probar que $ H_1 $ sea cierto. Solo podemos calcular la probabilidad de que se pueda observar el estadístico de prueba asociado con $ H_1 $ dado que no hay un efecto verdadero.\n",
    "\n",
    "\n",
    "Los valores p son probabilidades. Van de 0 a 1.\n",
    "\n",
    "- Los valores más cercanos a 0 indican una baja probabilidad de $ H_1 | H_0 $\n",
    "- Los valores más cercanos a 1 indican una alta probabilidad de $ H_1 | H_0 $\n",
    "\n",
    "\n",
    "Un hallazgo se denomina `estadísticamente significativo` si el estadístico de prueba es mayor que un umbral.\n",
    "\n",
    "Eso es si $p(H_1) < p(\\alpha)$\n",
    "El umbral es arbitrario, los valores comunes son $p = 0.5$ o $p = 0.01$"
   ]
  },
  {
   "cell_type": "code",
   "execution_count": null,
   "metadata": {},
   "outputs": [],
   "source": []
  },
  {
   "cell_type": "markdown",
   "metadata": {},
   "source": [
    "Cada lado de la distribución $H_0$ es poco probable.\n",
    "\n",
    "El umbral del valor p se refiere a toda el área de significancia."
   ]
  },
  {
   "cell_type": "code",
   "execution_count": null,
   "metadata": {},
   "outputs": [],
   "source": []
  },
  {
   "cell_type": "markdown",
   "metadata": {},
   "source": [
    "Una cosa importante que hay que tener en cuenta es que si nosotros no establecemos un nivel de significancia $\\alpha$ entonces:\n",
    "\n",
    "- Aceptamos $H_0$ si el p-valor es \"grande\" ($\\geq 0.1$)\n",
    "- Rechazamos $H_0$ si el p-valor es \"pequeño\" ($\\leq 0.05$)\n",
    "    - El p-valor es _significativo_ si es $ < 0.05$\n",
    "    - El p-valor es _fuertemente significativo_ si es $ < 0.01$\n",
    "    - El p-valor es _Muy significativo_ si es $ < 0.001$\n",
    "    \n",
    "    \n",
    "Pero si el p-valor esta entre 0.05 y 0.1, entonces se requerirán estudios posteriores, es lo que se denomina la _zona crepuscular_ o _twilinght zone_. Es decir no podemos concluir si podemos rechazar o no $H_0$."
   ]
  },
  {
   "cell_type": "markdown",
   "metadata": {},
   "source": [
    "[Regresar al contenido](#Contenido)"
   ]
  },
  {
   "cell_type": "markdown",
   "metadata": {},
   "source": [
    "\n",
    "\n",
    "\n",
    "### Tipos de Hipótesis Alternativas\n",
    "\n",
    "\n",
    "Al momento de realizar una prueba de hipótesis lo vamos a representar de la siguiente manera:\n",
    "\n",
    "$$\n",
    "\\left\\{\n",
    "\\begin{array}{ll}\n",
    "H_0 & \\text{Hipótesis nula}\\\\\n",
    "H_1 & \\text{Hipótesis alternativa}\\\\\n",
    "\\end{array}\n",
    "\\right.\n",
    "$$\n",
    "\n",
    "Hay que generar una regla de decisión para poder rechazar o no la hipótesis nula partir de la información que contenga la muestra. Tengan en cuenta que es imposible encontrar evidencias de que un parámetro $\\mu$ sea igual a cierto valor $\\mu_0$, pero si podemos encontrar evidencia de que $\\mu < \\mu_0$, $\\mu > \\mu_0$ o $\\mu \\neq \\mu_0$, sabiendo esto la hipótesis alternativa y nula se caracterizaran por lo siguiente:\n",
    "\n",
    "\n",
    "$$\n",
    "\\left\\{\n",
    "\\begin{array}{llll}\n",
    "H_0: & = & \\leq & \\geq\\\\\n",
    "H_1: & < & > & \\neq\\\\\n",
    "\\end{array}\n",
    "\\right.\n",
    "$$\n",
    "\n",
    "por ejemplo si queremos decidir si la media es más pequeña que 2 o no.\n",
    "\n",
    "$$\n",
    "\\left\\{\n",
    "\\begin{array}{ll}\n",
    "H_0: & \\mu = 2\\\\\n",
    "H_1: & \\mu < 2\\\\\n",
    "\\end{array}\n",
    "\\right.\n",
    "$$\n",
    "\n",
    "si queremos decidir si la media es igual o diferente de 5:\n",
    "\n",
    "\n",
    "$$\n",
    "\\left\\{\n",
    "\\begin{array}{ll}\n",
    "H_0: & \\mu = 5\\\\\n",
    "H_1: & \\mu \\neq 5\\\\\n",
    "\\end{array}\n",
    "\\right.\n",
    "$$\n",
    "\n",
    "\n",
    "Esto nos provoca que haya dos tipos de pruebas, las pruebas unilaterales: Donde $H_1: \\mu < \\mu_0$ o $H_1: \\mu > \\mu_0$, o las pruebas bilaterales: $H_1: \\mu \\neq \\mu_0$. El test toma el nombre de las hipótesis alternativas."
   ]
  },
  {
   "cell_type": "markdown",
   "metadata": {},
   "source": [
    "$$\n",
    "\\left\\{\n",
    "\\begin{array}{ll}\n",
    "H_0: & \\mu = \\mu_0\\\\\n",
    "H_1: & \\mu < \\mu_0\\\\\n",
    "\\end{array}\n",
    "\\right.\n",
    "$$"
   ]
  },
  {
   "cell_type": "code",
   "execution_count": null,
   "metadata": {},
   "outputs": [],
   "source": []
  },
  {
   "cell_type": "markdown",
   "metadata": {},
   "source": [
    "$$\n",
    "\\left\\{\n",
    "\\begin{array}{ll}\n",
    "H_0: & \\mu = \\mu_0\\\\\n",
    "H_1: & \\mu > \\mu_0\\\\\n",
    "\\end{array}\n",
    "\\right.\n",
    "$$"
   ]
  },
  {
   "cell_type": "code",
   "execution_count": null,
   "metadata": {},
   "outputs": [],
   "source": []
  },
  {
   "cell_type": "markdown",
   "metadata": {},
   "source": [
    "$$\n",
    "\\left\\{\n",
    "\\begin{array}{ll}\n",
    "H_0: & \\mu = \\mu_0\\\\\n",
    "H_1: & \\mu \\ne \\mu_0\\\\\n",
    "\\end{array}\n",
    "\\right.\n",
    "$$"
   ]
  },
  {
   "cell_type": "code",
   "execution_count": null,
   "metadata": {},
   "outputs": [],
   "source": []
  },
  {
   "cell_type": "markdown",
   "metadata": {},
   "source": [
    "[Regresar al contenido](#Contenido)"
   ]
  },
  {
   "cell_type": "markdown",
   "metadata": {},
   "source": [
    "### Tipos de Errores\n",
    "\n",
    "\n",
    "Dado que podemos tomar una decisión con base a la muestra que estamos trabajando, y equivocarnos una prueba de hipótesis puede tener uno de los siguientes cuatro resultados:\n",
    "\n",
    "\n",
    "\n",
    "\n",
    "|Decisión/Realidad|$H_0$ es verdadera|$H_0$ es falsa|\n",
    "|:---------------:|:----------------:|:------------:|\n",
    "|Fracasar en rechazar $H_0$|Decisión correcta de tipo A|Error de tipo II|\n",
    "|rechazar $H_0$|Error de tipo I|Decisión correcta de tipo B|\n",
    "\n",
    "\n",
    "\n",
    "<img src = 'https://www.statisticssolutions.com/wp-content/uploads/2017/12/rachnovblog.jpg'  > \n",
    "\n",
    "\n",
    "La decisión correcta de tipo A y B son _fracasar en rechazar $H_0$ cuando $H_0$ es verdadera_ y _rechazar $H_0$ cuando $H_0$ es falsa_. Ahora, no siempre se puede tomar la decisión correcta, por lo que existen los errores de tipo I y II, el error de tipo I es un _falso positivo_ (recordemos que el objetivo del investigador es rechazar $H_0$), es decir, este error se comete cuando e rechaza $H_0$ siendo esta verdadera, el error de tipo I tiene asociado una probabilidad de que ocurra que denotamos $\\alpha$ y es denominada significancia de la prueba. Por su parte el error de tipo II es un _falso negativo_ y ocurre cuando no se rechaza $H_0$ siendo esta falsa, la probabilidad de que cometamos un error de tipo II la denotamos por $\\beta$.\n",
    "\n",
    "Para encontrar estos errores se asigna una pequeña probabilidad a cada una de ellas, las probabilidades más comúnmente usadas para $\\alpha$ y $\\beta$ son 0.01 y 0.05. Por su lado las dos decisiones correctas tienen también sus propias probabilidades, para la decisión correcta de tipo A la probabilidad es $1-\\alpha$ y para la decisión correcta de tipo B es $1 - \\beta$. A la probabilidad $1 - \\beta$ se le llamada _potencia de la prueba_ porque es la medida de la capacidad de la prueba de rechazar una hipótesis nula falsa.\n",
    "\n",
    "$$P(\\text{Error tipo I}) = P(\\text{Rechazar} H_0|H_0 \\text{es cierta}) = \\alpha$$\n",
    "\n",
    "$$P(\\text{Error tipo II}) = P(\\text{Aceptar} H_0|H_0 \\text{es falsa}) = \\beta$$"
   ]
  },
  {
   "cell_type": "code",
   "execution_count": null,
   "metadata": {},
   "outputs": [],
   "source": []
  },
  {
   "cell_type": "markdown",
   "metadata": {},
   "source": [
    "[Regresar al contenido](#Contenido)"
   ]
  },
  {
   "cell_type": "markdown",
   "metadata": {},
   "source": [
    "# Prueba paramétrica vs no paramétrica\n",
    "\n",
    "Qué no significa `no paramétrico`:\n",
    "\n",
    "- ** Sin parámetros en absoluto **\n",
    "\n",
    "Significado correcto:\n",
    "\n",
    "- Estadísticas que no se basan en supuestos sobre la distribución subyacente.\n",
    "- Métodos de inferencia estadística que generan la distribución $H_0$ a partir de los datos, no de una ecuación.\n",
    "\n",
    "| Prueba paramétrica | Prueba no paramétrica |\n",
    "|: -------------: |: -----------------: |\n",
    "| T-test de 1 muestra | Prueba de rangos singulares de Wilcoxon |\n",
    "| T-test t de 2 muestras | Prueba U de Mann-Whitney |\n",
    "| Correlación de Pearson | Correlación de Sperman |\n",
    "\n",
    "\n",
    "\n",
    "** Ventajas y limitaciones **\n",
    "\n",
    "| Prueba paramétrica | Prueba no paramétrica |\n",
    "|: -------------: |: -----------------: |\n",
    "| Estándar, ampliamente utilizado | Algunos no son estándar |\n",
    "| Basado en supuestos | No basado en supuestos |\n",
    "| Las suposiciones deben probarse | Puede ser lento |\n",
    "| Puede ser incorrecto cuando se violan las suposiciones | Apropiado para datos no numéricos |\n",
    "| Computacionalmente rápido | Apropiado para tamaños de muestra pequeños |\n",
    "|| Algunos métodos dan resultados diferentes cada vez |\n",
    "\n",
    "**Conclusión**\n",
    "\n",
    "Utilice métodos paramétricos cuando sea posible, y utilice métodos no paramétricos cuando sea necesario."
   ]
  },
  {
   "cell_type": "markdown",
   "metadata": {},
   "source": [
    "[Regresar al contenido](#Contenido)"
   ]
  },
  {
   "cell_type": "markdown",
   "metadata": {},
   "source": [
    "# Correlación\n",
    "\n",
    "En el sentido más amplio, la correlación es cualquier asociación estadística, aunque comúnmente se refiere al grado en que un par de variables están relacionadas linealmente.\n",
    "\n",
    "- Un análisis de correlación calcula un coeficiente de correlación.\n",
    "\n",
    "- el coeficiente de correlación es un número único que muestra la relación entre dos variables.\n",
    "\n",
    "- El coeficiente de correlación varía entre -1 y 1.\n",
    "\n",
    "    - -1 significa una relación inversa perfecta.\n",
    "    - 0 significa que no hay relación\n",
    "    - 1 significa una relación positiva perfecta.\n",
    "\n",
    "- El coeficiente de correlación en sí mismo es una medida continua de la fuerza de la correlación. Se debe calcular un valor p correspondiente para interpretar su significación estadística.\n",
    "\n",
    "<img src = 'https://upload.wikimedia.org/wikipedia/commons/d/d4/Correlation_examples2.svg'>\n",
    "\n",
    "\n",
    "\n",
    "## Correlación vs causalidad\n",
    "\n",
    "- La correlación simplemente muestra una relación.\n",
    "- No revela ni implica causalidad.\n",
    "- La causalidad puede demostrarse mediante manipulaciones experimentales.\n",
    "\n",
    "**Ejemplo**\n",
    "\n",
    "- Helado → Ataques de tiburones"
   ]
  },
  {
   "cell_type": "markdown",
   "metadata": {},
   "source": [
    "[Regresar al contenido](#Contenido)"
   ]
  },
  {
   "cell_type": "markdown",
   "metadata": {},
   "source": [
    "\n",
    "## Covarianza y correlación: fórmulas\n",
    "\n",
    "¿Cuál es la diferencia entre covarianza y correlación ?:\n",
    "\n",
    "- La covarianza es un número único que mide la relación lineal entre dos variables.\n",
    "- La covarianza está en la misma escala que los datos originales.\n",
    "- La correlación es la covarianza escalada.\n",
    "- Es independiente de la escala de datos.\n",
    "\n",
    "**Covarianza**\n",
    "\n",
    "$$cov[X, Y] = \\frac{1}{n - 1} \\sum_{i=1}^{n}(x_i - \\bar{x})(y_i - \\bar{y})$$\n",
    "\n",
    "\n",
    "**Correlación**\n",
    "\n",
    "$$r = \\frac{\\sum_{i=1}^{n}(x_i - \\bar{x})(y_i - \\bar{y})}{\\sqrt{\\sum_{i=1}^{n}(x_i - \\bar{x})^2 \\sum_{i=1}^{n}(y_i - \\bar{y})^2}}$$\n",
    "\n",
    "\n",
    "**P-valor**\n",
    "\n",
    "$$t_{n-2} = \\frac{r \\sqrt{n - 2}}{1 - r^2}$$\n",
    "\n",
    "- La significancia estadística se calcula a partir de un valor t que se basa en la fuerza de la correlación y el número de puntos de datos."
   ]
  },
  {
   "cell_type": "code",
   "execution_count": null,
   "metadata": {},
   "outputs": [],
   "source": []
  },
  {
   "cell_type": "markdown",
   "metadata": {},
   "source": [
    "[Regresar al contenido](#Contenido)"
   ]
  },
  {
   "cell_type": "markdown",
   "metadata": {},
   "source": [
    "\n",
    "## El problema con Pearson\n",
    "\n",
    "<img src = 'https://www.researchgate.net/profile/Andrew-Heathcote/publication/280302159/figure/fig2/AS:614021682171910@1523405585885/Anscombes-quartet-highlights-the-importance-of-plotting-data-to-confirm-the-validity-of.png'>\n",
    "\n",
    "\n",
    "- La correlación de Pearson puede representar de forma excesiva o insuficiente las relaciones si contienen no linealidades o valores atípicos.\n",
    "\n",
    "- Pearson es apropiado para datos distribuidos normalmente.\n",
    "\n",
    "\n",
    "\n",
    "### Correlación de Spearman\n",
    "\n",
    "Este es el método dominante para las correlaciones no paramétricas y es una alternativa para la correlación de Pearson.\n",
    "\n",
    "- Pearson y Spearman convergen cuando los datos se distribuyen normalmente.\n",
    "\n",
    "\n",
    "La $\\rho$ de Spearman busca una una relación monótona, independientemente de si la relación es lineal o no lineal.\n",
    "\n",
    "\n",
    "- Para calcular $\\rho$, los datos son ordenados y reemplazados por su respectivo orden.\n",
    "\n",
    "    - $ [3321654, -40, 1, 0] a [4, 1, 3, 2] $\n",
    "    \n",
    "- Calcular el coeficiente de correlación de Pearson en rangos.\n",
    "\n",
    "- Mismo valor p para Pearson."
   ]
  },
  {
   "cell_type": "code",
   "execution_count": null,
   "metadata": {},
   "outputs": [],
   "source": []
  },
  {
   "cell_type": "markdown",
   "metadata": {},
   "source": [
    "[Regresar al contenido](#Contenido)"
   ]
  },
  {
   "cell_type": "markdown",
   "metadata": {},
   "source": [
    "\n",
    "# T-test\n",
    "\n",
    "## Propósito e interpretación de la prueba t\n",
    "\n",
    "La prueba T es una de las estadísticas más importantes y más utilizadas. La idea principal de la prueba t es comparar los valores (normalmente la media) entre dos grupos.\n",
    "\n",
    "$$\n",
    "\\left\\{\n",
    "\\begin{matrix}\n",
    "H_0 & \\mu_1 = \\mu_2\\\\\n",
    "H_1 & \\mu_1 \\ne \\mu_2\\\\\n",
    "\\end{matrix}\n",
    "\\right.\n",
    "$$\n",
    "\n",
    "La fórmula general del t-test es la siguiente:\n",
    "\n",
    "$$t_k = \\frac{\\bar{x} - \\bar{y}}{\\frac{s}{\\sqrt{n}}}$$"
   ]
  },
  {
   "cell_type": "code",
   "execution_count": null,
   "metadata": {},
   "outputs": [],
   "source": []
  },
  {
   "cell_type": "markdown",
   "metadata": {},
   "source": [
    "[Regresar al contenido](#Contenido)"
   ]
  },
  {
   "cell_type": "markdown",
   "metadata": {},
   "source": [
    "## T-test de una muestra\n",
    "\n",
    "Pruebe si se pudo haber extraído un conjunto de números de una distribución con una media especificada.\n",
    "\n",
    "\n",
    "- Probar si el coeficiente intelectual de un grupo de estudiantes es significativamente diferente de 100.\n",
    "\n",
    "$$t_{n - 1} = \\frac{\\bar{x} - \\mu}{\\frac{s}{\\sqrt{n}}}$$\n",
    "\n",
    "\n",
    "- $\\bar{x}$ → media muestral\n",
    "- $\\mu$ → valor de $H_0$ \n",
    "- $s$ → desviasión estandar muestral\n",
    "- $n$ → Número de puntos\n",
    "- $n - 1$ → grados de libertad\n",
    "\n",
    "### T-test de una muestra: supuestos\n",
    "\n",
    "1. Los datos son numéricos (no categóricos).\n",
    "2. Los datos son independientes entre sí.\n",
    "3. Los datos se extraen aleatoriamente de la población a la que se debe hacer una generalización.\n",
    "4. La media y la desviación estándar son medidas válidas de tendencia central y dispersión."
   ]
  },
  {
   "cell_type": "code",
   "execution_count": null,
   "metadata": {},
   "outputs": [],
   "source": []
  },
  {
   "cell_type": "markdown",
   "metadata": {},
   "source": [
    "$$\n",
    "\\left\\{\n",
    "\\begin{matrix}\n",
    "H_0 & \\mu = 0\\\\\n",
    "H_1 & \\mu \\ne 0\\\\\n",
    "\\end{matrix}\n",
    "\\right.\n",
    "$$"
   ]
  },
  {
   "cell_type": "code",
   "execution_count": null,
   "metadata": {},
   "outputs": [],
   "source": []
  },
  {
   "cell_type": "markdown",
   "metadata": {},
   "source": [
    "$$t_{n - 1} = \\frac{\\bar{x} - \\mu}{\\frac{s}{\\sqrt{n}}}$$"
   ]
  },
  {
   "cell_type": "code",
   "execution_count": null,
   "metadata": {},
   "outputs": [],
   "source": []
  },
  {
   "cell_type": "markdown",
   "metadata": {},
   "source": [
    "[Regresar al contenido](#Contenido)"
   ]
  },
  {
   "cell_type": "markdown",
   "metadata": {},
   "source": [
    "# T-test de dos muestras\n",
    "\n",
    "Pruebe si se podrían haber extraído dos conjuntos de números de la misma distribución.\n",
    "\n",
    "\n",
    "**Ejemplo**\n",
    "\n",
    "- Pruebe si los niveles de estrés autoinformados cambian después de 6 semanas de 'distanciamiento social'.\n",
    "\n",
    "(Declaraciones formales: Estime la probabilidad de que los niveles de estrés autoinformados antes y después de 6 semanas de distanciamiento social se extraigan de la misma distribución).\n",
    "\n",
    "Hay varias fórmulas de prueba t de dos muestras. El numerador es siempre el mismo, pero el denominador depende de si los grupos están emparejados o no emparejados, tienen una varianza igual o desigual y tienen tamaños de muestra emparejados o diferentes.\n",
    "\n",
    "- Emparejado o no emparejado: si los dos grupos de datos provienen del mismo o de diferentes individuos.\n",
    "\n",
    "    - Emparejado: Los mismos individuos autoinforman sus niveles de estrés antes y después del distanciamiento social.\n",
    "    - No emparejado: cambio en el estrés relacionado con el distanciamiento social en Dinamarca frente a Singapur.\n",
    "\n",
    "- Varianza igual o desigual: si los dos grupos tienen (aproximadamente) la misma varianza.\n",
    "\n",
    "    - Igualdad de varianza: los grupos 'A' y 'B' son estudiantes caucásicos de 20 años de la misma universidad; El grupo 'A' estudia ingeniería y el grupo 'B' estudia informática.\n",
    "    - Varianza desigual: el grupo 'A' son estudiantes caucásicos de 20 años de la misma universidad de ingeniería, el grupo 'B' es una muestra aleatoria de 20 años de todo el país.\n",
    "\n",
    "- Tamaños de muestra iguales o desiguales: si los grupos tienen el mismo número de valores (se aplica solo a grupos no apareados).\n",
    "\n",
    "$$t_{df} = \\frac{\\bar{x} - \\bar{y}}{\\sqrt{\\frac{(n_1 - 1)s_{1}^{2} + (n_2 - 1)s_{2}^{2}}{n_1 + n_2 - 2}} \\sqrt{\\frac{1}{n_1} + \\frac{1}{n_2}}}$$\n"
   ]
  },
  {
   "cell_type": "markdown",
   "metadata": {},
   "source": [
    "- Comparar el tiempo medio de diferencia en los pacientes que recibieron placebo y la droga 'T'\n",
    "\n",
    "$$\n",
    "\\left\\{\n",
    "\\begin{matrix}\n",
    "H_0 & \\mu_1 = \\mu_2\\\\\n",
    "H_1 & \\mu_1 \\ne \\mu_2\\\\\n",
    "\\end{matrix}\n",
    "\\right.\n",
    "$$"
   ]
  },
  {
   "cell_type": "code",
   "execution_count": null,
   "metadata": {},
   "outputs": [],
   "source": []
  },
  {
   "cell_type": "markdown",
   "metadata": {},
   "source": [
    "[Regresar al contenido](#Contenido)"
   ]
  },
  {
   "cell_type": "markdown",
   "metadata": {},
   "source": [
    "# Wilcoxon signed-rank (T-test no paramétrico)\n",
    "\n",
    "\n",
    "Alternativa no paramétrica al T-test de una o dos muestras.\n",
    "\n",
    "- Se utiliza principalmente cuando los datos no se ajustan al supuesto de normalidad.\n",
    "\n",
    "- Pruebe las diferencias en las medianas en lugar de las diferencias en las medias (la mediana es insensible a los valores atípicos)\n",
    "\n",
    "\n",
    "| Nombre de la prueba | Cuándo usar |\n",
    "|: -------: |: ---------: |\n",
    "| Wilcoxon signed-rank | Una muestra |\n",
    "| Signed-rank | Dos muestras emparejadas |\n",
    "| U-test de Mann-Whitney | Dos muestras independientes |\n",
    "| U-test de Mann-Whitney-Wilcoxon | Dos muestras independientes |\n",
    "| Wilcoxon rank-sum test | Dos muestras independientes |\n",
    "\n",
    "\n",
    "1. Eliminar pares iguales (eliminar pares iguales de puntos de datos que igualen el valor $H_0$)\n",
    "    - ¿Por qué? Los pares iguales no contribuyen a la prueba de ninguna manera.\n",
    "2. Transforma a ranking las direrencias\n",
    "    - $r = rank(|x - y|)$\n",
    "    \n",
    "\n",
    "3. Suma ranking donde $x > y$\n",
    "    - $W = \\sum (r \\times (x > y))$\n",
    "    \n",
    "    \n",
    "4. Convertir a z\n",
    "\n",
    "$$Z = \\frac{W - \\frac{n(n + 1)}{4}}{\\sqrt{\\frac{n(n + 1)(2n + 1)}{24}}}$$\n",
    "\n",
    "\n",
    "\n",
    "- $n$ Es el número de pares restantes.\n",
    "- $Z$ esta normalmente distribuida bajo $H_0$ y se le puede obtener un p-valor."
   ]
  },
  {
   "cell_type": "code",
   "execution_count": null,
   "metadata": {},
   "outputs": [],
   "source": []
  },
  {
   "cell_type": "markdown",
   "metadata": {},
   "source": [
    "[Regresar al contenido](#Contenido)"
   ]
  },
  {
   "cell_type": "markdown",
   "metadata": {},
   "source": [
    "# Ejercicio\n",
    "\n",
    "El siguiente DataFrame contiene información sobre una encuesta en la que la gente califica su felicidad en un puntaje del 1 al 10 en diferentes países.\n",
    "\n",
    "- Con los datos proporcionados a continuación, ¿Se puede afirmar que hay una diferencia entre lo felices que son las personas en Europa Oriental y Latinoamérica?"
   ]
  },
  {
   "cell_type": "code",
   "execution_count": null,
   "metadata": {},
   "outputs": [],
   "source": []
  },
  {
   "cell_type": "code",
   "execution_count": null,
   "metadata": {},
   "outputs": [],
   "source": []
  },
  {
   "cell_type": "markdown",
   "metadata": {},
   "source": [
    "[Regresar al contenido](#Contenido)"
   ]
  }
 ],
 "metadata": {
  "kernelspec": {
   "display_name": "Python 3 (ipykernel)",
   "language": "python",
   "name": "python3"
  },
  "language_info": {
   "codemirror_mode": {
    "name": "ipython",
    "version": 3
   },
   "file_extension": ".py",
   "mimetype": "text/x-python",
   "name": "python",
   "nbconvert_exporter": "python",
   "pygments_lexer": "ipython3",
   "version": "3.11.5"
  },
  "toc": {
   "base_numbering": 1,
   "nav_menu": {},
   "number_sections": true,
   "sideBar": true,
   "skip_h1_title": false,
   "title_cell": "Table of Contents",
   "title_sidebar": "Contents",
   "toc_cell": false,
   "toc_position": {},
   "toc_section_display": true,
   "toc_window_display": false
  },
  "varInspector": {
   "cols": {
    "lenName": 16,
    "lenType": 16,
    "lenVar": 40
   },
   "kernels_config": {
    "python": {
     "delete_cmd_postfix": "",
     "delete_cmd_prefix": "del ",
     "library": "var_list.py",
     "varRefreshCmd": "print(var_dic_list())"
    },
    "r": {
     "delete_cmd_postfix": ") ",
     "delete_cmd_prefix": "rm(",
     "library": "var_list.r",
     "varRefreshCmd": "cat(var_dic_list()) "
    }
   },
   "types_to_exclude": [
    "module",
    "function",
    "builtin_function_or_method",
    "instance",
    "_Feature"
   ],
   "window_display": false
  }
 },
 "nbformat": 4,
 "nbformat_minor": 2
}
