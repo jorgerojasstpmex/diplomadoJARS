{
 "cells": [
  {
   "cell_type": "markdown",
   "id": "f8b81a8b",
   "metadata": {},
   "source": [
    "<hr>\n",
    "<h3>Rango de una matriz</h3>\n",
    "\n",
    "\n",
    "El rango de una matriz es el número máximo de columnas (filas respectivamente) que son linealmente independientes. El rango fila y el rango columna siempre son iguales: este número es llamado simplemente rango de A. Comúnmente se expresa como $rg(A)$. En Python nos apoyaremos de la sublibrería <code>linalg</code> de <code>numpy</code> y de la función <code>matrix_rank</code> para poder conocer el rango de una matriz.\n",
    "\n",
    "<h4>Dependencia Lineal</h4>\n",
    "\n",
    "Se dice que un conjunto de  $n$  vectores son linealmente dependientes si existen escalares  $\\alpha_{i}$  no todos cero, tales que:\n",
    "\n",
    "$$\\alpha_1\\vec{x_1} +  \\alpha_2\\vec{x_2} + \\cdots + \\alpha_n\\vec{x_n} = 0$$\n",
    "\n",
    "tomemos por ejemplo los renglones de la matriz $A$:\n",
    "\n",
    "$$A_3 = \n",
    "\\begin{bmatrix}\n",
    "1 & 2 & 3\\\\\n",
    "4 & 5 & 6\\\\\n",
    "7 & 8 & 9\\\\\n",
    "\\end{bmatrix}\n",
    "$$\n",
    "\n",
    "Si tomamos $\\alpha_1 = 1$, $\\alpha_2 = -2$ y $\\alpha_3 = 1$ vemos que se cumple que:\n",
    "\n",
    "$$\n",
    "\\begin{bmatrix}\n",
    "1\\\\\n",
    "2\\\\\n",
    "3\\\\\n",
    "\\end{bmatrix}\n",
    "-\n",
    "2\n",
    "\\begin{bmatrix}\n",
    "4\\\\\n",
    "5\\\\\n",
    "6\\\\\n",
    "\\end{bmatrix}\n",
    "+\n",
    "\\begin{bmatrix}\n",
    "7\\\\\n",
    "8\\\\\n",
    "9\\\\\n",
    "\\end{bmatrix}\n",
    "= 0\n",
    "$$\n",
    " \n",
    "\n",
    "El rango de una matriz nos puede ayudar a saber si un sistema de ecuaciones tiene solución, utilizando el siguiente teorema:\n",
    "\n",
    "- Un sistema de m ecuaciones con n incógnitas $AX = B$ tiene solución si y solo si $rg(A) = rg(A|B) = r$, y en este caso si $r = n$, entonces el sistema tiene una única solución, y si $r < n$ el sistema tiene infinitas soluciones."
   ]
  },
  {
   "cell_type": "code",
   "execution_count": 1,
   "id": "714572fb",
   "metadata": {},
   "outputs": [],
   "source": [
    "import numpy as np\n",
    "from sympy import *\n",
    "import matplotlib.pyplot as plt"
   ]
  },
  {
   "cell_type": "code",
   "execution_count": 2,
   "id": "781a295b",
   "metadata": {},
   "outputs": [],
   "source": [
    "a = np.array([[1,2,3],[4,5,6],[7,8,9]])"
   ]
  },
  {
   "cell_type": "code",
   "execution_count": 3,
   "id": "a4ff1e3a",
   "metadata": {},
   "outputs": [
    {
     "data": {
      "text/plain": [
       "array([[1, 2, 3],\n",
       "       [4, 5, 6],\n",
       "       [7, 8, 9]])"
      ]
     },
     "execution_count": 3,
     "metadata": {},
     "output_type": "execute_result"
    }
   ],
   "source": [
    "a"
   ]
  },
  {
   "cell_type": "code",
   "execution_count": 4,
   "id": "06fa9f41",
   "metadata": {},
   "outputs": [
    {
     "data": {
      "text/plain": [
       "2"
      ]
     },
     "execution_count": 4,
     "metadata": {},
     "output_type": "execute_result"
    }
   ],
   "source": [
    "np.linalg.matrix_rank(a)"
   ]
  },
  {
   "cell_type": "code",
   "execution_count": 6,
   "id": "19cf4d80",
   "metadata": {},
   "outputs": [],
   "source": [
    "A = Matrix(a)"
   ]
  },
  {
   "cell_type": "code",
   "execution_count": 7,
   "id": "abcceabb",
   "metadata": {},
   "outputs": [
    {
     "data": {
      "text/latex": [
       "$\\displaystyle \\left[\\begin{matrix}1 & 2 & 3\\\\4 & 5 & 6\\\\7 & 8 & 9\\end{matrix}\\right]$"
      ],
      "text/plain": [
       "Matrix([\n",
       "[1, 2, 3],\n",
       "[4, 5, 6],\n",
       "[7, 8, 9]])"
      ]
     },
     "execution_count": 7,
     "metadata": {},
     "output_type": "execute_result"
    }
   ],
   "source": [
    "A"
   ]
  },
  {
   "cell_type": "code",
   "execution_count": 8,
   "id": "1023284e",
   "metadata": {},
   "outputs": [
    {
     "data": {
      "text/plain": [
       "2"
      ]
     },
     "execution_count": 8,
     "metadata": {},
     "output_type": "execute_result"
    }
   ],
   "source": [
    "A.rank()"
   ]
  },
  {
   "cell_type": "code",
   "execution_count": 9,
   "id": "418f9e04",
   "metadata": {},
   "outputs": [
    {
     "data": {
      "text/plain": [
       "['C',\n",
       " 'D',\n",
       " 'H',\n",
       " 'LDLdecomposition',\n",
       " 'LDLsolve',\n",
       " 'LUdecomposition',\n",
       " 'LUdecompositionFF',\n",
       " 'LUdecomposition_Simple',\n",
       " 'LUsolve',\n",
       " 'QRdecomposition',\n",
       " 'QRsolve',\n",
       " 'T',\n",
       " '__abs__',\n",
       " '__add__',\n",
       " '__annotations__',\n",
       " '__array__',\n",
       " '__array_priority__',\n",
       " '__class__',\n",
       " '__delattr__',\n",
       " '__dict__',\n",
       " '__dir__',\n",
       " '__doc__',\n",
       " '__eq__',\n",
       " '__format__',\n",
       " '__ge__',\n",
       " '__getattribute__',\n",
       " '__getitem__',\n",
       " '__getstate__',\n",
       " '__gt__',\n",
       " '__hash__',\n",
       " '__init__',\n",
       " '__init_subclass__',\n",
       " '__le__',\n",
       " '__len__',\n",
       " '__lt__',\n",
       " '__matmul__',\n",
       " '__mod__',\n",
       " '__module__',\n",
       " '__mul__',\n",
       " '__ne__',\n",
       " '__neg__',\n",
       " '__new__',\n",
       " '__pow__',\n",
       " '__radd__',\n",
       " '__reduce__',\n",
       " '__reduce_ex__',\n",
       " '__repr__',\n",
       " '__rmatmul__',\n",
       " '__rmul__',\n",
       " '__rsub__',\n",
       " '__setattr__',\n",
       " '__setitem__',\n",
       " '__sizeof__',\n",
       " '__slots__',\n",
       " '__str__',\n",
       " '__sub__',\n",
       " '__subclasshook__',\n",
       " '__truediv__',\n",
       " '__weakref__',\n",
       " '_class_priority',\n",
       " '_diff_wrt',\n",
       " '_dod_to_DomainMatrix',\n",
       " '_eval_Abs',\n",
       " '_eval_Mod',\n",
       " '_eval_add',\n",
       " '_eval_adjoint',\n",
       " '_eval_applyfunc',\n",
       " '_eval_as_real_imag',\n",
       " '_eval_atoms',\n",
       " '_eval_col_del',\n",
       " '_eval_col_insert',\n",
       " '_eval_col_join',\n",
       " '_eval_col_op_add_multiple_to_other_col',\n",
       " '_eval_col_op_multiply_col_by_const',\n",
       " '_eval_col_op_swap',\n",
       " '_eval_conjugate',\n",
       " '_eval_derivative',\n",
       " '_eval_det_bareiss',\n",
       " '_eval_det_berkowitz',\n",
       " '_eval_det_lu',\n",
       " '_eval_determinant',\n",
       " '_eval_diag',\n",
       " '_eval_extract',\n",
       " '_eval_eye',\n",
       " '_eval_free_symbols',\n",
       " '_eval_get_diag_blocks',\n",
       " '_eval_has',\n",
       " '_eval_inverse',\n",
       " '_eval_is_Identity',\n",
       " '_eval_is_anti_symmetric',\n",
       " '_eval_is_diagonal',\n",
       " '_eval_is_lower',\n",
       " '_eval_is_lower_hessenberg',\n",
       " '_eval_is_matrix_hermitian',\n",
       " '_eval_is_symbolic',\n",
       " '_eval_is_symmetric',\n",
       " '_eval_is_upper_hessenberg',\n",
       " '_eval_is_zero_matrix',\n",
       " '_eval_jordan_block',\n",
       " '_eval_matrix_exp_jblock',\n",
       " '_eval_matrix_log_jblock',\n",
       " '_eval_matrix_mul',\n",
       " '_eval_matrix_mul_elementwise',\n",
       " '_eval_matrix_rmul',\n",
       " '_eval_ones',\n",
       " '_eval_permute_cols',\n",
       " '_eval_permute_rows',\n",
       " '_eval_pow_by_cayley',\n",
       " '_eval_pow_by_recursion',\n",
       " '_eval_pow_by_recursion_dotprodsimp',\n",
       " '_eval_row_del',\n",
       " '_eval_row_insert',\n",
       " '_eval_row_join',\n",
       " '_eval_row_op_add_multiple_to_other_row',\n",
       " '_eval_row_op_multiply_row_by_const',\n",
       " '_eval_row_op_swap',\n",
       " '_eval_scalar_mul',\n",
       " '_eval_scalar_rmul',\n",
       " '_eval_simplify',\n",
       " '_eval_todok',\n",
       " '_eval_tolist',\n",
       " '_eval_trace',\n",
       " '_eval_transpose',\n",
       " '_eval_trigsimp',\n",
       " '_eval_values',\n",
       " '_eval_vec',\n",
       " '_eval_vech',\n",
       " '_eval_wilkinson',\n",
       " '_eval_zeros',\n",
       " '_flat_list_to_DomainMatrix',\n",
       " '_format_str',\n",
       " '_fromrep',\n",
       " '_handle_creation_inputs',\n",
       " '_handle_ndarray',\n",
       " '_has_nonnegative_diagonals',\n",
       " '_has_positive_diagonals',\n",
       " '_legacy_array_dot',\n",
       " '_mat',\n",
       " '_matrix_pow_by_jordan_blocks',\n",
       " '_new',\n",
       " '_normalize_op_args',\n",
       " '_op_priority',\n",
       " '_rep',\n",
       " '_repr_disabled',\n",
       " '_repr_latex_',\n",
       " '_repr_png_',\n",
       " '_repr_svg_',\n",
       " '_sage_',\n",
       " '_setitem',\n",
       " '_simplify',\n",
       " '_smat_to_DomainMatrix',\n",
       " '_sympify',\n",
       " '_unify_element_sympy',\n",
       " 'add',\n",
       " 'adjoint',\n",
       " 'adjugate',\n",
       " 'analytic_func',\n",
       " 'applyfunc',\n",
       " 'as_immutable',\n",
       " 'as_mutable',\n",
       " 'as_real_imag',\n",
       " 'atoms',\n",
       " 'berkowitz',\n",
       " 'berkowitz_charpoly',\n",
       " 'berkowitz_det',\n",
       " 'berkowitz_eigenvals',\n",
       " 'berkowitz_minors',\n",
       " 'bidiagonal_decomposition',\n",
       " 'bidiagonalize',\n",
       " 'charpoly',\n",
       " 'cholesky',\n",
       " 'cholesky_solve',\n",
       " 'cofactor',\n",
       " 'cofactorMatrix',\n",
       " 'cofactor_matrix',\n",
       " 'col',\n",
       " 'col_del',\n",
       " 'col_insert',\n",
       " 'col_join',\n",
       " 'col_op',\n",
       " 'col_swap',\n",
       " 'cols',\n",
       " 'columnspace',\n",
       " 'companion',\n",
       " 'condition_number',\n",
       " 'conjugate',\n",
       " 'connected_components',\n",
       " 'connected_components_decomposition',\n",
       " 'copy',\n",
       " 'copyin_list',\n",
       " 'copyin_matrix',\n",
       " 'cross',\n",
       " 'det',\n",
       " 'det_LU_decomposition',\n",
       " 'det_bareis',\n",
       " 'diag',\n",
       " 'diagonal',\n",
       " 'diagonal_solve',\n",
       " 'diagonalize',\n",
       " 'diff',\n",
       " 'doit',\n",
       " 'dot',\n",
       " 'dual',\n",
       " 'echelon_form',\n",
       " 'eigenvals',\n",
       " 'eigenvects',\n",
       " 'elementary_col_op',\n",
       " 'elementary_row_op',\n",
       " 'equals',\n",
       " 'evalf',\n",
       " 'exp',\n",
       " 'expand',\n",
       " 'extract',\n",
       " 'eye',\n",
       " 'fill',\n",
       " 'flat',\n",
       " 'free_symbols',\n",
       " 'gauss_jordan_solve',\n",
       " 'get_diag_blocks',\n",
       " 'has',\n",
       " 'hstack',\n",
       " 'integrate',\n",
       " 'inv',\n",
       " 'inv_mod',\n",
       " 'inverse_ADJ',\n",
       " 'inverse_BLOCK',\n",
       " 'inverse_CH',\n",
       " 'inverse_GE',\n",
       " 'inverse_LDL',\n",
       " 'inverse_LU',\n",
       " 'inverse_QR',\n",
       " 'irregular',\n",
       " 'is_Identity',\n",
       " 'is_Matrix',\n",
       " 'is_MatrixExpr',\n",
       " 'is_anti_symmetric',\n",
       " 'is_diagonal',\n",
       " 'is_diagonalizable',\n",
       " 'is_echelon',\n",
       " 'is_hermitian',\n",
       " 'is_indefinite',\n",
       " 'is_lower',\n",
       " 'is_lower_hessenberg',\n",
       " 'is_negative_definite',\n",
       " 'is_negative_semidefinite',\n",
       " 'is_nilpotent',\n",
       " 'is_positive_definite',\n",
       " 'is_positive_semidefinite',\n",
       " 'is_square',\n",
       " 'is_strongly_diagonally_dominant',\n",
       " 'is_symbolic',\n",
       " 'is_symmetric',\n",
       " 'is_upper',\n",
       " 'is_upper_hessenberg',\n",
       " 'is_weakly_diagonally_dominant',\n",
       " 'is_zero',\n",
       " 'is_zero_matrix',\n",
       " 'jacobian',\n",
       " 'jordan_block',\n",
       " 'jordan_cell',\n",
       " 'jordan_cells',\n",
       " 'jordan_form',\n",
       " 'key2bounds',\n",
       " 'key2ij',\n",
       " 'kind',\n",
       " 'left_eigenvects',\n",
       " 'limit',\n",
       " 'log',\n",
       " 'lower_triangular',\n",
       " 'lower_triangular_solve',\n",
       " 'minor',\n",
       " 'minorEntry',\n",
       " 'minorMatrix',\n",
       " 'minor_submatrix',\n",
       " 'multiply',\n",
       " 'multiply_elementwise',\n",
       " 'n',\n",
       " 'norm',\n",
       " 'normalized',\n",
       " 'nullspace',\n",
       " 'one',\n",
       " 'ones',\n",
       " 'orthogonalize',\n",
       " 'per',\n",
       " 'permute',\n",
       " 'permuteBkwd',\n",
       " 'permuteFwd',\n",
       " 'permute_cols',\n",
       " 'permute_rows',\n",
       " 'pinv',\n",
       " 'pinv_solve',\n",
       " 'pow',\n",
       " 'print_nonzero',\n",
       " 'project',\n",
       " 'rank',\n",
       " 'rank_decomposition',\n",
       " 'refine',\n",
       " 'replace',\n",
       " 'reshape',\n",
       " 'rmultiply',\n",
       " 'rot90',\n",
       " 'row',\n",
       " 'row_del',\n",
       " 'row_insert',\n",
       " 'row_join',\n",
       " 'row_op',\n",
       " 'row_swap',\n",
       " 'rows',\n",
       " 'rowspace',\n",
       " 'rref',\n",
       " 'shape',\n",
       " 'simplify',\n",
       " 'singular_value_decomposition',\n",
       " 'singular_values',\n",
       " 'solve',\n",
       " 'solve_least_squares',\n",
       " 'strongly_connected_components',\n",
       " 'strongly_connected_components_decomposition',\n",
       " 'subs',\n",
       " 'table',\n",
       " 'todod',\n",
       " 'todok',\n",
       " 'tolist',\n",
       " 'trace',\n",
       " 'transpose',\n",
       " 'upper_hessenberg_decomposition',\n",
       " 'upper_triangular',\n",
       " 'upper_triangular_solve',\n",
       " 'values',\n",
       " 'vec',\n",
       " 'vech',\n",
       " 'vstack',\n",
       " 'wilkinson',\n",
       " 'xreplace',\n",
       " 'zero',\n",
       " 'zeros',\n",
       " 'zip_row_op']"
      ]
     },
     "execution_count": 9,
     "metadata": {},
     "output_type": "execute_result"
    }
   ],
   "source": [
    "dir(A)"
   ]
  },
  {
   "cell_type": "code",
   "execution_count": 10,
   "id": "b967101d",
   "metadata": {},
   "outputs": [
    {
     "name": "stdout",
     "output_type": "stream",
     "text": [
      "Help on method adjugate in module sympy.matrices.matrices:\n",
      "\n",
      "adjugate(method='berkowitz') method of sympy.matrices.dense.MutableDenseMatrix instance\n",
      "    Returns the adjugate, or classical adjoint, of\n",
      "    a matrix.  That is, the transpose of the matrix of cofactors.\n",
      "    \n",
      "    https://en.wikipedia.org/wiki/Adjugate\n",
      "    \n",
      "    Parameters\n",
      "    ==========\n",
      "    \n",
      "    method : string, optional\n",
      "        Method to use to find the cofactors, can be \"bareiss\", \"berkowitz\" or\n",
      "        \"lu\".\n",
      "    \n",
      "    Examples\n",
      "    ========\n",
      "    \n",
      "    >>> from sympy import Matrix\n",
      "    >>> M = Matrix([[1, 2], [3, 4]])\n",
      "    >>> M.adjugate()\n",
      "    Matrix([\n",
      "    [ 4, -2],\n",
      "    [-3,  1]])\n",
      "    \n",
      "    See Also\n",
      "    ========\n",
      "    \n",
      "    cofactor_matrix\n",
      "    sympy.matrices.common.MatrixCommon.transpose\n",
      "\n"
     ]
    }
   ],
   "source": [
    "help(A.adjugate)"
   ]
  },
  {
   "cell_type": "markdown",
   "id": "d984a26b",
   "metadata": {},
   "source": [
    "<h2>Sistemas de ecuaciones</h2>\n",
    "\n",
    "Otra aplicación que le podemos dar a las matrices y a sus determinantes es al resolver sistemas de ecuaciones, los sistemas de ecuaciones los podremos clasificar en 3 tipos según si estos tienen una (determinados), infinitas (indeterminados), o ninguna (incompatibles) tomemos como ejemplo el siguiente sistema:\n",
    "\n",
    "$$\n",
    "\\begin{eqnarray}\n",
    "3x + 2y + z  = 1 \\\\\n",
    "5x + 3y + 4z = 2 \\\\\n",
    "x + y - z = 1\n",
    "\\nonumber\n",
    "\\end{eqnarray}\n",
    "$$\n",
    "\n",
    "\n",
    "Dicho sistema lo podremos expresar de forma matricial de la siguiente forma:\n",
    "\n",
    "$$\n",
    "\\begin{bmatrix}\n",
    "3 & 2 & 1 \\\\\n",
    "5 & 3 & 4 \\\\\n",
    "1 & 1 & -1 \\\\\n",
    "\\end{bmatrix}\n",
    "\\begin{bmatrix}\n",
    "x\\\\\n",
    "y\\\\\n",
    "z\\\\\n",
    "\\end{bmatrix}\n",
    "= \n",
    "\\begin{bmatrix}\n",
    "1\\\\\n",
    "2\\\\\n",
    "1\\\\\n",
    "\\end{bmatrix}\n",
    "$$\n",
    "\n",
    "$$A X = B$$\n",
    "\n",
    "\n",
    "A la matriz $A$ la llamaremos matriz del sistema, y definiremos la matriz aumentada $AB$ como la matriz que tiene las mismas columnas de $A$, más los elementos de $B$ como una columna adicional:\n",
    "\n",
    "$$\n",
    "AB =\n",
    "\\begin{bmatrix}\n",
    "3 & 2 & 1 & 1\\\\\n",
    "5 & 3 & 4 & 2 \\\\\n",
    "1 & 1 & -1 & 1 \\\\\n",
    "\\end{bmatrix}\n",
    "$$\n",
    "\n",
    "recordemos que podemos saber si un sistema tiene solución usando el siguiente teorema:\n",
    "\n",
    "- Un sistema de m ecuaciones con n incógnitas $AX = B$ tiene solución si y solo si $rg(A) = rg(A|B) = r$, y en este caso si $r = n$, entonces el sistema tiene una única solución, y si $r < n$ el sistema tiene infinitas soluciones.\n",
    "\n",
    "\n",
    "\n",
    "\n",
    "\n",
    "\n"
   ]
  },
  {
   "cell_type": "code",
   "execution_count": 27,
   "id": "2e32a766",
   "metadata": {},
   "outputs": [],
   "source": [
    "a = np.array([[3,2,1],[5,3,4],[1,1,-1]])"
   ]
  },
  {
   "cell_type": "code",
   "execution_count": 28,
   "id": "3b1c1171",
   "metadata": {},
   "outputs": [],
   "source": [
    "A = Matrix([[3,2,1],[5,3,4],[1,1,-1]])"
   ]
  },
  {
   "cell_type": "code",
   "execution_count": 13,
   "id": "494d78d7",
   "metadata": {},
   "outputs": [
    {
     "data": {
      "text/latex": [
       "$\\displaystyle \\left[\\begin{matrix}3 & 2 & 1\\\\5 & 3 & 4\\\\1 & 1 & -1\\end{matrix}\\right]$"
      ],
      "text/plain": [
       "Matrix([\n",
       "[3, 2,  1],\n",
       "[5, 3,  4],\n",
       "[1, 1, -1]])"
      ]
     },
     "execution_count": 13,
     "metadata": {},
     "output_type": "execute_result"
    }
   ],
   "source": [
    "A"
   ]
  },
  {
   "cell_type": "code",
   "execution_count": 15,
   "id": "5eca8c8c",
   "metadata": {},
   "outputs": [],
   "source": [
    "x,y,z =  symbols('x,y,z')\n",
    "X = Matrix([x,y,z])"
   ]
  },
  {
   "cell_type": "code",
   "execution_count": 16,
   "id": "9b7a478c",
   "metadata": {},
   "outputs": [
    {
     "data": {
      "text/latex": [
       "$\\displaystyle \\left[\\begin{matrix}x\\\\y\\\\z\\end{matrix}\\right]$"
      ],
      "text/plain": [
       "Matrix([\n",
       "[x],\n",
       "[y],\n",
       "[z]])"
      ]
     },
     "execution_count": 16,
     "metadata": {},
     "output_type": "execute_result"
    }
   ],
   "source": [
    "X"
   ]
  },
  {
   "cell_type": "code",
   "execution_count": 17,
   "id": "639e706c",
   "metadata": {},
   "outputs": [
    {
     "data": {
      "text/latex": [
       "$\\displaystyle \\left[\\begin{matrix}3 x + 2 y + z\\\\5 x + 3 y + 4 z\\\\x + y - z\\end{matrix}\\right]$"
      ],
      "text/plain": [
       "Matrix([\n",
       "[  3*x + 2*y + z],\n",
       "[5*x + 3*y + 4*z],\n",
       "[      x + y - z]])"
      ]
     },
     "execution_count": 17,
     "metadata": {},
     "output_type": "execute_result"
    }
   ],
   "source": [
    "A*X"
   ]
  },
  {
   "cell_type": "code",
   "execution_count": 29,
   "id": "f87fc6f2",
   "metadata": {},
   "outputs": [
    {
     "data": {
      "text/plain": [
       "array([[ 3,  2,  1],\n",
       "       [ 5,  3,  4],\n",
       "       [ 1,  1, -1]])"
      ]
     },
     "execution_count": 29,
     "metadata": {},
     "output_type": "execute_result"
    }
   ],
   "source": [
    "a"
   ]
  },
  {
   "cell_type": "code",
   "execution_count": 19,
   "id": "de8de8c3",
   "metadata": {},
   "outputs": [],
   "source": [
    "b=np.array([1,2,1])"
   ]
  },
  {
   "cell_type": "code",
   "execution_count": 20,
   "id": "0e11e80a",
   "metadata": {},
   "outputs": [
    {
     "data": {
      "text/plain": [
       "array([1, 2, 1])"
      ]
     },
     "execution_count": 20,
     "metadata": {},
     "output_type": "execute_result"
    }
   ],
   "source": [
    "b"
   ]
  },
  {
   "cell_type": "code",
   "execution_count": 40,
   "id": "cfce8e81",
   "metadata": {},
   "outputs": [],
   "source": [
    "ab = np.column_stack([a,b])"
   ]
  },
  {
   "cell_type": "code",
   "execution_count": 41,
   "id": "84c973db",
   "metadata": {},
   "outputs": [
    {
     "data": {
      "text/plain": [
       "array([[ 3,  2,  1,  1],\n",
       "       [ 5,  3,  4,  2],\n",
       "       [ 1,  1, -1,  1]])"
      ]
     },
     "execution_count": 41,
     "metadata": {},
     "output_type": "execute_result"
    }
   ],
   "source": [
    "ab"
   ]
  },
  {
   "cell_type": "code",
   "execution_count": 44,
   "id": "542617e5",
   "metadata": {},
   "outputs": [
    {
     "data": {
      "text/latex": [
       "$\\displaystyle \\left[\\begin{matrix}3 & 2 & 1 & 1\\\\5 & 3 & 4 & 2\\\\1 & 1 & -1 & 1\\end{matrix}\\right]$"
      ],
      "text/plain": [
       "Matrix([\n",
       "[3, 2,  1, 1],\n",
       "[5, 3,  4, 2],\n",
       "[1, 1, -1, 1]])"
      ]
     },
     "execution_count": 44,
     "metadata": {},
     "output_type": "execute_result"
    }
   ],
   "source": [
    "Matrix (ab)"
   ]
  },
  {
   "cell_type": "code",
   "execution_count": 45,
   "id": "5ce4250d",
   "metadata": {},
   "outputs": [
    {
     "data": {
      "text/plain": [
       "3"
      ]
     },
     "execution_count": 45,
     "metadata": {},
     "output_type": "execute_result"
    }
   ],
   "source": [
    "np.linalg.matrix_rank(a)"
   ]
  },
  {
   "cell_type": "code",
   "execution_count": 46,
   "id": "5d9d172d",
   "metadata": {},
   "outputs": [
    {
     "data": {
      "text/plain": [
       "3"
      ]
     },
     "execution_count": 46,
     "metadata": {},
     "output_type": "execute_result"
    }
   ],
   "source": [
    "np.linalg.matrix_rank(ab)"
   ]
  },
  {
   "cell_type": "code",
   "execution_count": 49,
   "id": "b6796e8b",
   "metadata": {},
   "outputs": [
    {
     "data": {
      "text/plain": [
       "(3, 3)"
      ]
     },
     "execution_count": 49,
     "metadata": {},
     "output_type": "execute_result"
    }
   ],
   "source": [
    "a.shape"
   ]
  },
  {
   "cell_type": "code",
   "execution_count": 50,
   "id": "32603e08",
   "metadata": {},
   "outputs": [
    {
     "data": {
      "text/plain": [
       "(3, 3)"
      ]
     },
     "execution_count": 50,
     "metadata": {},
     "output_type": "execute_result"
    }
   ],
   "source": [
    "A.shape"
   ]
  },
  {
   "cell_type": "code",
   "execution_count": 51,
   "id": "b3a4dcc8",
   "metadata": {},
   "outputs": [],
   "source": [
    "import pandas as pd"
   ]
  },
  {
   "cell_type": "code",
   "execution_count": 52,
   "id": "4c78656c",
   "metadata": {},
   "outputs": [],
   "source": [
    "df = pd.DataFrame(a)"
   ]
  },
  {
   "cell_type": "code",
   "execution_count": 54,
   "id": "6594aae3",
   "metadata": {},
   "outputs": [
    {
     "data": {
      "text/plain": [
       "(3, 3)"
      ]
     },
     "execution_count": 54,
     "metadata": {},
     "output_type": "execute_result"
    }
   ],
   "source": [
    "df.shape"
   ]
  },
  {
   "cell_type": "code",
   "execution_count": 55,
   "id": "f8437b62",
   "metadata": {},
   "outputs": [
    {
     "data": {
      "text/plain": [
       "3"
      ]
     },
     "execution_count": 55,
     "metadata": {},
     "output_type": "execute_result"
    }
   ],
   "source": [
    "np.linalg.matrix_rank(a)"
   ]
  },
  {
   "cell_type": "code",
   "execution_count": 57,
   "id": "9a850ecf",
   "metadata": {},
   "outputs": [
    {
     "data": {
      "text/plain": [
       "3"
      ]
     },
     "execution_count": 57,
     "metadata": {},
     "output_type": "execute_result"
    }
   ],
   "source": [
    "a.shape[1]"
   ]
  },
  {
   "cell_type": "markdown",
   "id": "aee86f6d",
   "metadata": {},
   "source": [
    "Mutables\n",
    "-Listas\n",
    "-Arrays (Numpy)\n",
    "-Diccionarios\n",
    "-DataFrames (Pandas)\n",
    "\n",
    "Inmutables\n",
    "-Tuplas\n",
    "-Cadenas"
   ]
  },
  {
   "cell_type": "code",
   "execution_count": 60,
   "id": "87a7267c",
   "metadata": {},
   "outputs": [
    {
     "ename": "SyntaxError",
     "evalue": "invalid syntax. Perhaps you forgot a comma? (1497427666.py, line 1)",
     "output_type": "error",
     "traceback": [
      "\u001b[1;36m  Cell \u001b[1;32mIn[60], line 1\u001b[1;36m\u001b[0m\n\u001b[1;33m    def verificador_solucion(A : \"Numpy Array\", B: Numpu Array):\u001b[0m\n\u001b[1;37m                                                   ^\u001b[0m\n\u001b[1;31mSyntaxError\u001b[0m\u001b[1;31m:\u001b[0m invalid syntax. Perhaps you forgot a comma?\n"
     ]
    }
   ],
   "source": [
    "def verificador_solucion(A : \"Numpy Array\", B: Numpu Array):\n",
    "    \n",
    "    \"\"\"\n",
    "    Funcion bla\n",
    "    \"\"\"\n",
    "    \n",
    "    AB = np.column_stack([A,B])\n",
    "    \n",
    "    if np.linalg.matrix_rank(A) == np.linalg.matrix_rank(AB):\n",
    "        if np.linalg.matrix_rank(A) == A.shape[1]:\n",
    "            print(\"El sistema tiene solucion única\")\n",
    "        else:\n",
    "            print(\"El sistema tiene infinitas soluciones\")\n",
    "    else:\n",
    "        print(\"El sistema no tiene solución\")"
   ]
  },
  {
   "cell_type": "code",
   "execution_count": 59,
   "id": "659a7a9d",
   "metadata": {},
   "outputs": [
    {
     "ename": "NameError",
     "evalue": "name 'verificador_solucion' is not defined",
     "output_type": "error",
     "traceback": [
      "\u001b[1;31m---------------------------------------------------------------------------\u001b[0m",
      "\u001b[1;31mNameError\u001b[0m                                 Traceback (most recent call last)",
      "Cell \u001b[1;32mIn[59], line 1\u001b[0m\n\u001b[1;32m----> 1\u001b[0m help(verificador_solucion)\n",
      "\u001b[1;31mNameError\u001b[0m: name 'verificador_solucion' is not defined"
     ]
    }
   ],
   "source": [
    "help(verificador_solucion)"
   ]
  },
  {
   "cell_type": "code",
   "execution_count": null,
   "id": "b8b09676",
   "metadata": {},
   "outputs": [],
   "source": []
  },
  {
   "cell_type": "markdown",
   "id": "446d1290",
   "metadata": {},
   "source": [
    "La matriz cuadrada de la expresión anterior se conoce como la matriz asociada al sistema, si el determinante de dicha matriz es distinto de 0, podemos garantizar que existe $A^{-1}$ y podemos escribir:\n",
    "\n",
    "$$ A^{-1} A X = A^{-1} B $$\n",
    "$$ I_n X = A^{-1} B$$\n",
    "$$ X = A^{-1} B $$\n",
    "\n",
    "Al realizar el producto $A^{-1} B$ obtendremos la solución al sistema\n",
    "\n",
    "En Numpy dentro de la subpaquetería _linalg_ tenemos la función _solve_ que nos ayuda a resolver sistemas de ecuaciones\n"
   ]
  },
  {
   "cell_type": "code",
   "execution_count": 61,
   "id": "91363406",
   "metadata": {},
   "outputs": [
    {
     "data": {
      "text/plain": [
       "array([[ 3,  2,  1],\n",
       "       [ 5,  3,  4],\n",
       "       [ 1,  1, -1]])"
      ]
     },
     "execution_count": 61,
     "metadata": {},
     "output_type": "execute_result"
    }
   ],
   "source": [
    "a"
   ]
  },
  {
   "cell_type": "code",
   "execution_count": 62,
   "id": "e0af303c",
   "metadata": {},
   "outputs": [
    {
     "data": {
      "text/plain": [
       "array([1, 2, 1])"
      ]
     },
     "execution_count": 62,
     "metadata": {},
     "output_type": "execute_result"
    }
   ],
   "source": [
    "b"
   ]
  },
  {
   "cell_type": "code",
   "execution_count": 63,
   "id": "96b18900",
   "metadata": {},
   "outputs": [
    {
     "data": {
      "text/plain": [
       "array([-4.,  6.,  1.])"
      ]
     },
     "execution_count": 63,
     "metadata": {},
     "output_type": "execute_result"
    }
   ],
   "source": [
    "np.linalg.inv(a)@b"
   ]
  },
  {
   "cell_type": "code",
   "execution_count": 64,
   "id": "0d70c63e",
   "metadata": {},
   "outputs": [
    {
     "data": {
      "text/plain": [
       "array([-4.,  6.,  1.])"
      ]
     },
     "execution_count": 64,
     "metadata": {},
     "output_type": "execute_result"
    }
   ],
   "source": [
    "np.linalg.solve(a,b)"
   ]
  },
  {
   "cell_type": "code",
   "execution_count": 65,
   "id": "86ffa9ae",
   "metadata": {},
   "outputs": [
    {
     "name": "stdout",
     "output_type": "stream",
     "text": [
      "9.02 µs ± 537 ns per loop (mean ± std. dev. of 7 runs, 100,000 loops each)\n"
     ]
    }
   ],
   "source": [
    "%timeit np.linalg.inv(a)@b"
   ]
  },
  {
   "cell_type": "code",
   "execution_count": 66,
   "id": "f7a2df6c",
   "metadata": {},
   "outputs": [
    {
     "name": "stdout",
     "output_type": "stream",
     "text": [
      "7.69 µs ± 871 ns per loop (mean ± std. dev. of 7 runs, 100,000 loops each)\n"
     ]
    }
   ],
   "source": [
    "%timeit np.linalg.solve(a,b)"
   ]
  },
  {
   "cell_type": "code",
   "execution_count": 69,
   "id": "f73fc14d",
   "metadata": {},
   "outputs": [],
   "source": [
    "m =np.random.randint(1, 1_000_000, 10_000).reshape((100,100))"
   ]
  },
  {
   "cell_type": "code",
   "execution_count": 70,
   "id": "32a4b27d",
   "metadata": {},
   "outputs": [
    {
     "data": {
      "text/plain": [
       "(100, 100)"
      ]
     },
     "execution_count": 70,
     "metadata": {},
     "output_type": "execute_result"
    }
   ],
   "source": [
    "m.shape"
   ]
  },
  {
   "cell_type": "code",
   "execution_count": 72,
   "id": "56aaca46",
   "metadata": {},
   "outputs": [],
   "source": [
    "c =np.random.randint(1, 1_000_000, 100)"
   ]
  },
  {
   "cell_type": "code",
   "execution_count": 73,
   "id": "d3b24b90",
   "metadata": {},
   "outputs": [
    {
     "data": {
      "text/plain": [
       "array([720420, 476984, 994383, 842737, 435875, 695170, 517651, 930325,\n",
       "       488425, 144297, 400872, 114230,  57093, 146668, 672400, 100729,\n",
       "       646053, 880551, 485013, 479092, 937644, 182531,  53875, 205116,\n",
       "        81857, 960653, 897389, 100781, 912602, 190188, 698913, 321355,\n",
       "       445097,  70705, 557950, 225949, 318400, 461598, 907030, 465136,\n",
       "       325115, 440174, 466353, 308162, 173957, 311528, 100536, 966615,\n",
       "       519413, 264129,  75661, 354456, 131344, 535459,  39052, 995777,\n",
       "       415710, 565820, 201427, 633090, 304393, 650395, 859552, 207024,\n",
       "       176633, 968772, 105277, 401288, 886782, 702547,  34576, 587815,\n",
       "       643358, 796712, 321149, 282984, 173406, 445087,  16290, 408681,\n",
       "       471440, 274241, 518623, 418801, 875320, 245347, 251417, 166974,\n",
       "       443280, 241911, 724751, 661302, 961202,  64267, 371123, 146222,\n",
       "       527551, 877101, 889535, 255510])"
      ]
     },
     "execution_count": 73,
     "metadata": {},
     "output_type": "execute_result"
    }
   ],
   "source": [
    "c"
   ]
  },
  {
   "cell_type": "code",
   "execution_count": null,
   "id": "dff6abcc",
   "metadata": {},
   "outputs": [],
   "source": []
  },
  {
   "cell_type": "code",
   "execution_count": null,
   "id": "995e4cc5",
   "metadata": {},
   "outputs": [],
   "source": []
  },
  {
   "cell_type": "code",
   "execution_count": null,
   "id": "b6524351",
   "metadata": {},
   "outputs": [],
   "source": []
  },
  {
   "cell_type": "markdown",
   "id": "c318184d",
   "metadata": {},
   "source": [
    "<h3>Ejercicios</h3>\n",
    "\n",
    "- En el aula de Alberto hay un total de $27$ alumnos, habiendo el doble de chicas que de chicos. ¿Cuántos chicos y chicas hay en la clase de Alberto?"
   ]
  },
  {
   "cell_type": "code",
   "execution_count": 74,
   "id": "d90728aa",
   "metadata": {},
   "outputs": [],
   "source": [
    "d = np.array([[2,-1],[1,1]])"
   ]
  },
  {
   "cell_type": "code",
   "execution_count": 75,
   "id": "b55a5b5f",
   "metadata": {},
   "outputs": [
    {
     "data": {
      "text/plain": [
       "array([[ 2, -1],\n",
       "       [ 1,  1]])"
      ]
     },
     "execution_count": 75,
     "metadata": {},
     "output_type": "execute_result"
    }
   ],
   "source": [
    "d"
   ]
  },
  {
   "cell_type": "code",
   "execution_count": 76,
   "id": "7c075d0a",
   "metadata": {},
   "outputs": [],
   "source": [
    "x,y =  symbols('x,y')\n",
    "Y = Matrix([x,y])"
   ]
  },
  {
   "cell_type": "code",
   "execution_count": 78,
   "id": "2a096e8e",
   "metadata": {},
   "outputs": [
    {
     "data": {
      "text/latex": [
       "$\\displaystyle \\left[\\begin{matrix}2 x - y\\\\x + y\\end{matrix}\\right]$"
      ],
      "text/plain": [
       "Matrix([\n",
       "[2*x - y],\n",
       "[  x + y]])"
      ]
     },
     "execution_count": 78,
     "metadata": {},
     "output_type": "execute_result"
    }
   ],
   "source": [
    "d*Y"
   ]
  },
  {
   "cell_type": "code",
   "execution_count": 79,
   "id": "a528637d",
   "metadata": {},
   "outputs": [],
   "source": [
    "r= np.array([0,27])"
   ]
  },
  {
   "cell_type": "code",
   "execution_count": 80,
   "id": "102fc6f1",
   "metadata": {},
   "outputs": [
    {
     "data": {
      "text/plain": [
       "array([ 9., 18.])"
      ]
     },
     "execution_count": 80,
     "metadata": {},
     "output_type": "execute_result"
    }
   ],
   "source": [
    "np.linalg.solve(d,r)"
   ]
  },
  {
   "cell_type": "markdown",
   "id": "7917a6d9",
   "metadata": {},
   "source": [
    "- Luis invirtió una parte de los $\\$8000$ de sus ahorros en un plan con un $3\\%$ de rentabilidad anual y la otra parte la invierte en un plan con un $5\\%$ de rentabilidad anual.\n",
    "\n",
    "¿Cuánto dinero invirtió Luis en cada plan si después de un año tiene $\\$8340$?"
   ]
  },
  {
   "cell_type": "code",
   "execution_count": 81,
   "id": "c7f3c5c1",
   "metadata": {},
   "outputs": [],
   "source": [
    "monto = np.array([[1,1],[0.03,0.05]])"
   ]
  },
  {
   "cell_type": "code",
   "execution_count": 82,
   "id": "03790add",
   "metadata": {},
   "outputs": [],
   "source": [
    "result = np.array([8000,340])"
   ]
  },
  {
   "cell_type": "code",
   "execution_count": 83,
   "id": "3abe2ebd",
   "metadata": {},
   "outputs": [
    {
     "data": {
      "text/plain": [
       "array([3000., 5000.])"
      ]
     },
     "execution_count": 83,
     "metadata": {},
     "output_type": "execute_result"
    }
   ],
   "source": [
    "np.linalg.solve(monto,result)"
   ]
  },
  {
   "cell_type": "code",
   "execution_count": null,
   "id": "772aabd7",
   "metadata": {},
   "outputs": [],
   "source": []
  },
  {
   "cell_type": "code",
   "execution_count": null,
   "id": "8b2d4e35",
   "metadata": {},
   "outputs": [],
   "source": []
  },
  {
   "cell_type": "code",
   "execution_count": null,
   "id": "19217e5b",
   "metadata": {},
   "outputs": [],
   "source": []
  },
  {
   "cell_type": "code",
   "execution_count": null,
   "id": "3e214719",
   "metadata": {},
   "outputs": [],
   "source": []
  },
  {
   "cell_type": "markdown",
   "id": "f8c65464",
   "metadata": {},
   "source": [
    "- Un cliente de un supermercado ha pagado un total de $\\$156$ por $24l$ de leche, $6kg$ de jamón serrano y $12l$ de aceite de oliva. Calcular el precio de cada artículo, sabiendo que $1l$ de aceite cuesta el triple que $1l$ de leche\n",
    "y que $1kg$ de jamón cuesta igual que $4l$ de aceite más $4l$ de leche."
   ]
  },
  {
   "cell_type": "code",
   "execution_count": 87,
   "id": "e5735569",
   "metadata": {},
   "outputs": [],
   "source": [
    "cosas=np.array([[24,6,12],[3,0,-1],[4,-1,4]])"
   ]
  },
  {
   "cell_type": "code",
   "execution_count": 88,
   "id": "31207396",
   "metadata": {},
   "outputs": [],
   "source": [
    "costo=np.array([156,0,0])"
   ]
  },
  {
   "cell_type": "code",
   "execution_count": 89,
   "id": "528e88d7",
   "metadata": {},
   "outputs": [
    {
     "data": {
      "text/plain": [
       "array([ 1., 16.,  3.])"
      ]
     },
     "execution_count": 89,
     "metadata": {},
     "output_type": "execute_result"
    }
   ],
   "source": [
    "np.linalg.solve(cosas,costo)"
   ]
  },
  {
   "cell_type": "code",
   "execution_count": null,
   "id": "e5221ca3",
   "metadata": {},
   "outputs": [],
   "source": []
  },
  {
   "cell_type": "code",
   "execution_count": null,
   "id": "eff5e7b8",
   "metadata": {},
   "outputs": [],
   "source": []
  },
  {
   "cell_type": "markdown",
   "id": "2e8b4009",
   "metadata": {},
   "source": [
    "$$\\vec{x}$$"
   ]
  },
  {
   "cell_type": "markdown",
   "id": "12d0d50c",
   "metadata": {},
   "source": [
    "$$ SV[\\vec{x}] = \\{ \\vec{v} | \\vec{v} = a \\vec{x} \\text{ para algún  } a \\in \\mathbb{R} \\} \\subset \\mathbb{R}^2 $$"
   ]
  },
  {
   "cell_type": "code",
   "execution_count": 90,
   "id": "ed061257",
   "metadata": {},
   "outputs": [],
   "source": [
    "v=np.array([1,3])"
   ]
  },
  {
   "cell_type": "code",
   "execution_count": 91,
   "id": "efa3c6fd",
   "metadata": {},
   "outputs": [
    {
     "data": {
      "image/png": "[encoded data removed]",
      "text/plain": [
       "<Figure size 600x600 with 1 Axes>"
      ]
     },
     "metadata": {},
     "output_type": "display_data"
    }
   ],
   "source": [
    "fig, ax  = plt.subplots (figsize =(6,6))"
   ]
  },
  {
   "cell_type": "markdown",
   "id": "1523885e",
   "metadata": {},
   "source": [
    "<hr>\n",
    "<h2>Vectores y valores propios</h2>\n",
    "\n",
    "Los definiremos lo valores propios y vectores propios de una matriz cuadrada de la siguiente forma:\n",
    "\n",
    "$$ T \\vec{x} = \\lambda \\vec{x} $$\n",
    "\n",
    "Estos vectores son los llamados _vectores propios_ de $T$ y el valor $\\lambda$ que representa el factor de escalamiento del vector es llamado _valor propio_ de $T$. Podemos calcular los valores propios de una matriz cuadrada $T_n$ calculando primero el determinante de $T - \\lambda I$, que dara como resultado un polinomio de grado $n$, y luego encontrando las raíces de dicho polinomio.\n",
    "\n",
    "\n",
    "\n",
    "Empezaremos dando un sentido geométrico a los valores propios de una matriz cuadrada, pensemos por ejemplo en la matriz:\n",
    "\n",
    "$$\n",
    "T = \n",
    "\\begin{bmatrix}\n",
    "3 & 1\\\\\n",
    "0 & 2\\\\\n",
    "\\end{bmatrix}\n",
    "$$\n",
    "\n",
    "Y veamos la como una transformación lineal\n",
    "\n",
    "<img src=\"Transformación base canonica.gif\" width = 400 height = 400>\n",
    "\n",
    "Al fijarnos en u vector cualquiera vamos a fijarnos en su subespacio generado, es decir, en la recta que pasa sobre el:\n",
    "\n",
    "<img src=\"Transformación sobre subespacio generado.gif\" width = 400 height = 400>\n",
    "\n",
    "Podemos ver que la transformación saca al vector de su subespacio. Sin embargo hay algunos vectores a los que esto no les pasa.\n",
    "\n",
    "<img src=\"Transformación sobre un subespacio de un vector propio.gif\" width = 400 height = 400>\n",
    "\n",
    "Podemos ver que en el caso de esta matriz hay dos rectas sobre las cuales los vectores no son desviados, solo son escalados un factor $\\lambda$. \n",
    "\n",
    "<img src=\"Transformación sobre un subespacio de un vector propio 2.gif\" width = 400 height = 400>\n",
    "\n",
    "\n",
    "Es decir, aplicar la matriz $T$ a uno de estos vectores da como resultado un multiplo escalar del mismo vector:\n",
    "\n",
    "\n",
    "\n",
    "\n",
    "En Numpy dentro de _linalg_ tenemos las funciones _eig_ y _eigvals_ que nos ofrecen, devuelven una tupla con los valores propios, y otra de vectores propios para la primera, y un array de valores propios la segunda.\n"
   ]
  },
  {
   "cell_type": "code",
   "execution_count": 3,
   "id": "815bffcf",
   "metadata": {},
   "outputs": [],
   "source": [
    " T = np.array([[3,1],[0,2]])\n"
   ]
  },
  {
   "cell_type": "code",
   "execution_count": 4,
   "id": "24ca2c33",
   "metadata": {},
   "outputs": [
    {
     "data": {
      "text/plain": [
       "array([[3, 1],\n",
       "       [0, 2]])"
      ]
     },
     "execution_count": 4,
     "metadata": {},
     "output_type": "execute_result"
    }
   ],
   "source": [
    "T"
   ]
  },
  {
   "cell_type": "code",
   "execution_count": 5,
   "id": "f3b405cb",
   "metadata": {},
   "outputs": [
    {
     "data": {
      "text/plain": [
       "array([3., 2.])"
      ]
     },
     "execution_count": 5,
     "metadata": {},
     "output_type": "execute_result"
    }
   ],
   "source": [
    "np.linalg.eigvals(T)"
   ]
  },
  {
   "cell_type": "code",
   "execution_count": 6,
   "id": "277d4d13",
   "metadata": {},
   "outputs": [
    {
     "data": {
      "text/plain": [
       "(array([3., 2.]),\n",
       " array([[ 1.        , -0.70710678],\n",
       "        [ 0.        ,  0.70710678]]))"
      ]
     },
     "execution_count": 6,
     "metadata": {},
     "output_type": "execute_result"
    }
   ],
   "source": [
    "np.linalg.eig(T)"
   ]
  },
  {
   "cell_type": "markdown",
   "id": "b921ad9b",
   "metadata": {},
   "source": [
    "Un resultado importante es que si $A_n$ tiene $n$ valores propios diferentes, entonces los vectores propios asociados a dichos valores son linealmente independientes, y podemos usarlos como una nueva base del espacio vectorial, que tiene la peculiaridad de que si vemos la matriz $A_n$ escrita en esa base, se convierte en una [matriz diagonal](#Glosario) que tiene en la diagonal los valores propios:\n",
    "\n",
    "$$\n",
    "D = \n",
    "\\begin{bmatrix}\n",
    "\\lambda_1 & 0 & \\cdots & 0\\\\\n",
    "0 & \\lambda_2 & \\cdots & 0\\\\\n",
    "\\cdots & \\cdots & \\ddots & \\cdots \\\\\n",
    "0 & 0 & \\cdots & \\lambda_n\\\\\n",
    "\\end{bmatrix}\n",
    "$$\n",
    "\n",
    "\n",
    "Y esta matriz la podemos expresar como:\n",
    "\n",
    "$$D = M^{-1}AM$$\n",
    "\n",
    "\n",
    "Donde M es la matriz que tiene por columnas los vectores propios de A"
   ]
  },
  {
   "cell_type": "code",
   "execution_count": null,
   "id": "acb38c01",
   "metadata": {},
   "outputs": [],
   "source": []
  },
  {
   "cell_type": "markdown",
   "id": "72013106",
   "metadata": {},
   "source": [
    "<h2>Modelo de Leslie</h2>\n",
    "\n",
    "Hay muchas formas de modelar el comportamiento de una población determinada, para mostrar cómo trabaja el modelo de Leslie vamos a dar un ejemplo. Imaginemos una población de insectos que tiene una esperanza de vida máxima de 4 años, los agruparemos en cuatro categorías:\n",
    "\n",
    "|Edad(años)|Población|Tasa de natalidad (individuos por año)|Probabilidad de sobrevivir|\n",
    "|:--------:|:--------|:------------------------------------:|:------------------------:|\n",
    "|0-1       |   30    |0|0.7|\n",
    "|1-2       |35       |4|0.5|\n",
    "|2-3       | 25      |2|0.2|\n",
    "|3-4       |10       |1|0.0|\n",
    "\n",
    "\n",
    "cada categoría tiene su propia tasa de natalidad expresada en individuos nacidos por año y una probabilidad de sobrevivir y ascender a la siguiente categoría. Si queremos saber cuántos individuos tendrán edades entre 0 y 1 años después de un año, es decir todos los individuos que nacieron durante ese año, tendríamos que calcularlo de la siguiente manera:\n",
    "\n",
    "- cada uno de los 30 individuos de la categoría _0-1_ tiene 0 descendientes, en total 30 * 0 = 0\n",
    "- cada uno de los 35 individuos de la categoría _1-2_ tiene 4 descendientes, en total 35 * 4 = 140\n",
    "- cada uno de los 25 individuos de la categoría _2-3_ tiene 2 descendientes, en total 25 * 2 = 50\n",
    "- cada uno de los 10 individuos de la categoría _3-4_ tiene 1 descendientes, en total 10 * 1 = 10\n",
    "\n",
    "Esto nos da un total de 200 nacidos en después de un año. Ahora imaginemos que queremos saber cuántos individuos entre 1 y 2 años de edad tendremos después de 1 año. En este caso haríamos lo siguiente:\n",
    "\n",
    "- El 70% de los individuos de la primer categoría sobrevivieron para alcanzar la segunda, es decir:  30 * 0.7 = 21 \n",
    "\n",
    "Este análisis se puede simplificar enormemente usando una matriz de Leslie, la matriz de Leslie es una matriz cuadrada, su primer renglón está formado por las tasas de natalidad de todas las categorías, los demás elementos son 0 excepto los elementos de la diagonal menor que contienen las probabilidades de supervivencia.\n",
    "\n",
    "$$\n",
    "L =\n",
    "\\begin{bmatrix}\n",
    "0 & 4 & 2 & 1\\\\\n",
    "0.7 & 0 & 0 & 0\\\\\n",
    "0 & 0.5 & 0 & 0\\\\\n",
    "0 & 0 & 0.2 & 0\\\\\n",
    "\\end{bmatrix}\n",
    "$$\n",
    "\n",
    "Esta matriz, junto con un vector columna con la población inicial de cada categoría, nos facilita mucho el análisis de la dinámica de la población. Sea $\\vec{x_0}$ el vector de poblaciones iniciales:\n",
    "\n",
    "$$\n",
    "\\vec{x_0} = \n",
    "\\begin{bmatrix}\n",
    "30\\\\\n",
    "35\\\\\n",
    "25\\\\\n",
    "10\n",
    "\\end{bmatrix}\n",
    "$$\n",
    "\n",
    "Podemos calcular la población después de un año $\\vec{x_1}$ haciendo $\\vec{x_1} = L \\vec{x_0}$\n",
    "\n",
    "$$\n",
    "\\vec{x_1} = \n",
    "\\begin{bmatrix}\n",
    "0 & 4 & 2 & 1\\\\\n",
    "0.7 & 0 & 0 & 0\\\\\n",
    "0 & 0.5 & 0 & 0\\\\\n",
    "0 & 0 & 0.2 & 0\\\\\n",
    "\\end{bmatrix}\n",
    "\\begin{bmatrix}\n",
    "30\\\\\n",
    "35\\\\\n",
    "25\\\\\n",
    "10\n",
    "\\end{bmatrix}\n",
    "=\n",
    "\\begin{bmatrix}\n",
    "200\\\\\n",
    "21\\\\\n",
    "17.5\\\\\n",
    "5\n",
    "\\end{bmatrix}\n",
    "$$\n",
    "\n",
    "En general, conocer la población después de $n$ años simplemente lo hacemos calculando:\n",
    "\n",
    "$$ \\vec{x_n} = L^n \\vec{x_0}$$\n",
    "\n",
    "\n",
    "La matriz de Leslie tiene la propiedad de tener un único valor característico positivo $\\lambda_1$ que representa la tasa de crecimiento de la población, si $\\lambda_1 < 1$ la población disminuye y si $\\lambda_1 > 1$ esta aumenta.\n",
    "\n",
    "\n",
    "\n"
   ]
  },
  {
   "cell_type": "code",
   "execution_count": null,
   "id": "1bd3105e",
   "metadata": {},
   "outputs": [],
   "source": []
  },
  {
   "cell_type": "markdown",
   "id": "e503782e",
   "metadata": {},
   "source": [
    "#### Ejercicio\n",
    "\n",
    "Use una matriz de Leslie para estudiar el comportamiento de la siguiente población en los próximos 50 años, genere una gráfica que permita ver el comportamiento de cada intervalo de edades de forma independiente y otro que permita ver el comportamiento global de la población.\n",
    "\n",
    "- ¿La población crece sin medida?\n",
    "- Después de 30 años, ¿Cuál es el sector más numeroso de la población?\n",
    "\n",
    "\n",
    "|Edad(años)|Población inicial|Tasa de natalidad (individuos por año)|Probabilidad de sobrevivir|\n",
    "|:--------:|:---------------:|:------------------------------------:|:------------------------:|\n",
    "|0-5       |   100           |0|0.25|\n",
    "|5-10      |60               |1|0.5 |\n",
    "|10-15     | 20              |3|0.1 |\n",
    "|15-20     |10               |2|0.0 |\n",
    "\n"
   ]
  },
  {
   "cell_type": "code",
   "execution_count": null,
   "id": "926764e0",
   "metadata": {},
   "outputs": [],
   "source": []
  },
  {
   "cell_type": "markdown",
   "id": "9b6cbe8d",
   "metadata": {},
   "source": [
    "<h2>Modelo de Leontief (input-output)</h2>\n",
    "\n",
    "El método es utilizado para analizar las relaciones existentes entre diferentes sectores\n",
    "de producción y consumo que forman parte de la economía de una nación aunque\n",
    "en la actualidad puede ser usado en contextos más limitados, como por ejemplo,\n",
    "grandes empresas.\n",
    "\n",
    "El modelo supone que la economía a estudiar está formada por diferentes sectores\n",
    "de producción y de servicios. Existe una demanda interna que se tiene que atender\n",
    "y también una demanda externa que también hay que satisfacer.\n",
    "\n",
    "Supongamos la tabla siguiente que representa a las necesidades de demanda interna:\n",
    "\n",
    "|Producción/demanda|Agricultura|Manufactura|Servicios|Demanda Externa|Producción|\n",
    "|:----------------:|:---------:|:---------:|:-------:|:-------------:|:--------:|\n",
    "|Agricultura|600|400|1400|600|3000|\n",
    "|Manufactura|1500|800|700|1000|4000|\n",
    "|Servicios|900|2800|700|2600|7000|\n",
    "\n",
    "Para conocer que tanto necesita cada industria de las demás para llevar a cabo su producción nos apoyaremos de la matriz tecnológica denotada como $A$, la definimos como sigue:\n",
    "\n",
    "$$A = B X_p^{-1}$$\n",
    "\n",
    "Donde $X_p$ es la matriz diagonal que tiene por elementos la producción.\n",
    "\n",
    "$$\n",
    "A = \n",
    "\\begin{bmatrix}\n",
    "600&400&1400\\\\\n",
    "1500&800&700\\\\\n",
    "900&2800&700\\\\\n",
    "\\end{bmatrix}\n",
    "\\begin{bmatrix}\n",
    "\\frac{1}{3000}&0&0\\\\\n",
    "0&\\frac{1}{4000}&0\\\\\n",
    "0&0&\\frac{1}{7000}\\\\\n",
    "\\end{bmatrix}\n",
    "=\n",
    "\\begin{bmatrix}\n",
    "0.2&0.1&0.2\\\\\n",
    "0.5&0.2&0.1\\\\\n",
    "0.3&0.7&0.1\\\\\n",
    "\\end{bmatrix}\n",
    "$$\n",
    "\n",
    "\n",
    "Noten que la matriz tecnológica cumple que la suma de los valores de cada columna no puede ser mayor que 1, es decir:\n",
    "\n",
    "$$\\sum_{i = 1}^{n} a_{ij} \\leq 1$$\n",
    "\n",
    "\n",
    "Cada columna de la matriz tecnológica representa la demanda interna de la industria para producir 1 unidad de cada industria, es decir, en este ejemplo la primera columna representa la demanda interna pata producir 1 unidad del sector Agricultura, pero si en lugar que querer producir una unidad queremos producir $x_A$ unidades, tendremos que multiplicar dicha columna por $x_A$. Supongamos que la producción de cada industria es $x_A$, $x_M$, y $x_S$, entonces la demanda interna total la podemos expresar como sigue:\n",
    "\n",
    "$$\n",
    "x_A\n",
    "\\begin{bmatrix}\n",
    "0.2\\\\\n",
    "0.5\\\\\n",
    "0.3\\\\\n",
    "\\end{bmatrix}\n",
    "+\n",
    "x_M\n",
    "\\begin{bmatrix}\n",
    "0.1\\\\\n",
    "0.2\\\\\n",
    "0.7\\\\\n",
    "\\end{bmatrix}\n",
    "+\n",
    "x_S\n",
    "\\begin{bmatrix}\n",
    "0.2\\\\\n",
    "0.1\\\\\n",
    "0.1\\\\\n",
    "\\end{bmatrix}\n",
    "$$\n",
    "\n",
    "Que podemos expresar como un producto matricial de la siguiente forma:\n",
    "\n",
    "$$\n",
    "\\begin{bmatrix}\n",
    "0.2&0.1&0.2\\\\\n",
    "0.5&0.2&0.1\\\\\n",
    "0.3&0.7&0.1\\\\\n",
    "\\end{bmatrix}\n",
    "\\begin{bmatrix}\n",
    "x_A\\\\\n",
    "x_M\\\\\n",
    "x_S\\\\\n",
    "\\end{bmatrix}\n",
    "= AX\n",
    "$$\n",
    "\n",
    "\n",
    "\n",
    "A dicho producto lo llamaremos demanda interna. Ahora notemos que la producción total de las industrias debe de cubrir la demanda interna y la demanda externa al mismo tiempo, es decir:\n",
    "\n",
    "$$X = AX + D$$\n",
    "\n",
    "Esta es la ecuación de Leontief y al resolverla para $X$ podemos saber cual es la producción necesaria para cubrir una cierta demanda externa $D$.\n",
    "\n",
    "$$X - AX = D$$\n",
    "$$(I - A)X = D$$\n",
    "\n",
    "A la matriz $(I - A)$ se le conoce como matriz de Leontief, y si dicha matriz tiene inversa entonces podemos resolver la ecuación como:\n",
    "\n",
    "$$X = (I - A)^{-1}D$$"
   ]
  },
  {
   "cell_type": "markdown",
   "id": "efb3d194",
   "metadata": {},
   "source": [
    "<h3>Ejercicio</h3>\n",
    "\n",
    "\n",
    "- Generar una DF de 10 filas y 12 columnas, las filas representarán 10 industrias $I_n$, las columnas serán las 10 industrias, la demanda externa y la producción total, generar de forma aleatoria los valores de la tabla (las unidades de consumo de cada industria, la demanda externa y la producción total, recordando que la suma de las columnas no puede ser mayor que la producción total de cada empresa).\n",
    "\n",
    "- Obtener la matriz tecnológica del DF anterior\n",
    "\n",
    "- Suponga que en un estudio de mercado se determina que la demanda externa de las industrias va a cambiar según se expresa en el siguiente vector:\n",
    "\n",
    "$$\n",
    "\\begin{bmatrix}\n",
    "1.1\\\\\n",
    "0.3\\\\\n",
    "1.6\\\\\n",
    "1.0\\\\\n",
    "0.7\\\\\n",
    "0.5\\\\\n",
    "3.9\\\\\n",
    "1.2\\\\\n",
    "0.1\\\\\n",
    "2.4\\\\\n",
    "\\end{bmatrix}\n",
    "$$\n",
    "\n",
    "- obtener el vector de producción necesario para cumplir con la proyección"
   ]
  },
  {
   "cell_type": "code",
   "execution_count": null,
   "id": "1c7dfd19",
   "metadata": {},
   "outputs": [],
   "source": [
    "\n"
   ]
  }
 ],
 "metadata": {
  "kernelspec": {
   "display_name": "Python 3 (ipykernel)",
   "language": "python",
   "name": "python3"
  },
  "language_info": {
   "codemirror_mode": {
    "name": "ipython",
    "version": 3
   },
   "file_extension": ".py",
   "mimetype": "text/x-python",
   "name": "python",
   "nbconvert_exporter": "python",
   "pygments_lexer": "ipython3",
   "version": "3.11.5"
  },
  "varInspector": {
   "cols": {
    "lenName": 16,
    "lenType": 16,
    "lenVar": 40
   },
   "kernels_config": {
    "python": {
     "delete_cmd_postfix": "",
     "delete_cmd_prefix": "del ",
     "library": "var_list.py",
     "varRefreshCmd": "print(var_dic_list())"
    },
    "r": {
     "delete_cmd_postfix": ") ",
     "delete_cmd_prefix": "rm(",
     "library": "var_list.r",
     "varRefreshCmd": "cat(var_dic_list()) "
    }
   },
   "types_to_exclude": [
    "module",
    "function",
    "builtin_function_or_method",
    "instance",
    "_Feature"
   ],
   "window_display": false
  }
 },
 "nbformat": 4,
 "nbformat_minor": 5
}
