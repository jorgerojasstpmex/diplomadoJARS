{
 "cells": [
  {
   "cell_type": "markdown",
   "id": "dd3fb0c1",
   "metadata": {},
   "source": [
    "<hr>\n",
    "<h1>Contenido</h1>\n",
    "\n",
    "$$$$\n",
    "\n",
    "- [Glosario](#Glosario)\n",
    "\n",
    "- [Vectores](#Vectores)\n",
    "- [Matrices](#Matrices)\n",
    "- [Producto de matrices y vectores](#Producto-de-matrices-y-vectores)\n",
    "    - [Producto escalar](#Producto-escalar)\n",
    "    - [Multiplicación de matrices](#Multiplicación-de-matrices)\n",
    "    \n",
    "- [Matrices Especiales](#Matrices-Especiales)\n",
    "    - [Matriz Identidad](#Matriz-Identidad)\n",
    "    - [Matriz Diagonal](#Matriz-Diagonal)\n",
    "    - [Matriz Triangular](#Matriz-Triangular)\n",
    "    - [Matriz Elemental](#Matriz-Elemental)\n",
    "    - [Matriz Transpuesta](#Matriz-Transpuesta)\n",
    "    - [Matriz Inversa](#Matriz-Inversa)\n",
    "    - [Matriz Ortogonal](#Matriz-Ortogonal)"
   ]
  },
  {
   "cell_type": "markdown",
   "id": "1c69183b",
   "metadata": {},
   "source": [
    "[Regresar al Contenido](#Contenido)"
   ]
  },
  {
   "cell_type": "markdown",
   "id": "381b1a81",
   "metadata": {},
   "source": [
    "<hr>\n",
    "<h2>Glosario</h2>\n",
    "\n",
    "- Dimensión(Vector):\n",
    "    El número de entradas o componentes que tiene un vector\n",
    "    \n",
    "- Dimensión(Matriz):\n",
    "    El número de filas  y columnas($f \\times c$) que tiene una matriz, en caso de ser cuadrada se representa en un solo número\n",
    "    \n",
    "- Escalar:\n",
    "    Un número real($\\mathbb{R}$) o complejo($\\mathbb{C}$), carente de la característica vectorial de dirección.\n",
    "    \n",
    "- Espacio Vectorial:\n",
    "    es un conjunto($W$) cuyos elementos llamamos vectores, y que tiene definida una operación suma entre sus elementos y una operación producto entre uno de sus elementos y un escalar, que cumplen las siguientes propiedades:\n",
    "    1. Sean $u, v \\in W$, entonces $u + v \\in W$ \n",
    "    2. Sea $a \\in \\mathbb{R}$ y $u \\in W$, entonces $a\\cdot u \\in W$\n",
    "\n",
    "- Magnitud(vector):\n",
    "    lo entenderemos geométricamente como el tamaño del vector, y lo definiremos como: $|\\vec{x}| = \\sqrt{x_1^2 + x_2^2 + \\cdots + x_n^2}$\n",
    "    \n",
    "    \n",
    "- Matriz cuadrada:\n",
    "    Es una matriz que tiene el mismo número de renglones y de columnas, se representa únicamente como $A_n$\n",
    "    \n",
    "- Matriz Elemental:\n",
    "    Una matriz elemental de orden $n$ es una matriz que se obtiene a partir de la matriz identidad $I_{n}$ aplicando solo una operación elemental de fila o columna.\n",
    "    "
   ]
  },
  {
   "cell_type": "markdown",
   "id": "bcc399da",
   "metadata": {},
   "source": [
    "[Regresar al Contenido](#Contenido)"
   ]
  },
  {
   "cell_type": "markdown",
   "id": "3cac3c6b",
   "metadata": {},
   "source": [
    "<hr>\n",
    "<h2>Vectores</h2>\n",
    "\n",
    "De las múltiples definiciones que existen para los vectores, nos quedaremos con aquella en la que los entendemos como arreglos ordenados de $n$ elementos ($n$ se llama la **dimensión** del vector), por ejemplo la siguiente es un vector fila de dimensión $n$:\n",
    "\n",
    "$$$$\n",
    "\n",
    "$$\\vec{x} = \n",
    "\\begin{bmatrix}\n",
    "x_1 & x_2 & \\cdots & x_n\\\\\n",
    "\\end{bmatrix}\n",
    "$$\n",
    "\n",
    "$$$$\n",
    "\n",
    "Los elementos de $\\vec{x}$ son números reales ($\\mathbb{R}$) o complejos ($\\mathbb{C}$), dependiendo del caso decimos que $x \\in \\mathbb{R} ^n$ o $x \\in \\mathbb{C}^n$. También podemos representarlos en forma de columna:\n",
    "\n",
    "$$$$\n",
    "\n",
    "$$\\vec{y} = \n",
    "\\begin{bmatrix}\n",
    "y_1\\\\\n",
    "y_2\\\\ \n",
    "\\vdots\\\\\n",
    "y_n\\\\\n",
    "\\end{bmatrix}\n",
    "$$\n",
    "\n",
    "$$$$\n",
    "\n",
    "Tenemos dos operaciones elementales con vectores: _la suma de vectores y la multiplicación por un escalar_. La suma de vectores se define entre vectores de la misma **dimensión** y esta se define a continuación:\n",
    "\n",
    "$$$$\n",
    "\n",
    "\n",
    "$$\\vec{x} + \\vec{y} = \n",
    "\\begin{bmatrix}\n",
    "x_1 + y_1 & x_2 + y_2 & \\cdots & x_n + y_n\\\\\n",
    "\\end{bmatrix}\n",
    "$$\n",
    "\n",
    "$$$$\n",
    "\n",
    "Resultando en otro vector con la misma **dimensión**."
   ]
  },
  {
   "cell_type": "code",
   "execution_count": 1,
   "id": "30160265",
   "metadata": {},
   "outputs": [],
   "source": [
    "l1 = [1, 2, 3, 4]\n",
    "l2 = [5, 6, 7, 8]"
   ]
  },
  {
   "cell_type": "code",
   "execution_count": 3,
   "id": "ea188206",
   "metadata": {},
   "outputs": [
    {
     "data": {
      "text/plain": [
       "[1, 2, 3, 4, 5, 6, 7, 8]"
      ]
     },
     "execution_count": 3,
     "metadata": {},
     "output_type": "execute_result"
    }
   ],
   "source": [
    "l1 + l2"
   ]
  },
  {
   "cell_type": "markdown",
   "id": "66e75338",
   "metadata": {},
   "source": [
    " - Métodos (comportamientos)\n",
    " - atributos (Caracteristicas)"
   ]
  },
  {
   "cell_type": "code",
   "execution_count": 77,
   "id": "12bdec86",
   "metadata": {},
   "outputs": [],
   "source": [
    "class Vector:\n",
    "    \n",
    "    def __init__(self, vals):\n",
    "        self.vals = vals\n",
    "        \n",
    "        \n",
    "    def __repr__(self):\n",
    "        msn = ''\n",
    "        \n",
    "        for elem in self.vals[:-1]:\n",
    "            msn += '{}, '\n",
    "            \n",
    "        msn += '{}'\n",
    "        return ('<' + msn + '>').format(*self.vals)\n",
    "    \n",
    "    \n",
    "    def __add__(self, other):\n",
    "        if isinstance(other, Vector):\n",
    "            r = []\n",
    "            \n",
    "            for i in range(len(self.vals)):\n",
    "                r.append(self.vals[i] + other.vals[i])\n",
    "                \n",
    "            return Vector(r)"
   ]
  },
  {
   "cell_type": "code",
   "execution_count": 72,
   "id": "2395fc2b",
   "metadata": {},
   "outputs": [],
   "source": [
    "u = Vector([1, 2, 3])\n",
    "v = Vector([4, 5, 6])"
   ]
  },
  {
   "cell_type": "code",
   "execution_count": 65,
   "id": "983e65f4",
   "metadata": {},
   "outputs": [
    {
     "data": {
      "text/plain": [
       "[1, 2, 3, 5, 6, 6]"
      ]
     },
     "execution_count": 65,
     "metadata": {},
     "output_type": "execute_result"
    }
   ],
   "source": [
    "u.vals"
   ]
  },
  {
   "cell_type": "code",
   "execution_count": 73,
   "id": "9e7e13c6",
   "metadata": {},
   "outputs": [
    {
     "data": {
      "text/plain": [
       "<__main__.Vector at 0x1f527744ee0>"
      ]
     },
     "execution_count": 73,
     "metadata": {},
     "output_type": "execute_result"
    }
   ],
   "source": [
    "u + v"
   ]
  },
  {
   "cell_type": "code",
   "execution_count": 69,
   "id": "d665cb59",
   "metadata": {},
   "outputs": [
    {
     "data": {
      "text/plain": [
       "<5, 7, 9>"
      ]
     },
     "execution_count": 69,
     "metadata": {},
     "output_type": "execute_result"
    }
   ],
   "source": [
    "u.__add__(v)"
   ]
  },
  {
   "cell_type": "code",
   "execution_count": 62,
   "id": "9190fed5",
   "metadata": {},
   "outputs": [
    {
     "data": {
      "text/plain": [
       "False"
      ]
     },
     "execution_count": 62,
     "metadata": {},
     "output_type": "execute_result"
    }
   ],
   "source": [
    "isinstance(l1, str)"
   ]
  },
  {
   "cell_type": "code",
   "execution_count": 35,
   "id": "16f93198",
   "metadata": {},
   "outputs": [],
   "source": [
    "s = '<' + '' + '{}, ' + '{}, ' + '{}' + '>'"
   ]
  },
  {
   "cell_type": "code",
   "execution_count": 43,
   "id": "2120bcf5",
   "metadata": {},
   "outputs": [
    {
     "data": {
      "text/plain": [
       "'<1, 2, 3>'"
      ]
     },
     "execution_count": 43,
     "metadata": {},
     "output_type": "execute_result"
    }
   ],
   "source": [
    "s.format(*[1, 2, 3])"
   ]
  },
  {
   "cell_type": "code",
   "execution_count": 44,
   "id": "0cfa73b4",
   "metadata": {},
   "outputs": [
    {
     "data": {
      "text/plain": [
       "[5, 6, 7, 8]"
      ]
     },
     "execution_count": 44,
     "metadata": {},
     "output_type": "execute_result"
    }
   ],
   "source": [
    "l2"
   ]
  },
  {
   "cell_type": "code",
   "execution_count": 45,
   "id": "63d5d45a",
   "metadata": {},
   "outputs": [
    {
     "name": "stdout",
     "output_type": "stream",
     "text": [
      "[5, 6, 7, 8]\n"
     ]
    }
   ],
   "source": [
    "print(l2)"
   ]
  },
  {
   "cell_type": "code",
   "execution_count": 46,
   "id": "e9206431",
   "metadata": {},
   "outputs": [
    {
     "name": "stdout",
     "output_type": "stream",
     "text": [
      "5 6 7 8\n"
     ]
    }
   ],
   "source": [
    "print(5, 6, 7, 8)"
   ]
  },
  {
   "cell_type": "code",
   "execution_count": 47,
   "id": "7121aec3",
   "metadata": {},
   "outputs": [
    {
     "name": "stdout",
     "output_type": "stream",
     "text": [
      "5 6 7 8\n"
     ]
    }
   ],
   "source": [
    "print(*l2)"
   ]
  },
  {
   "cell_type": "markdown",
   "id": "db3eec77",
   "metadata": {},
   "source": [
    "l2 = [5, 6, 7, 8]\n",
    "\n",
    "\n",
    "print(*l2) equivalente print(5, 6, 7, 8)"
   ]
  },
  {
   "cell_type": "code",
   "execution_count": 52,
   "id": "32145b3e",
   "metadata": {},
   "outputs": [
    {
     "data": {
      "text/plain": [
       "[1, 2, 3, 4]"
      ]
     },
     "execution_count": 52,
     "metadata": {},
     "output_type": "execute_result"
    }
   ],
   "source": [
    "l1"
   ]
  },
  {
   "cell_type": "code",
   "execution_count": 53,
   "id": "bc767dc6",
   "metadata": {},
   "outputs": [],
   "source": [
    "l2 = l1.copy()"
   ]
  },
  {
   "cell_type": "code",
   "execution_count": 54,
   "id": "bef37d08",
   "metadata": {},
   "outputs": [
    {
     "data": {
      "text/plain": [
       "[1, 2, 3, 4]"
      ]
     },
     "execution_count": 54,
     "metadata": {},
     "output_type": "execute_result"
    }
   ],
   "source": [
    "l1"
   ]
  },
  {
   "cell_type": "code",
   "execution_count": 55,
   "id": "722a7962",
   "metadata": {},
   "outputs": [
    {
     "data": {
      "text/plain": [
       "[1, 2, 3, 4]"
      ]
     },
     "execution_count": 55,
     "metadata": {},
     "output_type": "execute_result"
    }
   ],
   "source": [
    "l2"
   ]
  },
  {
   "cell_type": "code",
   "execution_count": 56,
   "id": "568b1c68",
   "metadata": {},
   "outputs": [
    {
     "data": {
      "text/plain": [
       "True"
      ]
     },
     "execution_count": 56,
     "metadata": {},
     "output_type": "execute_result"
    }
   ],
   "source": [
    "l1 == l2"
   ]
  },
  {
   "cell_type": "code",
   "execution_count": 57,
   "id": "d9eb0349",
   "metadata": {},
   "outputs": [
    {
     "data": {
      "text/plain": [
       "False"
      ]
     },
     "execution_count": 57,
     "metadata": {},
     "output_type": "execute_result"
    }
   ],
   "source": [
    "l1 is l2 "
   ]
  },
  {
   "cell_type": "code",
   "execution_count": 58,
   "id": "04b071b3",
   "metadata": {},
   "outputs": [],
   "source": [
    "l1[0] = 25"
   ]
  },
  {
   "cell_type": "code",
   "execution_count": 59,
   "id": "7cf96a22",
   "metadata": {},
   "outputs": [
    {
     "data": {
      "text/plain": [
       "[25, 2, 3, 4]"
      ]
     },
     "execution_count": 59,
     "metadata": {},
     "output_type": "execute_result"
    }
   ],
   "source": [
    "l1"
   ]
  },
  {
   "cell_type": "code",
   "execution_count": 60,
   "id": "9d3d7ba6",
   "metadata": {},
   "outputs": [
    {
     "data": {
      "text/plain": [
       "[1, 2, 3, 4]"
      ]
     },
     "execution_count": 60,
     "metadata": {},
     "output_type": "execute_result"
    }
   ],
   "source": [
    "l2"
   ]
  },
  {
   "cell_type": "code",
   "execution_count": 78,
   "id": "47b8354b",
   "metadata": {},
   "outputs": [],
   "source": [
    "u = Vector([1, 2, 3])\n",
    "v = Vector([4, 5, 6])"
   ]
  },
  {
   "cell_type": "code",
   "execution_count": 79,
   "id": "fe5b9593",
   "metadata": {},
   "outputs": [
    {
     "data": {
      "text/plain": [
       "<5, 7, 9>"
      ]
     },
     "execution_count": 79,
     "metadata": {},
     "output_type": "execute_result"
    }
   ],
   "source": [
    "u + v"
   ]
  },
  {
   "cell_type": "code",
   "execution_count": 80,
   "id": "6bb603e0",
   "metadata": {},
   "outputs": [
    {
     "data": {
      "text/plain": [
       "<5, 7, 9>"
      ]
     },
     "execution_count": 80,
     "metadata": {},
     "output_type": "execute_result"
    }
   ],
   "source": [
    "v + u"
   ]
  },
  {
   "cell_type": "code",
   "execution_count": null,
   "id": "cfde0340",
   "metadata": {},
   "outputs": [],
   "source": []
  },
  {
   "cell_type": "markdown",
   "id": "4e9924ff",
   "metadata": {},
   "source": [
    "## "
   ]
  },
  {
   "cell_type": "markdown",
   "id": "be18dc66",
   "metadata": {},
   "source": [
    "Y la multiplicación escalar se define de la siguiente manera:\n",
    "\n",
    "$$\\alpha \\vec{x} = \n",
    "\\begin{bmatrix}\n",
    "\\alpha x_1 & \\alpha x_2 & \\cdots & \\alpha x_n \\\\\n",
    "\\end{bmatrix}\n",
    "$$"
   ]
  },
  {
   "cell_type": "code",
   "execution_count": 109,
   "id": "f2bd5d21",
   "metadata": {},
   "outputs": [],
   "source": [
    "class Vector:\n",
    "    \n",
    "    def __init__(self, vals):\n",
    "        self.vals = vals\n",
    "        \n",
    "        \n",
    "    def __repr__(self):\n",
    "        msn = ''\n",
    "        \n",
    "        for elem in self.vals[:-1]:\n",
    "            msn += '{}, '\n",
    "            \n",
    "        msn += '{}'\n",
    "        return ('<' + msn + '>').format(*self.vals)\n",
    "    \n",
    "    \n",
    "    def __add__(self, other):\n",
    "        if isinstance(other, Vector):\n",
    "            r = []\n",
    "            \n",
    "            for i in range(len(self.vals)):\n",
    "                r.append(self.vals[i] + other.vals[i])\n",
    "                \n",
    "            return Vector(r)\n",
    "        \n",
    "    def __mul__(self, number):\n",
    "        if isinstance(number, (int, float, complex)):\n",
    "            r = []\n",
    "            \n",
    "            for elem in self.vals:\n",
    "                r.append(elem * number)\n",
    "                \n",
    "            return Vector(r)\n",
    "        \n",
    "    def __rmul__(self, number):\n",
    "        if isinstance(number, (int, float, complex)):\n",
    "            r = []\n",
    "            \n",
    "            for elem in self.vals:\n",
    "                r.append(elem * number)\n",
    "                \n",
    "            return Vector(r)"
   ]
  },
  {
   "cell_type": "markdown",
   "id": "a39ace92",
   "metadata": {},
   "source": [
    "$$\\mathbb{Z} \\rightarrow \\mathbb{R} \\rightarrow \\mathbb{C}$$"
   ]
  },
  {
   "cell_type": "code",
   "execution_count": 101,
   "id": "e26bc1f7",
   "metadata": {},
   "outputs": [],
   "source": [
    "a = 2.72 + 5.4j"
   ]
  },
  {
   "cell_type": "code",
   "execution_count": 102,
   "id": "da82a67b",
   "metadata": {},
   "outputs": [
    {
     "data": {
      "text/plain": [
       "True"
      ]
     },
     "execution_count": 102,
     "metadata": {},
     "output_type": "execute_result"
    }
   ],
   "source": [
    "isinstance(a, (int, float, complex))"
   ]
  },
  {
   "cell_type": "code",
   "execution_count": 84,
   "id": "b2eddcea",
   "metadata": {},
   "outputs": [
    {
     "data": {
      "text/plain": [
       "int"
      ]
     },
     "execution_count": 84,
     "metadata": {},
     "output_type": "execute_result"
    }
   ],
   "source": [
    "type(2)"
   ]
  },
  {
   "cell_type": "code",
   "execution_count": 85,
   "id": "94d97309",
   "metadata": {},
   "outputs": [
    {
     "data": {
      "text/plain": [
       "float"
      ]
     },
     "execution_count": 85,
     "metadata": {},
     "output_type": "execute_result"
    }
   ],
   "source": [
    "type(2.0)"
   ]
  },
  {
   "cell_type": "code",
   "execution_count": 86,
   "id": "ad5ee70c",
   "metadata": {},
   "outputs": [
    {
     "data": {
      "text/plain": [
       "2.0"
      ]
     },
     "execution_count": 86,
     "metadata": {},
     "output_type": "execute_result"
    }
   ],
   "source": [
    "float(2)"
   ]
  },
  {
   "cell_type": "code",
   "execution_count": 87,
   "id": "9f500427",
   "metadata": {},
   "outputs": [
    {
     "data": {
      "text/plain": [
       "3"
      ]
     },
     "execution_count": 87,
     "metadata": {},
     "output_type": "execute_result"
    }
   ],
   "source": [
    "int(3.1416)"
   ]
  },
  {
   "cell_type": "code",
   "execution_count": 88,
   "id": "4d37f850",
   "metadata": {},
   "outputs": [
    {
     "data": {
      "text/plain": [
       "(True, False)"
      ]
     },
     "execution_count": 88,
     "metadata": {},
     "output_type": "execute_result"
    }
   ],
   "source": [
    "True, False"
   ]
  },
  {
   "cell_type": "code",
   "execution_count": 92,
   "id": "534a827f",
   "metadata": {},
   "outputs": [
    {
     "data": {
      "text/plain": [
       "2"
      ]
     },
     "execution_count": 92,
     "metadata": {},
     "output_type": "execute_result"
    }
   ],
   "source": [
    "sum([True, False, True])"
   ]
  },
  {
   "cell_type": "code",
   "execution_count": 95,
   "id": "c9d2c9ad",
   "metadata": {},
   "outputs": [
    {
     "data": {
      "text/plain": [
       "complex"
      ]
     },
     "execution_count": 95,
     "metadata": {},
     "output_type": "execute_result"
    }
   ],
   "source": [
    "type(5 + 6j)"
   ]
  },
  {
   "cell_type": "code",
   "execution_count": 96,
   "id": "ed131ca7",
   "metadata": {},
   "outputs": [
    {
     "data": {
      "text/plain": [
       "(5+6j)"
      ]
     },
     "execution_count": 96,
     "metadata": {},
     "output_type": "execute_result"
    }
   ],
   "source": [
    "complex(5, 6)"
   ]
  },
  {
   "cell_type": "code",
   "execution_count": 110,
   "id": "39c69aad",
   "metadata": {},
   "outputs": [],
   "source": [
    "u = Vector([1, 2, 3])\n",
    "v = Vector([4, 5, 6])"
   ]
  },
  {
   "cell_type": "code",
   "execution_count": 111,
   "id": "55a377a1",
   "metadata": {},
   "outputs": [
    {
     "data": {
      "text/plain": [
       "<12, 15, 18>"
      ]
     },
     "execution_count": 111,
     "metadata": {},
     "output_type": "execute_result"
    }
   ],
   "source": [
    "v * 3"
   ]
  },
  {
   "cell_type": "code",
   "execution_count": 112,
   "id": "35e5fb9b",
   "metadata": {},
   "outputs": [
    {
     "data": {
      "text/plain": [
       "<12, 15, 18>"
      ]
     },
     "execution_count": 112,
     "metadata": {},
     "output_type": "execute_result"
    }
   ],
   "source": [
    "v.__mul__(3)"
   ]
  },
  {
   "cell_type": "code",
   "execution_count": 113,
   "id": "962adf5e",
   "metadata": {},
   "outputs": [
    {
     "data": {
      "text/plain": [
       "<12, 15, 18>"
      ]
     },
     "execution_count": 113,
     "metadata": {},
     "output_type": "execute_result"
    }
   ],
   "source": [
    "3 * v"
   ]
  },
  {
   "cell_type": "code",
   "execution_count": 116,
   "id": "aad99b53",
   "metadata": {},
   "outputs": [
    {
     "data": {
      "text/plain": [
       "<12, 15, 18>"
      ]
     },
     "execution_count": 116,
     "metadata": {},
     "output_type": "execute_result"
    }
   ],
   "source": [
    "#3.__mul__(u)\n",
    "v.__rmul__(3)"
   ]
  },
  {
   "cell_type": "code",
   "execution_count": 117,
   "id": "5b7281f8",
   "metadata": {},
   "outputs": [],
   "source": [
    "import numpy as np"
   ]
  },
  {
   "cell_type": "code",
   "execution_count": 123,
   "id": "fa007584",
   "metadata": {},
   "outputs": [],
   "source": [
    "u = [i for i in range(120_000)]\n",
    "v = [i ** 2 for i in range(120_000)]"
   ]
  },
  {
   "cell_type": "code",
   "execution_count": 124,
   "id": "7d117539",
   "metadata": {},
   "outputs": [],
   "source": [
    "u = Vector(u)\n",
    "v = Vector(v)"
   ]
  },
  {
   "cell_type": "code",
   "execution_count": 129,
   "id": "80edb5c5",
   "metadata": {},
   "outputs": [
    {
     "name": "stdout",
     "output_type": "stream",
     "text": [
      "64.1 ms ± 4.01 ms per loop (mean ± std. dev. of 7 runs, 10 loops each)\n"
     ]
    }
   ],
   "source": [
    "%timeit u + v"
   ]
  },
  {
   "cell_type": "code",
   "execution_count": 130,
   "id": "443e2002",
   "metadata": {},
   "outputs": [],
   "source": [
    "u = np.array(u.vals)\n",
    "v = np.array(v.vals)"
   ]
  },
  {
   "cell_type": "code",
   "execution_count": 133,
   "id": "7be41b1e",
   "metadata": {},
   "outputs": [
    {
     "name": "stdout",
     "output_type": "stream",
     "text": [
      "321 µs ± 27.2 µs per loop (mean ± std. dev. of 7 runs, 1,000 loops each)\n"
     ]
    }
   ],
   "source": [
    "%timeit u + v"
   ]
  },
  {
   "cell_type": "markdown",
   "id": "45a5d6ad",
   "metadata": {},
   "source": [
    "64_100 | 321"
   ]
  },
  {
   "cell_type": "code",
   "execution_count": 134,
   "id": "3d799715",
   "metadata": {},
   "outputs": [
    {
     "data": {
      "text/plain": [
       "199.68847352024923"
      ]
     },
     "execution_count": 134,
     "metadata": {},
     "output_type": "execute_result"
    }
   ],
   "source": [
    "64100/321"
   ]
  },
  {
   "cell_type": "code",
   "execution_count": 136,
   "id": "ff6cc778",
   "metadata": {},
   "outputs": [],
   "source": [
    "from sympy import *"
   ]
  },
  {
   "cell_type": "code",
   "execution_count": 135,
   "id": "aecb215e",
   "metadata": {},
   "outputs": [
    {
     "data": {
      "text/plain": [
       "3.141592653589793"
      ]
     },
     "execution_count": 135,
     "metadata": {},
     "output_type": "execute_result"
    }
   ],
   "source": [
    "np.pi"
   ]
  },
  {
   "cell_type": "code",
   "execution_count": 137,
   "id": "40d9359c",
   "metadata": {},
   "outputs": [
    {
     "data": {
      "text/latex": [
       "$\\displaystyle \\pi$"
      ],
      "text/plain": [
       "pi"
      ]
     },
     "execution_count": 137,
     "metadata": {},
     "output_type": "execute_result"
    }
   ],
   "source": [
    "pi"
   ]
  },
  {
   "cell_type": "code",
   "execution_count": 139,
   "id": "31204d60",
   "metadata": {},
   "outputs": [],
   "source": [
    "x = symbols('x')"
   ]
  },
  {
   "cell_type": "code",
   "execution_count": 142,
   "id": "6644ea29",
   "metadata": {},
   "outputs": [
    {
     "data": {
      "text/latex": [
       "$\\displaystyle x^{2} + 3 x$"
      ],
      "text/plain": [
       "x**2 + 3*x"
      ]
     },
     "execution_count": 142,
     "metadata": {},
     "output_type": "execute_result"
    }
   ],
   "source": [
    "3 * x + x ** 2"
   ]
  },
  {
   "cell_type": "code",
   "execution_count": 144,
   "id": "940b8f1f",
   "metadata": {},
   "outputs": [],
   "source": [
    "x, y, z = symbols('x, y, z')"
   ]
  },
  {
   "cell_type": "code",
   "execution_count": 145,
   "id": "b5e28265",
   "metadata": {},
   "outputs": [
    {
     "data": {
      "text/latex": [
       "$\\displaystyle x$"
      ],
      "text/plain": [
       "x"
      ]
     },
     "execution_count": 145,
     "metadata": {},
     "output_type": "execute_result"
    }
   ],
   "source": [
    "x"
   ]
  },
  {
   "cell_type": "code",
   "execution_count": 146,
   "id": "af071ba9",
   "metadata": {},
   "outputs": [
    {
     "data": {
      "text/latex": [
       "$\\displaystyle y$"
      ],
      "text/plain": [
       "y"
      ]
     },
     "execution_count": 146,
     "metadata": {},
     "output_type": "execute_result"
    }
   ],
   "source": [
    "y"
   ]
  },
  {
   "cell_type": "code",
   "execution_count": 147,
   "id": "e769a640",
   "metadata": {},
   "outputs": [
    {
     "data": {
      "text/latex": [
       "$\\displaystyle z$"
      ],
      "text/plain": [
       "z"
      ]
     },
     "execution_count": 147,
     "metadata": {},
     "output_type": "execute_result"
    }
   ],
   "source": [
    "z"
   ]
  },
  {
   "cell_type": "code",
   "execution_count": 149,
   "id": "12047e19",
   "metadata": {},
   "outputs": [
    {
     "data": {
      "text/latex": [
       "$\\displaystyle \\alpha$"
      ],
      "text/plain": [
       "\\alpha"
      ]
     },
     "execution_count": 149,
     "metadata": {},
     "output_type": "execute_result"
    }
   ],
   "source": [
    "symbols('\\\\alpha')"
   ]
  },
  {
   "cell_type": "code",
   "execution_count": 152,
   "id": "c13af22d",
   "metadata": {},
   "outputs": [
    {
     "data": {
      "text/plain": [
       "(\\Delta, x)"
      ]
     },
     "execution_count": 152,
     "metadata": {},
     "output_type": "execute_result"
    }
   ],
   "source": [
    "symbols('\\\\Delta x')"
   ]
  },
  {
   "cell_type": "code",
   "execution_count": 153,
   "id": "1574f47a",
   "metadata": {},
   "outputs": [
    {
     "data": {
      "text/latex": [
       "$\\displaystyle \\Delta x$"
      ],
      "text/plain": [
       "\\Delta x"
      ]
     },
     "execution_count": 153,
     "metadata": {},
     "output_type": "execute_result"
    }
   ],
   "source": [
    "Symbol('\\\\Delta x')"
   ]
  },
  {
   "cell_type": "code",
   "execution_count": 154,
   "id": "27771783",
   "metadata": {},
   "outputs": [
    {
     "data": {
      "text/latex": [
       "$\\displaystyle \\delta_{0}$"
      ],
      "text/plain": [
       "\\delta_0"
      ]
     },
     "execution_count": 154,
     "metadata": {},
     "output_type": "execute_result"
    }
   ],
   "source": [
    "symbols('\\\\delta_0')"
   ]
  },
  {
   "cell_type": "code",
   "execution_count": 155,
   "id": "32f2086a",
   "metadata": {},
   "outputs": [
    {
     "data": {
      "text/latex": [
       "$\\displaystyle \\infty$"
      ],
      "text/plain": [
       "\\infty"
      ]
     },
     "execution_count": 155,
     "metadata": {},
     "output_type": "execute_result"
    }
   ],
   "source": [
    "symbols('\\infty')"
   ]
  },
  {
   "cell_type": "code",
   "execution_count": 156,
   "id": "2ecb47b1",
   "metadata": {},
   "outputs": [],
   "source": [
    "x1, x2, x3 = symbols('x_1, x_2, x_3')"
   ]
  },
  {
   "cell_type": "code",
   "execution_count": 158,
   "id": "0cc1d4ef",
   "metadata": {},
   "outputs": [],
   "source": [
    "u = Matrix([x1, x2, x3])"
   ]
  },
  {
   "cell_type": "code",
   "execution_count": 159,
   "id": "d15a4fb2",
   "metadata": {},
   "outputs": [],
   "source": [
    "y1, y2, y3 = symbols('y_1, y_2, y_3')"
   ]
  },
  {
   "cell_type": "code",
   "execution_count": 160,
   "id": "0e77787f",
   "metadata": {},
   "outputs": [],
   "source": [
    "v = Matrix([y1, y2, y3])"
   ]
  },
  {
   "cell_type": "code",
   "execution_count": 161,
   "id": "7b05495c",
   "metadata": {},
   "outputs": [
    {
     "data": {
      "text/latex": [
       "$\\displaystyle \\left[\\begin{matrix}x_{1}\\\\x_{2}\\\\x_{3}\\end{matrix}\\right]$"
      ],
      "text/plain": [
       "Matrix([\n",
       "[x_1],\n",
       "[x_2],\n",
       "[x_3]])"
      ]
     },
     "execution_count": 161,
     "metadata": {},
     "output_type": "execute_result"
    }
   ],
   "source": [
    "u"
   ]
  },
  {
   "cell_type": "code",
   "execution_count": 162,
   "id": "c184dee5",
   "metadata": {},
   "outputs": [
    {
     "data": {
      "text/latex": [
       "$\\displaystyle \\left[\\begin{matrix}y_{1}\\\\y_{2}\\\\y_{3}\\end{matrix}\\right]$"
      ],
      "text/plain": [
       "Matrix([\n",
       "[y_1],\n",
       "[y_2],\n",
       "[y_3]])"
      ]
     },
     "execution_count": 162,
     "metadata": {},
     "output_type": "execute_result"
    }
   ],
   "source": [
    "v"
   ]
  },
  {
   "cell_type": "code",
   "execution_count": 163,
   "id": "e427fe25",
   "metadata": {},
   "outputs": [
    {
     "data": {
      "text/latex": [
       "$\\displaystyle \\left[\\begin{matrix}x_{1} + y_{1}\\\\x_{2} + y_{2}\\\\x_{3} + y_{3}\\end{matrix}\\right]$"
      ],
      "text/plain": [
       "Matrix([\n",
       "[x_1 + y_1],\n",
       "[x_2 + y_2],\n",
       "[x_3 + y_3]])"
      ]
     },
     "execution_count": 163,
     "metadata": {},
     "output_type": "execute_result"
    }
   ],
   "source": [
    "u + v"
   ]
  },
  {
   "cell_type": "code",
   "execution_count": 170,
   "id": "382ee12f",
   "metadata": {},
   "outputs": [],
   "source": [
    "vals = {x1 : 3, x2 : 2, x3 : 6, y1 : 5, y2 : 1, y3 : 7}"
   ]
  },
  {
   "cell_type": "code",
   "execution_count": 167,
   "id": "97cff4de",
   "metadata": {},
   "outputs": [
    {
     "data": {
      "text/latex": [
       "$\\displaystyle \\left[\\begin{matrix}y_{1} + 3.0\\\\y_{2} + 2.0\\\\y_{3} + 6.0\\end{matrix}\\right]$"
      ],
      "text/plain": [
       "Matrix([\n",
       "[y_1 + 3.0],\n",
       "[y_2 + 2.0],\n",
       "[y_3 + 6.0]])"
      ]
     },
     "execution_count": 167,
     "metadata": {},
     "output_type": "execute_result"
    }
   ],
   "source": [
    "(u + v).evalf(subs = vals)"
   ]
  },
  {
   "cell_type": "code",
   "execution_count": 168,
   "id": "8d281726",
   "metadata": {},
   "outputs": [],
   "source": [
    "r = u + v"
   ]
  },
  {
   "cell_type": "code",
   "execution_count": 172,
   "id": "67813073",
   "metadata": {},
   "outputs": [
    {
     "data": {
      "text/latex": [
       "$\\displaystyle 8.0$"
      ],
      "text/plain": [
       "8.00000000000000"
      ]
     },
     "execution_count": 172,
     "metadata": {},
     "output_type": "execute_result"
    }
   ],
   "source": [
    "r.evalf(subs = vals)[0]"
   ]
  },
  {
   "cell_type": "code",
   "execution_count": 173,
   "id": "9097021c",
   "metadata": {
    "scrolled": true
   },
   "outputs": [
    {
     "data": {
      "text/plain": [
       "sympy.core.numbers.Float"
      ]
     },
     "execution_count": 173,
     "metadata": {},
     "output_type": "execute_result"
    }
   ],
   "source": [
    "type(r.evalf(subs = vals)[0])"
   ]
  },
  {
   "cell_type": "code",
   "execution_count": 174,
   "id": "adb07fd6",
   "metadata": {},
   "outputs": [
    {
     "data": {
      "text/latex": [
       "$\\displaystyle 11.0$"
      ],
      "text/plain": [
       "11.0000000000000"
      ]
     },
     "execution_count": 174,
     "metadata": {},
     "output_type": "execute_result"
    }
   ],
   "source": [
    "r.evalf(subs = vals)[0] + 3"
   ]
  },
  {
   "cell_type": "code",
   "execution_count": 175,
   "id": "1ec82d92",
   "metadata": {},
   "outputs": [
    {
     "data": {
      "text/plain": [
       "sympy.core.numbers.Float"
      ]
     },
     "execution_count": 175,
     "metadata": {},
     "output_type": "execute_result"
    }
   ],
   "source": [
    "type(r.evalf(subs = vals)[0] + 3)"
   ]
  },
  {
   "cell_type": "code",
   "execution_count": 176,
   "id": "8c8e9b7e",
   "metadata": {},
   "outputs": [],
   "source": [
    "n = r.evalf(subs = vals)[0]"
   ]
  },
  {
   "cell_type": "code",
   "execution_count": 177,
   "id": "d0ef9b94",
   "metadata": {},
   "outputs": [
    {
     "data": {
      "text/latex": [
       "$\\displaystyle 8.0$"
      ],
      "text/plain": [
       "8.00000000000000"
      ]
     },
     "execution_count": 177,
     "metadata": {},
     "output_type": "execute_result"
    }
   ],
   "source": [
    "n"
   ]
  },
  {
   "cell_type": "code",
   "execution_count": 179,
   "id": "fb3c3feb",
   "metadata": {},
   "outputs": [
    {
     "name": "stdout",
     "output_type": "stream",
     "text": [
      "16 ns ± 1.43 ns per loop (mean ± std. dev. of 7 runs, 100,000,000 loops each)\n"
     ]
    }
   ],
   "source": [
    "%timeit 8.0 + 11"
   ]
  },
  {
   "cell_type": "code",
   "execution_count": 180,
   "id": "d928fa90",
   "metadata": {},
   "outputs": [
    {
     "name": "stdout",
     "output_type": "stream",
     "text": [
      "18.5 µs ± 1.13 µs per loop (mean ± std. dev. of 7 runs, 100,000 loops each)\n"
     ]
    }
   ],
   "source": [
    "%timeit n + 11"
   ]
  },
  {
   "cell_type": "code",
   "execution_count": 181,
   "id": "cdd39186",
   "metadata": {},
   "outputs": [
    {
     "data": {
      "text/plain": [
       "8.0"
      ]
     },
     "execution_count": 181,
     "metadata": {},
     "output_type": "execute_result"
    }
   ],
   "source": [
    "float(n)"
   ]
  },
  {
   "cell_type": "code",
   "execution_count": 182,
   "id": "778ad603",
   "metadata": {},
   "outputs": [],
   "source": [
    "v = np.array([1, 2, 3, 4])\n",
    "u = Matrix([1, 2, 3, 4])"
   ]
  },
  {
   "cell_type": "code",
   "execution_count": 183,
   "id": "bb6cdde8",
   "metadata": {},
   "outputs": [
    {
     "data": {
      "text/plain": [
       "array([1, 2, 3, 4])"
      ]
     },
     "execution_count": 183,
     "metadata": {},
     "output_type": "execute_result"
    }
   ],
   "source": [
    "v"
   ]
  },
  {
   "cell_type": "code",
   "execution_count": 184,
   "id": "78be3c70",
   "metadata": {},
   "outputs": [
    {
     "data": {
      "text/latex": [
       "$\\displaystyle \\left[\\begin{matrix}1\\\\2\\\\3\\\\4\\end{matrix}\\right]$"
      ],
      "text/plain": [
       "Matrix([\n",
       "[1],\n",
       "[2],\n",
       "[3],\n",
       "[4]])"
      ]
     },
     "execution_count": 184,
     "metadata": {},
     "output_type": "execute_result"
    }
   ],
   "source": [
    "u"
   ]
  },
  {
   "cell_type": "code",
   "execution_count": 185,
   "id": "d9f7a955",
   "metadata": {},
   "outputs": [
    {
     "data": {
      "text/plain": [
       "array([2, 4, 6, 8])"
      ]
     },
     "execution_count": 185,
     "metadata": {},
     "output_type": "execute_result"
    }
   ],
   "source": [
    "v + v"
   ]
  },
  {
   "cell_type": "code",
   "execution_count": 186,
   "id": "86aa1bd1",
   "metadata": {},
   "outputs": [
    {
     "data": {
      "text/latex": [
       "$\\displaystyle \\left[\\begin{matrix}2\\\\4\\\\6\\\\8\\end{matrix}\\right]$"
      ],
      "text/plain": [
       "Matrix([\n",
       "[2],\n",
       "[4],\n",
       "[6],\n",
       "[8]])"
      ]
     },
     "execution_count": 186,
     "metadata": {},
     "output_type": "execute_result"
    }
   ],
   "source": [
    "u + u"
   ]
  },
  {
   "cell_type": "code",
   "execution_count": 187,
   "id": "f212e0af",
   "metadata": {},
   "outputs": [
    {
     "data": {
      "text/plain": [
       "array([ 3,  6,  9, 12])"
      ]
     },
     "execution_count": 187,
     "metadata": {},
     "output_type": "execute_result"
    }
   ],
   "source": [
    "3 * v"
   ]
  },
  {
   "cell_type": "code",
   "execution_count": 188,
   "id": "2e333244",
   "metadata": {},
   "outputs": [
    {
     "data": {
      "text/latex": [
       "$\\displaystyle \\left[\\begin{matrix}3\\\\6\\\\9\\\\12\\end{matrix}\\right]$"
      ],
      "text/plain": [
       "Matrix([\n",
       "[ 3],\n",
       "[ 6],\n",
       "[ 9],\n",
       "[12]])"
      ]
     },
     "execution_count": 188,
     "metadata": {},
     "output_type": "execute_result"
    }
   ],
   "source": [
    "3 * u"
   ]
  },
  {
   "cell_type": "code",
   "execution_count": 189,
   "id": "dbe92b8f",
   "metadata": {},
   "outputs": [
    {
     "data": {
      "text/plain": [
       "array([4, 5, 6, 7])"
      ]
     },
     "execution_count": 189,
     "metadata": {},
     "output_type": "execute_result"
    }
   ],
   "source": [
    "3 + v"
   ]
  },
  {
   "cell_type": "code",
   "execution_count": 190,
   "id": "c56ea130",
   "metadata": {},
   "outputs": [
    {
     "data": {
      "text/plain": [
       "array([-1,  0,  1,  2])"
      ]
     },
     "execution_count": 190,
     "metadata": {},
     "output_type": "execute_result"
    }
   ],
   "source": [
    "v - 2"
   ]
  },
  {
   "cell_type": "code",
   "execution_count": 191,
   "id": "f234095f",
   "metadata": {},
   "outputs": [
    {
     "data": {
      "text/plain": [
       "array([0.33333333, 0.66666667, 1.        , 1.33333333])"
      ]
     },
     "execution_count": 191,
     "metadata": {},
     "output_type": "execute_result"
    }
   ],
   "source": [
    "v / 3"
   ]
  },
  {
   "cell_type": "code",
   "execution_count": 192,
   "id": "55ce02d4",
   "metadata": {},
   "outputs": [
    {
     "data": {
      "text/plain": [
       "array([ 1,  4,  9, 16])"
      ]
     },
     "execution_count": 192,
     "metadata": {},
     "output_type": "execute_result"
    }
   ],
   "source": [
    "v ** 2"
   ]
  },
  {
   "cell_type": "code",
   "execution_count": 193,
   "id": "01acac3f",
   "metadata": {},
   "outputs": [
    {
     "data": {
      "text/plain": [
       "array([1, 0, 1, 0], dtype=int32)"
      ]
     },
     "execution_count": 193,
     "metadata": {},
     "output_type": "execute_result"
    }
   ],
   "source": [
    "v % 2"
   ]
  },
  {
   "cell_type": "code",
   "execution_count": 194,
   "id": "e9003f48",
   "metadata": {},
   "outputs": [
    {
     "ename": "TypeError",
     "evalue": "cannot add <class 'sympy.matrices.dense.MutableDenseMatrix'> and <class 'int'>",
     "output_type": "error",
     "traceback": [
      "\u001b[1;31m---------------------------------------------------------------------------\u001b[0m",
      "\u001b[1;31mTypeError\u001b[0m                                 Traceback (most recent call last)",
      "Cell \u001b[1;32mIn[194], line 1\u001b[0m\n\u001b[1;32m----> 1\u001b[0m \u001b[43mu\u001b[49m\u001b[43m \u001b[49m\u001b[38;5;241;43m+\u001b[39;49m\u001b[43m \u001b[49m\u001b[38;5;241;43m3\u001b[39;49m\n",
      "File \u001b[1;32m~\\Anaconda3\\lib\\site-packages\\sympy\\core\\decorators.py:106\u001b[0m, in \u001b[0;36mcall_highest_priority.<locals>.priority_decorator.<locals>.binary_op_wrapper\u001b[1;34m(self, other)\u001b[0m\n\u001b[0;32m    104\u001b[0m         \u001b[38;5;28;01mif\u001b[39;00m f \u001b[38;5;129;01mis\u001b[39;00m \u001b[38;5;129;01mnot\u001b[39;00m \u001b[38;5;28;01mNone\u001b[39;00m:\n\u001b[0;32m    105\u001b[0m             \u001b[38;5;28;01mreturn\u001b[39;00m f(\u001b[38;5;28mself\u001b[39m)\n\u001b[1;32m--> 106\u001b[0m \u001b[38;5;28;01mreturn\u001b[39;00m \u001b[43mfunc\u001b[49m\u001b[43m(\u001b[49m\u001b[38;5;28;43mself\u001b[39;49m\u001b[43m,\u001b[49m\u001b[43m \u001b[49m\u001b[43mother\u001b[49m\u001b[43m)\u001b[49m\n",
      "File \u001b[1;32m~\\Anaconda3\\lib\\site-packages\\sympy\\matrices\\common.py:2725\u001b[0m, in \u001b[0;36mMatrixArithmetic.__add__\u001b[1;34m(self, other)\u001b[0m\n\u001b[0;32m   2722\u001b[0m \u001b[38;5;28;01mif\u001b[39;00m \u001b[38;5;28mgetattr\u001b[39m(other, \u001b[38;5;124m'\u001b[39m\u001b[38;5;124mis_MatrixLike\u001b[39m\u001b[38;5;124m'\u001b[39m, \u001b[38;5;28;01mFalse\u001b[39;00m):\n\u001b[0;32m   2723\u001b[0m     \u001b[38;5;28;01mreturn\u001b[39;00m MatrixArithmetic\u001b[38;5;241m.\u001b[39m_eval_add(\u001b[38;5;28mself\u001b[39m, other)\n\u001b[1;32m-> 2725\u001b[0m \u001b[38;5;28;01mraise\u001b[39;00m \u001b[38;5;167;01mTypeError\u001b[39;00m(\u001b[38;5;124m'\u001b[39m\u001b[38;5;124mcannot add \u001b[39m\u001b[38;5;132;01m%s\u001b[39;00m\u001b[38;5;124m and \u001b[39m\u001b[38;5;132;01m%s\u001b[39;00m\u001b[38;5;124m'\u001b[39m \u001b[38;5;241m%\u001b[39m (\u001b[38;5;28mtype\u001b[39m(\u001b[38;5;28mself\u001b[39m), \u001b[38;5;28mtype\u001b[39m(other)))\n",
      "\u001b[1;31mTypeError\u001b[0m: cannot add <class 'sympy.matrices.dense.MutableDenseMatrix'> and <class 'int'>"
     ]
    }
   ],
   "source": [
    "u + 3"
   ]
  },
  {
   "cell_type": "code",
   "execution_count": 195,
   "id": "a25bfaa8",
   "metadata": {},
   "outputs": [
    {
     "data": {
      "text/latex": [
       "$\\displaystyle \\left[\\begin{matrix}\\frac{1}{3}\\\\\\frac{2}{3}\\\\1\\\\\\frac{4}{3}\\end{matrix}\\right]$"
      ],
      "text/plain": [
       "Matrix([\n",
       "[1/3],\n",
       "[2/3],\n",
       "[  1],\n",
       "[4/3]])"
      ]
     },
     "execution_count": 195,
     "metadata": {},
     "output_type": "execute_result"
    }
   ],
   "source": [
    "u / 3 # (1/3) * u"
   ]
  },
  {
   "cell_type": "code",
   "execution_count": 196,
   "id": "a29c15af",
   "metadata": {},
   "outputs": [
    {
     "ename": "ShapeError",
     "evalue": "Matrix size mismatch: (4, 1) * (4, 1).",
     "output_type": "error",
     "traceback": [
      "\u001b[1;31m---------------------------------------------------------------------------\u001b[0m",
      "\u001b[1;31mShapeError\u001b[0m                                Traceback (most recent call last)",
      "Cell \u001b[1;32mIn[196], line 1\u001b[0m\n\u001b[1;32m----> 1\u001b[0m \u001b[43mu\u001b[49m\u001b[43m \u001b[49m\u001b[38;5;241;43m*\u001b[39;49m\u001b[43m \u001b[49m\u001b[43mu\u001b[49m\n",
      "File \u001b[1;32m~\\Anaconda3\\lib\\site-packages\\sympy\\core\\decorators.py:106\u001b[0m, in \u001b[0;36mcall_highest_priority.<locals>.priority_decorator.<locals>.binary_op_wrapper\u001b[1;34m(self, other)\u001b[0m\n\u001b[0;32m    104\u001b[0m         \u001b[38;5;28;01mif\u001b[39;00m f \u001b[38;5;129;01mis\u001b[39;00m \u001b[38;5;129;01mnot\u001b[39;00m \u001b[38;5;28;01mNone\u001b[39;00m:\n\u001b[0;32m    105\u001b[0m             \u001b[38;5;28;01mreturn\u001b[39;00m f(\u001b[38;5;28mself\u001b[39m)\n\u001b[1;32m--> 106\u001b[0m \u001b[38;5;28;01mreturn\u001b[39;00m \u001b[43mfunc\u001b[49m\u001b[43m(\u001b[49m\u001b[38;5;28;43mself\u001b[39;49m\u001b[43m,\u001b[49m\u001b[43m \u001b[49m\u001b[43mother\u001b[49m\u001b[43m)\u001b[49m\n",
      "File \u001b[1;32m~\\Anaconda3\\lib\\site-packages\\sympy\\matrices\\common.py:2771\u001b[0m, in \u001b[0;36mMatrixArithmetic.__mul__\u001b[1;34m(self, other)\u001b[0m\n\u001b[0;32m   2742\u001b[0m \u001b[38;5;129m@call_highest_priority\u001b[39m(\u001b[38;5;124m'\u001b[39m\u001b[38;5;124m__rmul__\u001b[39m\u001b[38;5;124m'\u001b[39m)\n\u001b[0;32m   2743\u001b[0m \u001b[38;5;28;01mdef\u001b[39;00m \u001b[38;5;21m__mul__\u001b[39m(\u001b[38;5;28mself\u001b[39m, other):\n\u001b[0;32m   2744\u001b[0m \u001b[38;5;250m    \u001b[39m\u001b[38;5;124;03m\"\"\"Return self*other where other is either a scalar or a matrix\u001b[39;00m\n\u001b[0;32m   2745\u001b[0m \u001b[38;5;124;03m    of compatible dimensions.\u001b[39;00m\n\u001b[0;32m   2746\u001b[0m \n\u001b[1;32m   (...)\u001b[0m\n\u001b[0;32m   2768\u001b[0m \u001b[38;5;124;03m    matrix_multiply_elementwise\u001b[39;00m\n\u001b[0;32m   2769\u001b[0m \u001b[38;5;124;03m    \"\"\"\u001b[39;00m\n\u001b[1;32m-> 2771\u001b[0m     \u001b[38;5;28;01mreturn\u001b[39;00m \u001b[38;5;28;43mself\u001b[39;49m\u001b[38;5;241;43m.\u001b[39;49m\u001b[43mmultiply\u001b[49m\u001b[43m(\u001b[49m\u001b[43mother\u001b[49m\u001b[43m)\u001b[49m\n",
      "File \u001b[1;32m~\\Anaconda3\\lib\\site-packages\\sympy\\matrices\\common.py:2793\u001b[0m, in \u001b[0;36mMatrixArithmetic.multiply\u001b[1;34m(self, other, dotprodsimp)\u001b[0m\n\u001b[0;32m   2789\u001b[0m \u001b[38;5;28;01mif\u001b[39;00m (\u001b[38;5;28mhasattr\u001b[39m(other, \u001b[38;5;124m'\u001b[39m\u001b[38;5;124mshape\u001b[39m\u001b[38;5;124m'\u001b[39m) \u001b[38;5;129;01mand\u001b[39;00m \u001b[38;5;28mlen\u001b[39m(other\u001b[38;5;241m.\u001b[39mshape) \u001b[38;5;241m==\u001b[39m \u001b[38;5;241m2\u001b[39m \u001b[38;5;129;01mand\u001b[39;00m\n\u001b[0;32m   2790\u001b[0m     (\u001b[38;5;28mgetattr\u001b[39m(other, \u001b[38;5;124m'\u001b[39m\u001b[38;5;124mis_Matrix\u001b[39m\u001b[38;5;124m'\u001b[39m, \u001b[38;5;28;01mTrue\u001b[39;00m) \u001b[38;5;129;01mor\u001b[39;00m\n\u001b[0;32m   2791\u001b[0m      \u001b[38;5;28mgetattr\u001b[39m(other, \u001b[38;5;124m'\u001b[39m\u001b[38;5;124mis_MatrixLike\u001b[39m\u001b[38;5;124m'\u001b[39m, \u001b[38;5;28;01mTrue\u001b[39;00m))):\n\u001b[0;32m   2792\u001b[0m     \u001b[38;5;28;01mif\u001b[39;00m \u001b[38;5;28mself\u001b[39m\u001b[38;5;241m.\u001b[39mshape[\u001b[38;5;241m1\u001b[39m] \u001b[38;5;241m!=\u001b[39m other\u001b[38;5;241m.\u001b[39mshape[\u001b[38;5;241m0\u001b[39m]:\n\u001b[1;32m-> 2793\u001b[0m         \u001b[38;5;28;01mraise\u001b[39;00m ShapeError(\u001b[38;5;124m\"\u001b[39m\u001b[38;5;124mMatrix size mismatch: \u001b[39m\u001b[38;5;132;01m%s\u001b[39;00m\u001b[38;5;124m * \u001b[39m\u001b[38;5;132;01m%s\u001b[39;00m\u001b[38;5;124m.\u001b[39m\u001b[38;5;124m\"\u001b[39m \u001b[38;5;241m%\u001b[39m (\n\u001b[0;32m   2794\u001b[0m             \u001b[38;5;28mself\u001b[39m\u001b[38;5;241m.\u001b[39mshape, other\u001b[38;5;241m.\u001b[39mshape))\n\u001b[0;32m   2796\u001b[0m \u001b[38;5;66;03m# honest SymPy matrices defer to their class's routine\u001b[39;00m\n\u001b[0;32m   2797\u001b[0m \u001b[38;5;28;01mif\u001b[39;00m \u001b[38;5;28mgetattr\u001b[39m(other, \u001b[38;5;124m'\u001b[39m\u001b[38;5;124mis_Matrix\u001b[39m\u001b[38;5;124m'\u001b[39m, \u001b[38;5;28;01mFalse\u001b[39;00m):\n",
      "\u001b[1;31mShapeError\u001b[0m: Matrix size mismatch: (4, 1) * (4, 1)."
     ]
    }
   ],
   "source": [
    "u * u"
   ]
  },
  {
   "cell_type": "code",
   "execution_count": 199,
   "id": "0144850a",
   "metadata": {},
   "outputs": [
    {
     "data": {
      "text/latex": [
       "$\\displaystyle \\left[\\begin{matrix}1\\\\2\\\\0\\\\1\\end{matrix}\\right]$"
      ],
      "text/plain": [
       "Matrix([\n",
       "[1],\n",
       "[2],\n",
       "[0],\n",
       "[1]])"
      ]
     },
     "execution_count": 199,
     "metadata": {},
     "output_type": "execute_result"
    }
   ],
   "source": [
    "u % 3"
   ]
  },
  {
   "cell_type": "code",
   "execution_count": 201,
   "id": "0919b160",
   "metadata": {},
   "outputs": [],
   "source": [
    "u = Matrix([1, 2, 3, 4])\n",
    "v = Matrix([1, 2, 3])"
   ]
  },
  {
   "cell_type": "code",
   "execution_count": 202,
   "id": "1274ed99",
   "metadata": {},
   "outputs": [
    {
     "data": {
      "text/latex": [
       "$\\displaystyle \\left[\\begin{matrix}1\\\\2\\\\3\\end{matrix}\\right]$"
      ],
      "text/plain": [
       "Matrix([\n",
       "[1],\n",
       "[2],\n",
       "[3]])"
      ]
     },
     "execution_count": 202,
     "metadata": {},
     "output_type": "execute_result"
    }
   ],
   "source": [
    "v"
   ]
  },
  {
   "cell_type": "code",
   "execution_count": 203,
   "id": "52ed3ad4",
   "metadata": {},
   "outputs": [
    {
     "data": {
      "text/latex": [
       "$\\displaystyle \\left[\\begin{matrix}1\\\\2\\\\3\\\\4\\end{matrix}\\right]$"
      ],
      "text/plain": [
       "Matrix([\n",
       "[1],\n",
       "[2],\n",
       "[3],\n",
       "[4]])"
      ]
     },
     "execution_count": 203,
     "metadata": {},
     "output_type": "execute_result"
    }
   ],
   "source": [
    "u"
   ]
  },
  {
   "cell_type": "code",
   "execution_count": 204,
   "id": "d3ad5220",
   "metadata": {},
   "outputs": [
    {
     "ename": "ShapeError",
     "evalue": "Matrix size mismatch: (4, 1) + (3, 1)",
     "output_type": "error",
     "traceback": [
      "\u001b[1;31m---------------------------------------------------------------------------\u001b[0m",
      "\u001b[1;31mShapeError\u001b[0m                                Traceback (most recent call last)",
      "Cell \u001b[1;32mIn[204], line 1\u001b[0m\n\u001b[1;32m----> 1\u001b[0m \u001b[43mu\u001b[49m\u001b[43m \u001b[49m\u001b[38;5;241;43m+\u001b[39;49m\u001b[43m \u001b[49m\u001b[43mv\u001b[49m\n",
      "File \u001b[1;32m~\\Anaconda3\\lib\\site-packages\\sympy\\core\\decorators.py:106\u001b[0m, in \u001b[0;36mcall_highest_priority.<locals>.priority_decorator.<locals>.binary_op_wrapper\u001b[1;34m(self, other)\u001b[0m\n\u001b[0;32m    104\u001b[0m         \u001b[38;5;28;01mif\u001b[39;00m f \u001b[38;5;129;01mis\u001b[39;00m \u001b[38;5;129;01mnot\u001b[39;00m \u001b[38;5;28;01mNone\u001b[39;00m:\n\u001b[0;32m    105\u001b[0m             \u001b[38;5;28;01mreturn\u001b[39;00m f(\u001b[38;5;28mself\u001b[39m)\n\u001b[1;32m--> 106\u001b[0m \u001b[38;5;28;01mreturn\u001b[39;00m \u001b[43mfunc\u001b[49m\u001b[43m(\u001b[49m\u001b[38;5;28;43mself\u001b[39;49m\u001b[43m,\u001b[49m\u001b[43m \u001b[49m\u001b[43mother\u001b[49m\u001b[43m)\u001b[49m\n",
      "File \u001b[1;32m~\\Anaconda3\\lib\\site-packages\\sympy\\matrices\\common.py:2711\u001b[0m, in \u001b[0;36mMatrixArithmetic.__add__\u001b[1;34m(self, other)\u001b[0m\n\u001b[0;32m   2709\u001b[0m \u001b[38;5;28;01mif\u001b[39;00m \u001b[38;5;28mhasattr\u001b[39m(other, \u001b[38;5;124m'\u001b[39m\u001b[38;5;124mshape\u001b[39m\u001b[38;5;124m'\u001b[39m):\n\u001b[0;32m   2710\u001b[0m     \u001b[38;5;28;01mif\u001b[39;00m \u001b[38;5;28mself\u001b[39m\u001b[38;5;241m.\u001b[39mshape \u001b[38;5;241m!=\u001b[39m other\u001b[38;5;241m.\u001b[39mshape:\n\u001b[1;32m-> 2711\u001b[0m         \u001b[38;5;28;01mraise\u001b[39;00m ShapeError(\u001b[38;5;124m\"\u001b[39m\u001b[38;5;124mMatrix size mismatch: \u001b[39m\u001b[38;5;132;01m%s\u001b[39;00m\u001b[38;5;124m + \u001b[39m\u001b[38;5;132;01m%s\u001b[39;00m\u001b[38;5;124m\"\u001b[39m \u001b[38;5;241m%\u001b[39m (\n\u001b[0;32m   2712\u001b[0m             \u001b[38;5;28mself\u001b[39m\u001b[38;5;241m.\u001b[39mshape, other\u001b[38;5;241m.\u001b[39mshape))\n\u001b[0;32m   2714\u001b[0m \u001b[38;5;66;03m# honest SymPy matrices defer to their class's routine\u001b[39;00m\n\u001b[0;32m   2715\u001b[0m \u001b[38;5;28;01mif\u001b[39;00m \u001b[38;5;28mgetattr\u001b[39m(other, \u001b[38;5;124m'\u001b[39m\u001b[38;5;124mis_Matrix\u001b[39m\u001b[38;5;124m'\u001b[39m, \u001b[38;5;28;01mFalse\u001b[39;00m):\n\u001b[0;32m   2716\u001b[0m     \u001b[38;5;66;03m# call the highest-priority class's _eval_add\u001b[39;00m\n",
      "\u001b[1;31mShapeError\u001b[0m: Matrix size mismatch: (4, 1) + (3, 1)"
     ]
    }
   ],
   "source": [
    "u + v"
   ]
  },
  {
   "cell_type": "code",
   "execution_count": 205,
   "id": "cf6a7eda",
   "metadata": {},
   "outputs": [],
   "source": [
    "u = np.array([1, 2, 3, 4])\n",
    "v = np.array([1, 2, 3])"
   ]
  },
  {
   "cell_type": "code",
   "execution_count": 206,
   "id": "45ab92c0",
   "metadata": {},
   "outputs": [
    {
     "data": {
      "text/plain": [
       "array([1, 2, 3, 4])"
      ]
     },
     "execution_count": 206,
     "metadata": {},
     "output_type": "execute_result"
    }
   ],
   "source": [
    "u"
   ]
  },
  {
   "cell_type": "code",
   "execution_count": 207,
   "id": "06d49d0b",
   "metadata": {},
   "outputs": [
    {
     "data": {
      "text/plain": [
       "array([1, 2, 3])"
      ]
     },
     "execution_count": 207,
     "metadata": {},
     "output_type": "execute_result"
    }
   ],
   "source": [
    "v"
   ]
  },
  {
   "cell_type": "code",
   "execution_count": 208,
   "id": "7cff9e79",
   "metadata": {},
   "outputs": [
    {
     "ename": "ValueError",
     "evalue": "operands could not be broadcast together with shapes (4,) (3,) ",
     "output_type": "error",
     "traceback": [
      "\u001b[1;31m---------------------------------------------------------------------------\u001b[0m",
      "\u001b[1;31mValueError\u001b[0m                                Traceback (most recent call last)",
      "Cell \u001b[1;32mIn[208], line 1\u001b[0m\n\u001b[1;32m----> 1\u001b[0m \u001b[43mu\u001b[49m\u001b[43m \u001b[49m\u001b[38;5;241;43m+\u001b[39;49m\u001b[43m \u001b[49m\u001b[43mv\u001b[49m\n",
      "\u001b[1;31mValueError\u001b[0m: operands could not be broadcast together with shapes (4,) (3,) "
     ]
    }
   ],
   "source": [
    "u + v"
   ]
  },
  {
   "cell_type": "markdown",
   "id": "6407d5f3",
   "metadata": {},
   "source": [
    "[Regresar al Contenido](#Contenido)"
   ]
  },
  {
   "cell_type": "markdown",
   "id": "0336d57c",
   "metadata": {},
   "source": [
    "<hr>\n",
    "<h2>Matrices</h2>\n",
    "\n",
    "Entenderemos por matriz $A_{m \\times n}$ un arreglo rectangular de números dispuestos en m filas y n columnas.\n",
    "\n",
    "$$$$\n",
    "\n",
    "$$\n",
    "A = \n",
    "\\begin{bmatrix}\n",
    "a_{11} & a_{12} & \\cdots & a_{1n}\\\\\n",
    "a_{21} & a_{22} & \\cdots & a_{2n}\\\\\n",
    "\\cdots & \\cdots & \\ddots & \\cdots \\\\\n",
    "a_{m1} & a_{m2} & \\cdots & a_{mn}\\\\\n",
    "\\end{bmatrix}\n",
    "$$\n",
    "\n",
    "$$$$\n",
    "\n",
    "Si la matriz tiene el mismo número de filas y columnas, la llamaremos matriz cuadrada y la representaremos como $A_n$. Podemos imaginar cada fila o columna de una matriz por separado como un vector, fila o columna, y también definimos la suma de matrices y el producto por un **escalar** de forma similar a los vectores, la suma elemento a elemento ( entonces las matrices deben tener la misma **dimensión**), y el producto de multiplicar todos los elementos por el **escalar**.\n",
    "\n",
    "$$$$\n",
    "\n",
    "$$\n",
    "A + B = \n",
    "\\begin{bmatrix}\n",
    "a_{11} + b_{11} & a_{12} + b_{12} & \\cdots & a_{1n} + b_{1n}\\\\\n",
    "a_{21} + b_{21} & a_{22} + b_{22} & \\cdots & a_{2n} + b_{2n}\\\\\n",
    "\\cdots & \\cdots & \\ddots & \\cdots \\\\\n",
    "a_{m1} + b_{m1} & a_{m2} + b_{m2} & \\cdots & a_{mn} + b_{mn}\\\\\n",
    "\\end{bmatrix}\n",
    "$$\n",
    "\n",
    "$$$$\n",
    "\n",
    "$$\n",
    "\\alpha A = \n",
    "\\begin{bmatrix}\n",
    "\\alpha a_{11} & \\alpha a_{12} & \\cdots &\\alpha a_{1n}\\\\\n",
    "\\alpha a_{21} &\\alpha a_{22} & \\cdots &\\alpha a_{2n}\\\\\n",
    "\\cdots & \\cdots & \\ddots & \\cdots \\\\\n",
    "\\alpha a_{m1} &\\alpha a_{m2} &\\alpha \\cdots &\\alpha a_{mn}\\\\\n",
    "\\end{bmatrix}\n",
    "$$\n"
   ]
  },
  {
   "cell_type": "code",
   "execution_count": 209,
   "id": "bfff9d27",
   "metadata": {},
   "outputs": [],
   "source": [
    "m = np.array([[1, 2, 3], [4, 5, 6]])"
   ]
  },
  {
   "cell_type": "code",
   "execution_count": 210,
   "id": "59d28e73",
   "metadata": {},
   "outputs": [
    {
     "data": {
      "text/plain": [
       "array([[1, 2, 3],\n",
       "       [4, 5, 6]])"
      ]
     },
     "execution_count": 210,
     "metadata": {},
     "output_type": "execute_result"
    }
   ],
   "source": [
    "m"
   ]
  },
  {
   "cell_type": "code",
   "execution_count": 213,
   "id": "a08f61bf",
   "metadata": {},
   "outputs": [
    {
     "data": {
      "text/plain": [
       "(2, 3)"
      ]
     },
     "execution_count": 213,
     "metadata": {},
     "output_type": "execute_result"
    }
   ],
   "source": [
    "m.shape"
   ]
  },
  {
   "cell_type": "code",
   "execution_count": 215,
   "id": "56e2f260",
   "metadata": {},
   "outputs": [
    {
     "data": {
      "text/plain": [
       "(4,)"
      ]
     },
     "execution_count": 215,
     "metadata": {},
     "output_type": "execute_result"
    }
   ],
   "source": [
    "u.shape"
   ]
  },
  {
   "cell_type": "code",
   "execution_count": 219,
   "id": "2441c28e",
   "metadata": {},
   "outputs": [],
   "source": [
    "v = u.reshape((4, 1))"
   ]
  },
  {
   "cell_type": "code",
   "execution_count": 218,
   "id": "2d8beebd",
   "metadata": {},
   "outputs": [
    {
     "data": {
      "text/plain": [
       "array([1, 2, 3, 4])"
      ]
     },
     "execution_count": 218,
     "metadata": {},
     "output_type": "execute_result"
    }
   ],
   "source": [
    "u"
   ]
  },
  {
   "cell_type": "code",
   "execution_count": 220,
   "id": "2c7bbcef",
   "metadata": {},
   "outputs": [
    {
     "data": {
      "text/plain": [
       "array([[1],\n",
       "       [2],\n",
       "       [3],\n",
       "       [4]])"
      ]
     },
     "execution_count": 220,
     "metadata": {},
     "output_type": "execute_result"
    }
   ],
   "source": [
    "v"
   ]
  },
  {
   "cell_type": "code",
   "execution_count": 221,
   "id": "a6cca711",
   "metadata": {},
   "outputs": [
    {
     "data": {
      "text/plain": [
       "array([[2, 3, 4, 5],\n",
       "       [3, 4, 5, 6],\n",
       "       [4, 5, 6, 7],\n",
       "       [5, 6, 7, 8]])"
      ]
     },
     "execution_count": 221,
     "metadata": {},
     "output_type": "execute_result"
    }
   ],
   "source": [
    "u + v"
   ]
  },
  {
   "cell_type": "code",
   "execution_count": 227,
   "id": "716df478",
   "metadata": {},
   "outputs": [
    {
     "data": {
      "text/plain": [
       "array([[ 1,  2,  3,  4],\n",
       "       [ 2,  4,  6,  8],\n",
       "       [ 3,  6,  9, 12],\n",
       "       [ 4,  8, 12, 16]])"
      ]
     },
     "execution_count": 227,
     "metadata": {},
     "output_type": "execute_result"
    }
   ],
   "source": [
    "u * v"
   ]
  },
  {
   "cell_type": "code",
   "execution_count": 229,
   "id": "97eee9a8",
   "metadata": {},
   "outputs": [
    {
     "data": {
      "text/plain": [
       "array([[ 1,  2,  3,  4],\n",
       "       [ 2,  4,  6,  8],\n",
       "       [ 3,  6,  9, 12],\n",
       "       [ 4,  8, 12, 16]])"
      ]
     },
     "execution_count": 229,
     "metadata": {},
     "output_type": "execute_result"
    }
   ],
   "source": [
    "np.kron(u, v)"
   ]
  },
  {
   "cell_type": "code",
   "execution_count": 230,
   "id": "e17549cb",
   "metadata": {},
   "outputs": [
    {
     "data": {
      "text/plain": [
       "array([[0, 0, 0, 0],\n",
       "       [1, 0, 1, 0],\n",
       "       [1, 2, 0, 1],\n",
       "       [1, 2, 3, 0]])"
      ]
     },
     "execution_count": 230,
     "metadata": {},
     "output_type": "execute_result"
    }
   ],
   "source": [
    "u % v"
   ]
  },
  {
   "cell_type": "code",
   "execution_count": null,
   "id": "68919e1c",
   "metadata": {},
   "outputs": [],
   "source": []
  },
  {
   "cell_type": "code",
   "execution_count": null,
   "id": "bc1d3678",
   "metadata": {},
   "outputs": [],
   "source": []
  },
  {
   "cell_type": "code",
   "execution_count": 222,
   "id": "da947bd6",
   "metadata": {},
   "outputs": [],
   "source": [
    "m1 = Matrix([1, 2, 3, 4])"
   ]
  },
  {
   "cell_type": "code",
   "execution_count": 223,
   "id": "85f88ef4",
   "metadata": {},
   "outputs": [
    {
     "data": {
      "text/latex": [
       "$\\displaystyle \\left[\\begin{matrix}1\\\\2\\\\3\\\\4\\end{matrix}\\right]$"
      ],
      "text/plain": [
       "Matrix([\n",
       "[1],\n",
       "[2],\n",
       "[3],\n",
       "[4]])"
      ]
     },
     "execution_count": 223,
     "metadata": {},
     "output_type": "execute_result"
    }
   ],
   "source": [
    "m1"
   ]
  },
  {
   "cell_type": "code",
   "execution_count": 224,
   "id": "bba0bea2",
   "metadata": {},
   "outputs": [],
   "source": [
    "m2 = Matrix([[1, 2, 3, 4]])"
   ]
  },
  {
   "cell_type": "code",
   "execution_count": 225,
   "id": "f5697914",
   "metadata": {},
   "outputs": [
    {
     "data": {
      "text/latex": [
       "$\\displaystyle \\left[\\begin{matrix}1 & 2 & 3 & 4\\end{matrix}\\right]$"
      ],
      "text/plain": [
       "Matrix([[1, 2, 3, 4]])"
      ]
     },
     "execution_count": 225,
     "metadata": {},
     "output_type": "execute_result"
    }
   ],
   "source": [
    "m2"
   ]
  },
  {
   "cell_type": "code",
   "execution_count": 226,
   "id": "25d955e8",
   "metadata": {},
   "outputs": [
    {
     "ename": "ShapeError",
     "evalue": "Matrix size mismatch: (4, 1) + (1, 4)",
     "output_type": "error",
     "traceback": [
      "\u001b[1;31m---------------------------------------------------------------------------\u001b[0m",
      "\u001b[1;31mShapeError\u001b[0m                                Traceback (most recent call last)",
      "Cell \u001b[1;32mIn[226], line 1\u001b[0m\n\u001b[1;32m----> 1\u001b[0m \u001b[43mm1\u001b[49m\u001b[43m \u001b[49m\u001b[38;5;241;43m+\u001b[39;49m\u001b[43m \u001b[49m\u001b[43mm2\u001b[49m\n",
      "File \u001b[1;32m~\\Anaconda3\\lib\\site-packages\\sympy\\core\\decorators.py:106\u001b[0m, in \u001b[0;36mcall_highest_priority.<locals>.priority_decorator.<locals>.binary_op_wrapper\u001b[1;34m(self, other)\u001b[0m\n\u001b[0;32m    104\u001b[0m         \u001b[38;5;28;01mif\u001b[39;00m f \u001b[38;5;129;01mis\u001b[39;00m \u001b[38;5;129;01mnot\u001b[39;00m \u001b[38;5;28;01mNone\u001b[39;00m:\n\u001b[0;32m    105\u001b[0m             \u001b[38;5;28;01mreturn\u001b[39;00m f(\u001b[38;5;28mself\u001b[39m)\n\u001b[1;32m--> 106\u001b[0m \u001b[38;5;28;01mreturn\u001b[39;00m \u001b[43mfunc\u001b[49m\u001b[43m(\u001b[49m\u001b[38;5;28;43mself\u001b[39;49m\u001b[43m,\u001b[49m\u001b[43m \u001b[49m\u001b[43mother\u001b[49m\u001b[43m)\u001b[49m\n",
      "File \u001b[1;32m~\\Anaconda3\\lib\\site-packages\\sympy\\matrices\\common.py:2711\u001b[0m, in \u001b[0;36mMatrixArithmetic.__add__\u001b[1;34m(self, other)\u001b[0m\n\u001b[0;32m   2709\u001b[0m \u001b[38;5;28;01mif\u001b[39;00m \u001b[38;5;28mhasattr\u001b[39m(other, \u001b[38;5;124m'\u001b[39m\u001b[38;5;124mshape\u001b[39m\u001b[38;5;124m'\u001b[39m):\n\u001b[0;32m   2710\u001b[0m     \u001b[38;5;28;01mif\u001b[39;00m \u001b[38;5;28mself\u001b[39m\u001b[38;5;241m.\u001b[39mshape \u001b[38;5;241m!=\u001b[39m other\u001b[38;5;241m.\u001b[39mshape:\n\u001b[1;32m-> 2711\u001b[0m         \u001b[38;5;28;01mraise\u001b[39;00m ShapeError(\u001b[38;5;124m\"\u001b[39m\u001b[38;5;124mMatrix size mismatch: \u001b[39m\u001b[38;5;132;01m%s\u001b[39;00m\u001b[38;5;124m + \u001b[39m\u001b[38;5;132;01m%s\u001b[39;00m\u001b[38;5;124m\"\u001b[39m \u001b[38;5;241m%\u001b[39m (\n\u001b[0;32m   2712\u001b[0m             \u001b[38;5;28mself\u001b[39m\u001b[38;5;241m.\u001b[39mshape, other\u001b[38;5;241m.\u001b[39mshape))\n\u001b[0;32m   2714\u001b[0m \u001b[38;5;66;03m# honest SymPy matrices defer to their class's routine\u001b[39;00m\n\u001b[0;32m   2715\u001b[0m \u001b[38;5;28;01mif\u001b[39;00m \u001b[38;5;28mgetattr\u001b[39m(other, \u001b[38;5;124m'\u001b[39m\u001b[38;5;124mis_Matrix\u001b[39m\u001b[38;5;124m'\u001b[39m, \u001b[38;5;28;01mFalse\u001b[39;00m):\n\u001b[0;32m   2716\u001b[0m     \u001b[38;5;66;03m# call the highest-priority class's _eval_add\u001b[39;00m\n",
      "\u001b[1;31mShapeError\u001b[0m: Matrix size mismatch: (4, 1) + (1, 4)"
     ]
    }
   ],
   "source": [
    "m1 + m2"
   ]
  },
  {
   "cell_type": "code",
   "execution_count": 231,
   "id": "ab04ba26",
   "metadata": {},
   "outputs": [
    {
     "data": {
      "text/plain": [
       "array([[1, 2, 3],\n",
       "       [4, 5, 6]])"
      ]
     },
     "execution_count": 231,
     "metadata": {},
     "output_type": "execute_result"
    }
   ],
   "source": [
    "m"
   ]
  },
  {
   "cell_type": "code",
   "execution_count": 233,
   "id": "535399fc",
   "metadata": {},
   "outputs": [
    {
     "data": {
      "text/plain": [
       "1"
      ]
     },
     "execution_count": 233,
     "metadata": {},
     "output_type": "execute_result"
    }
   ],
   "source": [
    "u[0]"
   ]
  },
  {
   "cell_type": "code",
   "execution_count": 234,
   "id": "089b67e6",
   "metadata": {},
   "outputs": [
    {
     "data": {
      "text/plain": [
       "1"
      ]
     },
     "execution_count": 234,
     "metadata": {},
     "output_type": "execute_result"
    }
   ],
   "source": [
    "m[0, 0]"
   ]
  },
  {
   "cell_type": "code",
   "execution_count": 235,
   "id": "81249d9d",
   "metadata": {},
   "outputs": [
    {
     "data": {
      "text/plain": [
       "6"
      ]
     },
     "execution_count": 235,
     "metadata": {},
     "output_type": "execute_result"
    }
   ],
   "source": [
    "m[1, 2]"
   ]
  },
  {
   "cell_type": "code",
   "execution_count": 236,
   "id": "3f32bdf3",
   "metadata": {},
   "outputs": [
    {
     "data": {
      "text/plain": [
       "6"
      ]
     },
     "execution_count": 236,
     "metadata": {},
     "output_type": "execute_result"
    }
   ],
   "source": [
    "m[-1, -1]"
   ]
  },
  {
   "cell_type": "code",
   "execution_count": 237,
   "id": "3f2e22e4",
   "metadata": {},
   "outputs": [
    {
     "data": {
      "text/plain": [
       "array([1, 2, 3])"
      ]
     },
     "execution_count": 237,
     "metadata": {},
     "output_type": "execute_result"
    }
   ],
   "source": [
    "m[0, :]"
   ]
  },
  {
   "cell_type": "code",
   "execution_count": 238,
   "id": "133e9cca",
   "metadata": {},
   "outputs": [
    {
     "data": {
      "text/plain": [
       "array([4, 5, 6])"
      ]
     },
     "execution_count": 238,
     "metadata": {},
     "output_type": "execute_result"
    }
   ],
   "source": [
    "m[1, :]"
   ]
  },
  {
   "cell_type": "code",
   "execution_count": 239,
   "id": "6745b20f",
   "metadata": {},
   "outputs": [
    {
     "data": {
      "text/plain": [
       "array([4, 5, 6])"
      ]
     },
     "execution_count": 239,
     "metadata": {},
     "output_type": "execute_result"
    }
   ],
   "source": [
    "m[-1, :]"
   ]
  },
  {
   "cell_type": "code",
   "execution_count": 240,
   "id": "69b5b414",
   "metadata": {},
   "outputs": [
    {
     "data": {
      "text/plain": [
       "array([[1, 2, 3],\n",
       "       [4, 5, 6]])"
      ]
     },
     "execution_count": 240,
     "metadata": {},
     "output_type": "execute_result"
    }
   ],
   "source": [
    "m"
   ]
  },
  {
   "cell_type": "code",
   "execution_count": 241,
   "id": "80ad5d39",
   "metadata": {},
   "outputs": [
    {
     "data": {
      "text/plain": [
       "array([2, 5])"
      ]
     },
     "execution_count": 241,
     "metadata": {},
     "output_type": "execute_result"
    }
   ],
   "source": [
    "m[:, -2]"
   ]
  },
  {
   "cell_type": "code",
   "execution_count": 243,
   "id": "f3e7e121",
   "metadata": {},
   "outputs": [
    {
     "data": {
      "text/plain": [
       "array([[2, 3],\n",
       "       [5, 6]])"
      ]
     },
     "execution_count": 243,
     "metadata": {},
     "output_type": "execute_result"
    }
   ],
   "source": [
    "m[:, 1:]"
   ]
  },
  {
   "cell_type": "code",
   "execution_count": 244,
   "id": "064056bd",
   "metadata": {},
   "outputs": [],
   "source": [
    "m = Matrix(m)"
   ]
  },
  {
   "cell_type": "code",
   "execution_count": 245,
   "id": "a85d6c88",
   "metadata": {},
   "outputs": [
    {
     "data": {
      "text/latex": [
       "$\\displaystyle \\left[\\begin{matrix}1 & 2 & 3\\\\4 & 5 & 6\\end{matrix}\\right]$"
      ],
      "text/plain": [
       "Matrix([\n",
       "[1, 2, 3],\n",
       "[4, 5, 6]])"
      ]
     },
     "execution_count": 245,
     "metadata": {},
     "output_type": "execute_result"
    }
   ],
   "source": [
    "m"
   ]
  },
  {
   "cell_type": "code",
   "execution_count": 246,
   "id": "a769d354",
   "metadata": {},
   "outputs": [
    {
     "data": {
      "text/latex": [
       "$\\displaystyle 1$"
      ],
      "text/plain": [
       "1"
      ]
     },
     "execution_count": 246,
     "metadata": {},
     "output_type": "execute_result"
    }
   ],
   "source": [
    "m[0,  0]"
   ]
  },
  {
   "cell_type": "code",
   "execution_count": 247,
   "id": "7012ed52",
   "metadata": {},
   "outputs": [
    {
     "data": {
      "text/latex": [
       "$\\displaystyle \\left[\\begin{matrix}2\\\\5\\end{matrix}\\right]$"
      ],
      "text/plain": [
       "Matrix([\n",
       "[2],\n",
       "[5]])"
      ]
     },
     "execution_count": 247,
     "metadata": {},
     "output_type": "execute_result"
    }
   ],
   "source": [
    "m[:, 1]"
   ]
  },
  {
   "cell_type": "code",
   "execution_count": 248,
   "id": "1e453d33",
   "metadata": {},
   "outputs": [
    {
     "data": {
      "text/latex": [
       "$\\displaystyle \\left[\\begin{matrix}1 & 2 & 3\\end{matrix}\\right]$"
      ],
      "text/plain": [
       "Matrix([[1, 2, 3]])"
      ]
     },
     "execution_count": 248,
     "metadata": {},
     "output_type": "execute_result"
    }
   ],
   "source": [
    "m[0, :]"
   ]
  },
  {
   "cell_type": "code",
   "execution_count": 249,
   "id": "e9d54d60",
   "metadata": {},
   "outputs": [
    {
     "data": {
      "text/plain": [
       "(2, 3)"
      ]
     },
     "execution_count": 249,
     "metadata": {},
     "output_type": "execute_result"
    }
   ],
   "source": [
    "m.shape"
   ]
  },
  {
   "cell_type": "markdown",
   "id": "aaec1a35",
   "metadata": {},
   "source": [
    "[Regresar al Contenido](#Contenido)"
   ]
  },
  {
   "cell_type": "markdown",
   "id": "983c215a",
   "metadata": {},
   "source": [
    "<hr>\n",
    "<h2>Producto de matrices y vectores</h2>\n",
    "\n",
    "<h3>Producto escalar</h3>\n",
    "\n",
    "El producto escalar es un producto definido entre vectores con la misma **dimensión** y que devuelve un **escalar** como resultado. Se define de la siguiente manera:\n",
    "$$$$\n",
    "\n",
    "$$\\vec{x} \\cdot \\vec{y} = x_1 y_1 + x_2 y_2 + \\cdots + x_n y_n$$\n",
    "\n",
    "$$$$\n",
    "O alternativamente lo definimos como:\n",
    "$$$$\n",
    "\n",
    "$$ \\vec{x} \\cdot \\vec{y} = |\\vec{x}| |\\vec{y}|\\cos{\\theta}$$\n",
    "\n",
    "$$$$\n",
    "\n",
    "Donde $|\\vec{x}|$ representa la **norma** del vector $\\vec{x}$ y $\\theta$ es el ángulo más pequeño entre $\\vec{x}$ y $\\vec{y}$. Es importante tener en cuenta que $\\cos{\\theta}$ desaparece cuando $\\theta = \\frac{\\pi}{2}$, por lo que el producto escalar es 0 cuando los vectores son ortogonales."
   ]
  },
  {
   "cell_type": "code",
   "execution_count": 250,
   "id": "1fd3b37b",
   "metadata": {},
   "outputs": [],
   "source": [
    "import matplotlib.pyplot as plt"
   ]
  },
  {
   "cell_type": "code",
   "execution_count": 253,
   "id": "31e9cb58",
   "metadata": {},
   "outputs": [],
   "source": [
    "v = np.array([1, 2, 3, 4])"
   ]
  },
  {
   "cell_type": "code",
   "execution_count": 254,
   "id": "f8d0aa1e",
   "metadata": {},
   "outputs": [
    {
     "data": {
      "text/plain": [
       "30"
      ]
     },
     "execution_count": 254,
     "metadata": {},
     "output_type": "execute_result"
    }
   ],
   "source": [
    "v.dot(v)"
   ]
  },
  {
   "cell_type": "code",
   "execution_count": 256,
   "id": "51f7cad2",
   "metadata": {},
   "outputs": [
    {
     "data": {
      "text/plain": [
       "30.0"
      ]
     },
     "execution_count": 256,
     "metadata": {},
     "output_type": "execute_result"
    }
   ],
   "source": [
    "np.linalg.norm(v) ** 2"
   ]
  },
  {
   "cell_type": "code",
   "execution_count": 257,
   "id": "ac6e3df2",
   "metadata": {},
   "outputs": [],
   "source": [
    "u, v = np.array([1, 0]), np.array([0, 1])"
   ]
  },
  {
   "cell_type": "code",
   "execution_count": 258,
   "id": "03c84bab",
   "metadata": {},
   "outputs": [
    {
     "data": {
      "text/plain": [
       "array([1, 0])"
      ]
     },
     "execution_count": 258,
     "metadata": {},
     "output_type": "execute_result"
    }
   ],
   "source": [
    "u"
   ]
  },
  {
   "cell_type": "code",
   "execution_count": 259,
   "id": "4dc702ed",
   "metadata": {},
   "outputs": [
    {
     "data": {
      "text/plain": [
       "array([0, 1])"
      ]
     },
     "execution_count": 259,
     "metadata": {},
     "output_type": "execute_result"
    }
   ],
   "source": [
    "v"
   ]
  },
  {
   "cell_type": "code",
   "execution_count": 275,
   "id": "df05353e",
   "metadata": {},
   "outputs": [
    {
     "data": {
      "image/png": "[encoded data removed]",
      "text/plain": [
       "<Figure size 700x700 with 1 Axes>"
      ]
     },
     "metadata": {},
     "output_type": "display_data"
    }
   ],
   "source": [
    "fig, ax = plt.subplots(figsize = (7, 7))\n",
    "\n",
    "\n",
    "ax.quiver([0, 0], #X's de inicio\n",
    "          [0, 0], #y's de inicio\n",
    "          [1, 0], #x's finales\n",
    "          [0, 1], #y's finales\n",
    "          scale = 3)\n",
    "\n",
    "ax.set_xticklabels([])\n",
    "ax.set_yticklabels([]);"
   ]
  },
  {
   "cell_type": "code",
   "execution_count": 276,
   "id": "8321ad8f",
   "metadata": {},
   "outputs": [
    {
     "data": {
      "text/plain": [
       "0"
      ]
     },
     "execution_count": 276,
     "metadata": {},
     "output_type": "execute_result"
    }
   ],
   "source": [
    "u.dot(v)"
   ]
  },
  {
   "cell_type": "code",
   "execution_count": 277,
   "id": "0407a152",
   "metadata": {},
   "outputs": [
    {
     "data": {
      "text/plain": [
       "0"
      ]
     },
     "execution_count": 277,
     "metadata": {},
     "output_type": "execute_result"
    }
   ],
   "source": [
    "v.dot(u)"
   ]
  },
  {
   "cell_type": "code",
   "execution_count": 278,
   "id": "e53a9ed4",
   "metadata": {},
   "outputs": [],
   "source": [
    "u, v = np.array([1.5, 7]), np.array([-7, 1.5])"
   ]
  },
  {
   "cell_type": "code",
   "execution_count": 280,
   "id": "fa24751b",
   "metadata": {},
   "outputs": [
    {
     "data": {
      "text/plain": [
       "0.0"
      ]
     },
     "execution_count": 280,
     "metadata": {},
     "output_type": "execute_result"
    }
   ],
   "source": [
    "u.dot(v)"
   ]
  },
  {
   "cell_type": "code",
   "execution_count": 284,
   "id": "3474a53d",
   "metadata": {},
   "outputs": [
    {
     "data": {
      "image/png": "[encoded data removed]",
      "text/plain": [
       "<Figure size 700x700 with 1 Axes>"
      ]
     },
     "metadata": {},
     "output_type": "display_data"
    }
   ],
   "source": [
    "fig, ax = plt.subplots(figsize = (7, 7))\n",
    "\n",
    "\n",
    "ax.quiver([0, 0], #X's de inicio\n",
    "          [0, 0], #y's de inicio\n",
    "          u, #x's finales\n",
    "          v, #y's finales\n",
    "          scale = 20)\n",
    "\n",
    "ax.set_xticklabels([])\n",
    "ax.set_yticklabels([]);"
   ]
  },
  {
   "cell_type": "markdown",
   "id": "0211bd13",
   "metadata": {},
   "source": [
    "[Regresar al Contenido](#Contenido)"
   ]
  },
  {
   "cell_type": "markdown",
   "id": "51029816",
   "metadata": {},
   "source": [
    "<h3>Multiplicación de matrices</h3>\n",
    "\n",
    "El Producto entre matrices se define entre dos matrices $A_{m \\times n}$ y $B_{n \\times p}$ y dará como resultado una matriz $C_{m \\times p} $, cuyos elementos se definen como $ c_{ij} = a_{i1} b_{1j} + a_{i2} b_{2j} + \\cdots + a_{in} b_{nj}$\n",
    "\n",
    "\n",
    "<img src=https://upload.wikimedia.org/wikipedia/commons/thumb/1/11/Matrix_multiplication_diagram.svg/800px-Matrix_multiplication_diagram.svg.png width = 400 height = 400>\n",
    "\n",
    "\n",
    "Podemos interpretar el elemento $c_{ij}$ como el producto escalar entre el vector de fila i-ésima de $A$ y el vector de columna j-ésima de $B$.\n",
    "\n",
    "$$c_{ij} =\n",
    "\\begin{bmatrix}\n",
    "a_{i1} & a_{i2} & \\cdots & a_{in}\n",
    "\\end{bmatrix}\n",
    "\\begin{bmatrix}\n",
    "b_{1j}\\\\\n",
    "b_{2j}\\\\\n",
    "\\vdots \\\\\n",
    "b_{nj}\\\\\n",
    "\\end{bmatrix}\n",
    "= a_{i1}b_{1j} + a_{i2}b_{2j} + \\cdots + a_{in}b_{nj}\n",
    "$$"
   ]
  },
  {
   "cell_type": "code",
   "execution_count": 285,
   "id": "01eb251c",
   "metadata": {},
   "outputs": [],
   "source": [
    "a = np.array([[1, 2, 3], [4, 5, 6]])"
   ]
  },
  {
   "cell_type": "code",
   "execution_count": 286,
   "id": "82fcf06f",
   "metadata": {},
   "outputs": [],
   "source": [
    "b = np.array([[1, 2], [3, 4], [5, 6]])"
   ]
  },
  {
   "cell_type": "code",
   "execution_count": 287,
   "id": "370b8628",
   "metadata": {},
   "outputs": [
    {
     "data": {
      "text/plain": [
       "((2, 3), (3, 2))"
      ]
     },
     "execution_count": 287,
     "metadata": {},
     "output_type": "execute_result"
    }
   ],
   "source": [
    "a.shape, b.shape"
   ]
  },
  {
   "cell_type": "code",
   "execution_count": 288,
   "id": "328e89b8",
   "metadata": {},
   "outputs": [
    {
     "data": {
      "text/plain": [
       "array([[22, 28],\n",
       "       [49, 64]])"
      ]
     },
     "execution_count": 288,
     "metadata": {},
     "output_type": "execute_result"
    }
   ],
   "source": [
    "a.dot(b)"
   ]
  },
  {
   "cell_type": "code",
   "execution_count": 289,
   "id": "b38e4f14",
   "metadata": {},
   "outputs": [
    {
     "data": {
      "text/plain": [
       "((3, 2), (2, 3))"
      ]
     },
     "execution_count": 289,
     "metadata": {},
     "output_type": "execute_result"
    }
   ],
   "source": [
    "b.shape, a.shape"
   ]
  },
  {
   "cell_type": "code",
   "execution_count": 290,
   "id": "92be4c6a",
   "metadata": {},
   "outputs": [
    {
     "data": {
      "text/plain": [
       "array([[ 9, 12, 15],\n",
       "       [19, 26, 33],\n",
       "       [29, 40, 51]])"
      ]
     },
     "execution_count": 290,
     "metadata": {},
     "output_type": "execute_result"
    }
   ],
   "source": [
    "b.dot(a)"
   ]
  },
  {
   "cell_type": "code",
   "execution_count": 291,
   "id": "35fd8922",
   "metadata": {},
   "outputs": [
    {
     "data": {
      "text/plain": [
       "array([[22, 28],\n",
       "       [49, 64]])"
      ]
     },
     "execution_count": 291,
     "metadata": {},
     "output_type": "execute_result"
    }
   ],
   "source": [
    "a @ b"
   ]
  },
  {
   "cell_type": "code",
   "execution_count": 292,
   "id": "a5877bcc",
   "metadata": {},
   "outputs": [
    {
     "data": {
      "text/plain": [
       "array([[ 9, 12, 15],\n",
       "       [19, 26, 33],\n",
       "       [29, 40, 51]])"
      ]
     },
     "execution_count": 292,
     "metadata": {},
     "output_type": "execute_result"
    }
   ],
   "source": [
    "b @ a"
   ]
  },
  {
   "cell_type": "code",
   "execution_count": 324,
   "id": "7175a50e",
   "metadata": {},
   "outputs": [],
   "source": [
    "def matrix_prod(A, B):\n",
    "\n",
    "    if len(A[0]) != len(B):\n",
    "        raise ValueError(f\"Las matrices no se pueden multiplicar, deben tener misma dimensión: A_columns {len(A[0])} X  B_rows {len(B)}\")\n",
    "        \n",
    "    resultado = [[sum(A[i][k] * B[k][j] for k in range(len(A[0]))) for j in range(len(B[0]))] for i in range(len(A))]\n",
    "    \n",
    "    return Matrix(resultado)"
   ]
  },
  {
   "cell_type": "code",
   "execution_count": 314,
   "id": "6a0555b2",
   "metadata": {},
   "outputs": [
    {
     "name": "stdout",
     "output_type": "stream",
     "text": [
      "Matrices con mismas dimensiones\n",
      "Resultado\n",
      "[[ 58  64]\n",
      " [139 154]]\n"
     ]
    }
   ],
   "source": [
    "def multiplicacion_valida(matriz_a, matriz_b):\n",
    "    num_columnas_a = matriz_a.shape[1]\n",
    "    num_filas_b = matriz_b.shape[0]\n",
    "    if num_columnas_a == num_filas_b:\n",
    "        return True\n",
    "    else:\n",
    "        return False\n",
    "    \n",
    "# Ejemplos\n",
    "matriz_a = np.array([[1, 2, 3], [4, 5, 6]])\n",
    "matriz_b = np.array([[7, 8], [9, 10], [11, 12]])\n",
    "if multiplicacion_valida(matriz_a, matriz_b):\n",
    "    resultado = np.dot(matriz_a, matriz_b)\n",
    "    print(\"Matrices con mismas dimensiones\")\n",
    "    print(\"Resultado\")\n",
    "    print(resultado)\n",
    "else:\n",
    "    print(\"Las matrices no son compatibles\")"
   ]
  },
  {
   "cell_type": "code",
   "execution_count": 322,
   "id": "88bd8d1d",
   "metadata": {},
   "outputs": [],
   "source": [
    "def matrix_prod2(A, B):\n",
    "    \n",
    "    filas_A = len(A)\n",
    "    columnas_A = len(A[0])\n",
    "    \n",
    "    filas_B = len(B)\n",
    "    columnas_B = len(B[0])\n",
    "\n",
    "    if columnas_A != filas_B:\n",
    "        raise ValueError(f\"Las matrices no se pueden multiplicar, deben tener misma dimensión: A_columns {columnas_A} X  B_rows {filas_B}\")\n",
    "        \n",
    "    resultado = []\n",
    "    \n",
    "    \n",
    "    for i in range(filas_A):\n",
    "        row       = []\n",
    "        \n",
    "        for j in range(columnas_B):\n",
    "            #aux = sum(A[i][k] * B[k][j] for k in range(columnas_A))\n",
    "            aux       = 0\n",
    "            \n",
    "            for k in range(columnas_A):\n",
    "                aux += A[i][k] * B[k][j]\n",
    "            \n",
    "            row.append(aux)\n",
    "        \n",
    "        resultado.append(row)\n",
    "            \n",
    "    \n",
    "    \n",
    "    return Matrix(resultado)"
   ]
  },
  {
   "cell_type": "code",
   "execution_count": 317,
   "id": "e59d6592",
   "metadata": {},
   "outputs": [],
   "source": [
    "a = [[1, 2, 3], [4, 5, 6]]\n",
    "b = [[1, 2], [3, 4], [5, 6]]"
   ]
  },
  {
   "cell_type": "code",
   "execution_count": 307,
   "id": "facdfe9a",
   "metadata": {},
   "outputs": [
    {
     "data": {
      "text/plain": [
       "'1 x 2'"
      ]
     },
     "execution_count": 307,
     "metadata": {},
     "output_type": "execute_result"
    }
   ],
   "source": [
    "\"{} x {}\".format(1, 2)"
   ]
  },
  {
   "cell_type": "code",
   "execution_count": 308,
   "id": "f66e2e8d",
   "metadata": {},
   "outputs": [
    {
     "data": {
      "text/plain": [
       "'1 x 2'"
      ]
     },
     "execution_count": 308,
     "metadata": {},
     "output_type": "execute_result"
    }
   ],
   "source": [
    "f\"{1} x {2}\""
   ]
  },
  {
   "cell_type": "code",
   "execution_count": 315,
   "id": "ea65fcb0",
   "metadata": {},
   "outputs": [
    {
     "ename": "AttributeError",
     "evalue": "'list' object has no attribute 'shape'",
     "output_type": "error",
     "traceback": [
      "\u001b[1;31m---------------------------------------------------------------------------\u001b[0m",
      "\u001b[1;31mAttributeError\u001b[0m                            Traceback (most recent call last)",
      "Cell \u001b[1;32mIn[315], line 1\u001b[0m\n\u001b[1;32m----> 1\u001b[0m \u001b[43ma\u001b[49m\u001b[38;5;241;43m.\u001b[39;49m\u001b[43mshape\u001b[49m\n",
      "\u001b[1;31mAttributeError\u001b[0m: 'list' object has no attribute 'shape'"
     ]
    }
   ],
   "source": [
    "a.shape"
   ]
  },
  {
   "cell_type": "code",
   "execution_count": 325,
   "id": "84916dc3",
   "metadata": {},
   "outputs": [
    {
     "data": {
      "text/latex": [
       "$\\displaystyle \\left[\\begin{matrix}22 & 28\\\\49 & 64\\end{matrix}\\right]$"
      ],
      "text/plain": [
       "Matrix([\n",
       "[22, 28],\n",
       "[49, 64]])"
      ]
     },
     "execution_count": 325,
     "metadata": {},
     "output_type": "execute_result"
    }
   ],
   "source": [
    "matrix_prod(a, b)"
   ]
  },
  {
   "cell_type": "code",
   "execution_count": 323,
   "id": "ceda47aa",
   "metadata": {},
   "outputs": [
    {
     "data": {
      "text/latex": [
       "$\\displaystyle \\left[\\begin{matrix}22 & 28\\\\49 & 64\\end{matrix}\\right]$"
      ],
      "text/plain": [
       "Matrix([\n",
       "[22, 28],\n",
       "[49, 64]])"
      ]
     },
     "execution_count": 323,
     "metadata": {},
     "output_type": "execute_result"
    }
   ],
   "source": [
    "matrix_prod2(a, b)"
   ]
  },
  {
   "cell_type": "markdown",
   "id": "6017b1b9",
   "metadata": {},
   "source": [
    "[Regresar al Contenido](#Contenido)"
   ]
  },
  {
   "cell_type": "markdown",
   "id": "fde24703",
   "metadata": {},
   "source": [
    "<hr>\n",
    "<h2>Matrices Especiales</h2>\n",
    "\n",
    "<h3>Matriz Identidad</h3>\n",
    "\n",
    "Es una [matriz cuadrada](#Glosario) que tiene todos los elementos de su diagonal iguales a 1 y el resto igual a 0. Se denotan por $I_n$ por ejemplo la matriz identidad de dimensión 3 es:\n",
    "\n",
    "$$I_3 = \n",
    "\\begin{bmatrix}\n",
    "1 & 0 & 0\\\\\n",
    "0 & 1 & 0\\\\\n",
    "0 & 0 & 1\\\\\n",
    "\\end{bmatrix}\n",
    "$$\n",
    "\n",
    "Está matriz cumple que para toda [matriz cuadrada](#Glosario) $A_n$ se cumple que:\n",
    "\n",
    "$$ A_n I_n = I_n A_n = A_n$$\n"
   ]
  },
  {
   "cell_type": "code",
   "execution_count": 326,
   "id": "a465a11b",
   "metadata": {},
   "outputs": [],
   "source": [
    "I = np.eye(3)"
   ]
  },
  {
   "cell_type": "code",
   "execution_count": 327,
   "id": "6a50fbfd",
   "metadata": {},
   "outputs": [
    {
     "data": {
      "text/plain": [
       "array([[1., 0., 0.],\n",
       "       [0., 1., 0.],\n",
       "       [0., 0., 1.]])"
      ]
     },
     "execution_count": 327,
     "metadata": {},
     "output_type": "execute_result"
    }
   ],
   "source": [
    "I"
   ]
  },
  {
   "cell_type": "code",
   "execution_count": 331,
   "id": "03ba9cd6",
   "metadata": {},
   "outputs": [],
   "source": [
    "b = np.random.randint(1, 1000, 18).reshape((3, 6))"
   ]
  },
  {
   "cell_type": "code",
   "execution_count": 332,
   "id": "93c21064",
   "metadata": {},
   "outputs": [
    {
     "data": {
      "text/plain": [
       "array([[435,  19, 871, 666, 618, 972],\n",
       "       [567, 942, 855,  39, 405, 762],\n",
       "       [380,  57, 651, 761, 411, 906]])"
      ]
     },
     "execution_count": 332,
     "metadata": {},
     "output_type": "execute_result"
    }
   ],
   "source": [
    "b"
   ]
  },
  {
   "cell_type": "code",
   "execution_count": 333,
   "id": "8a274bc8",
   "metadata": {},
   "outputs": [
    {
     "data": {
      "text/plain": [
       "array([[435.,  19., 871., 666., 618., 972.],\n",
       "       [567., 942., 855.,  39., 405., 762.],\n",
       "       [380.,  57., 651., 761., 411., 906.]])"
      ]
     },
     "execution_count": 333,
     "metadata": {},
     "output_type": "execute_result"
    }
   ],
   "source": [
    "I @ b"
   ]
  },
  {
   "cell_type": "code",
   "execution_count": 334,
   "id": "8c8aea6a",
   "metadata": {},
   "outputs": [
    {
     "data": {
      "text/plain": [
       "array([[435,  19, 871, 666, 618, 972],\n",
       "       [567, 942, 855,  39, 405, 762],\n",
       "       [380,  57, 651, 761, 411, 906]])"
      ]
     },
     "execution_count": 334,
     "metadata": {},
     "output_type": "execute_result"
    }
   ],
   "source": [
    "b"
   ]
  },
  {
   "cell_type": "code",
   "execution_count": 338,
   "id": "50da723c",
   "metadata": {},
   "outputs": [
    {
     "data": {
      "text/plain": [
       "array([[436.+0.j,  19.+0.j, 871.+0.j, 666.+0.j, 618.+0.j, 972.+0.j],\n",
       "       [567.+0.j, 942.+0.j, 855.+0.j,  39.+0.j, 405.+0.j, 762.+0.j],\n",
       "       [380.+0.j,  57.+0.j, 651.+0.j, 761.+0.j, 411.+0.j, 906.+0.j]])"
      ]
     },
     "execution_count": 338,
     "metadata": {},
     "output_type": "execute_result"
    }
   ],
   "source": [
    "b * (1 + 0j)"
   ]
  },
  {
   "cell_type": "code",
   "execution_count": 337,
   "id": "5814c04d",
   "metadata": {},
   "outputs": [
    {
     "data": {
      "text/plain": [
       "array([[436,  19, 871, 666, 618, 972],\n",
       "       [567, 942, 855,  39, 405, 762],\n",
       "       [380,  57, 651, 761, 411, 906]])"
      ]
     },
     "execution_count": 337,
     "metadata": {},
     "output_type": "execute_result"
    }
   ],
   "source": [
    "b"
   ]
  },
  {
   "cell_type": "markdown",
   "id": "413b01dc",
   "metadata": {},
   "source": [
    "[Regresar al Contenido](#Contenido)"
   ]
  },
  {
   "cell_type": "markdown",
   "id": "cc7103a4",
   "metadata": {},
   "source": [
    "<h3>Matriz Diagonal</h3>\n",
    "\n",
    "Es una matriz que tiene como elementos 0 excepto los de la diagonal principal ($i = j$), si la matriz es cuadrada cumple que su determinante es igual al producto de los elementos de la diagonal, y que sus autovalores son los elementos de la diagonal.\n",
    "\n",
    "$$A_3 = \n",
    "\\begin{bmatrix}\n",
    "4 & 0 & 0\\\\\n",
    "0 & 7 & 0\\\\\n",
    "0 & 0 & 1\\\\\n",
    "\\end{bmatrix}\n",
    "$$\n",
    "\n",
    "$$B_{3 \\times 4} = \n",
    "\\begin{bmatrix}\n",
    "4 & 0 & 0 & 0\\\\\n",
    "0 & 7 & 0 & 0\\\\\n",
    "0 & 0 & 1 & 0\\\\\n",
    "\\end{bmatrix}\n",
    "$$"
   ]
  },
  {
   "cell_type": "code",
   "execution_count": 339,
   "id": "c121c18a",
   "metadata": {},
   "outputs": [
    {
     "data": {
      "text/plain": [
       "array([[4, 0, 0],\n",
       "       [0, 7, 0],\n",
       "       [0, 0, 1]])"
      ]
     },
     "execution_count": 339,
     "metadata": {},
     "output_type": "execute_result"
    }
   ],
   "source": [
    "np.diag([4, 7, 1])"
   ]
  },
  {
   "cell_type": "code",
   "execution_count": 340,
   "id": "683717aa",
   "metadata": {},
   "outputs": [],
   "source": [
    "b = [[4, 0 ,0, 0], [0, 7, 0, 0], [0, 0, 1, 0]]\n",
    "b = np.array(b)"
   ]
  },
  {
   "cell_type": "code",
   "execution_count": 341,
   "id": "335580e2",
   "metadata": {},
   "outputs": [
    {
     "data": {
      "text/plain": [
       "array([[4, 0, 0, 0],\n",
       "       [0, 7, 0, 0],\n",
       "       [0, 0, 1, 0]])"
      ]
     },
     "execution_count": 341,
     "metadata": {},
     "output_type": "execute_result"
    }
   ],
   "source": [
    "b"
   ]
  },
  {
   "cell_type": "code",
   "execution_count": 342,
   "id": "dae17c6f",
   "metadata": {},
   "outputs": [
    {
     "data": {
      "text/plain": [
       "array([4, 7, 1])"
      ]
     },
     "execution_count": 342,
     "metadata": {},
     "output_type": "execute_result"
    }
   ],
   "source": [
    "np.diag(b)"
   ]
  },
  {
   "cell_type": "code",
   "execution_count": 344,
   "id": "ff1cc4fe",
   "metadata": {},
   "outputs": [],
   "source": [
    "a = np.array(a)"
   ]
  },
  {
   "cell_type": "code",
   "execution_count": 345,
   "id": "3c487560",
   "metadata": {},
   "outputs": [
    {
     "data": {
      "text/plain": [
       "array([[1, 2, 3],\n",
       "       [4, 5, 6]])"
      ]
     },
     "execution_count": 345,
     "metadata": {},
     "output_type": "execute_result"
    }
   ],
   "source": [
    "a"
   ]
  },
  {
   "cell_type": "code",
   "execution_count": 346,
   "id": "146f8842",
   "metadata": {},
   "outputs": [
    {
     "data": {
      "text/plain": [
       "array([1, 5])"
      ]
     },
     "execution_count": 346,
     "metadata": {},
     "output_type": "execute_result"
    }
   ],
   "source": [
    "np.diag(a)"
   ]
  },
  {
   "cell_type": "code",
   "execution_count": 347,
   "id": "3f1d236d",
   "metadata": {},
   "outputs": [],
   "source": [
    "a = np.random.randint(1, 100, (3, 3))"
   ]
  },
  {
   "cell_type": "code",
   "execution_count": 348,
   "id": "c9267a91",
   "metadata": {},
   "outputs": [
    {
     "data": {
      "text/plain": [
       "array([[ 1, 45, 68],\n",
       "       [28,  7, 36],\n",
       "       [65, 92, 63]])"
      ]
     },
     "execution_count": 348,
     "metadata": {},
     "output_type": "execute_result"
    }
   ],
   "source": [
    "a"
   ]
  },
  {
   "cell_type": "code",
   "execution_count": 349,
   "id": "eb692553",
   "metadata": {},
   "outputs": [
    {
     "data": {
      "text/plain": [
       "array([ 1,  7, 63])"
      ]
     },
     "execution_count": 349,
     "metadata": {},
     "output_type": "execute_result"
    }
   ],
   "source": [
    "np.diag(a)"
   ]
  },
  {
   "cell_type": "code",
   "execution_count": 350,
   "id": "e74dc6da",
   "metadata": {},
   "outputs": [],
   "source": [
    "a = np.diag([4, 7, 1])"
   ]
  },
  {
   "cell_type": "code",
   "execution_count": 351,
   "id": "c2b2d1a3",
   "metadata": {},
   "outputs": [
    {
     "data": {
      "text/plain": [
       "array([[4, 0, 0],\n",
       "       [0, 7, 0],\n",
       "       [0, 0, 1]])"
      ]
     },
     "execution_count": 351,
     "metadata": {},
     "output_type": "execute_result"
    }
   ],
   "source": [
    "a"
   ]
  },
  {
   "cell_type": "code",
   "execution_count": 353,
   "id": "f135db97",
   "metadata": {},
   "outputs": [
    {
     "data": {
      "text/plain": [
       "28"
      ]
     },
     "execution_count": 353,
     "metadata": {},
     "output_type": "execute_result"
    }
   ],
   "source": [
    "np.diag(a).prod()"
   ]
  },
  {
   "cell_type": "code",
   "execution_count": 354,
   "id": "5d1d1edd",
   "metadata": {},
   "outputs": [
    {
     "data": {
      "text/plain": [
       "27.999999999999996"
      ]
     },
     "execution_count": 354,
     "metadata": {},
     "output_type": "execute_result"
    }
   ],
   "source": [
    "np.linalg.det(a)"
   ]
  },
  {
   "cell_type": "code",
   "execution_count": 355,
   "id": "4fba3824",
   "metadata": {},
   "outputs": [
    {
     "data": {
      "text/plain": [
       "array([4., 7., 1.])"
      ]
     },
     "execution_count": 355,
     "metadata": {},
     "output_type": "execute_result"
    }
   ],
   "source": [
    "np.linalg.eigvals(a)"
   ]
  },
  {
   "cell_type": "markdown",
   "id": "052bdca3",
   "metadata": {},
   "source": [
    "[Regresar al Contenido](#Contenido)"
   ]
  },
  {
   "cell_type": "markdown",
   "id": "5598049f",
   "metadata": {},
   "source": [
    "<h3>Matriz Triangular</h3>\n",
    "\n",
    "\n",
    "Una matriz es una matriz triangular superior si tiene 0's por debajo de la diagonal, es decir, si $a_{ij} = 0$, para $ i > j$\n",
    "\n",
    "$$ \n",
    "\\begin{bmatrix}\n",
    "4 & 5 & 6\\\\\n",
    "0 & 7 & 8\\\\\n",
    "0 & 0 & 1\\\\\n",
    "\\end{bmatrix}\n",
    "$$\n",
    "\n",
    "y se dice triangular inferior si tiene 0's por encima de la diagonal, es decir, si $a_{ij} = 0$, para $ i < j$\n",
    "\n",
    "$$ \n",
    "\\begin{bmatrix}\n",
    "4 & 0 & 0\\\\\n",
    "5 & 7 & 0\\\\\n",
    "6 & 8 & 1\\\\\n",
    "\\end{bmatrix}\n",
    "$$\n",
    "\n",
    "Tienen la propiedad de que su determinante es el producto de los elementos de la diagonal, la transpuesta de una matriz triangular superior es una matriz triangular inferior y viceversa, y sus valores propios son los elementos de la diagonal\n",
    "\n"
   ]
  },
  {
   "cell_type": "code",
   "execution_count": 356,
   "id": "4fc6026a",
   "metadata": {},
   "outputs": [],
   "source": [
    "a = np.array([[4, 5, 6], [0, 7, 8], [0, 0, 1]])"
   ]
  },
  {
   "cell_type": "code",
   "execution_count": 357,
   "id": "51fab501",
   "metadata": {},
   "outputs": [
    {
     "data": {
      "text/plain": [
       "array([[4, 5, 6],\n",
       "       [0, 7, 8],\n",
       "       [0, 0, 1]])"
      ]
     },
     "execution_count": 357,
     "metadata": {},
     "output_type": "execute_result"
    }
   ],
   "source": [
    "a"
   ]
  },
  {
   "cell_type": "code",
   "execution_count": 359,
   "id": "d91b1173",
   "metadata": {},
   "outputs": [
    {
     "data": {
      "text/plain": [
       "27.999999999999996"
      ]
     },
     "execution_count": 359,
     "metadata": {},
     "output_type": "execute_result"
    }
   ],
   "source": [
    "np.linalg.det(a)"
   ]
  },
  {
   "cell_type": "code",
   "execution_count": 361,
   "id": "87faabe4",
   "metadata": {},
   "outputs": [
    {
     "data": {
      "text/plain": [
       "28"
      ]
     },
     "execution_count": 361,
     "metadata": {},
     "output_type": "execute_result"
    }
   ],
   "source": [
    "np.diag(a).prod()"
   ]
  },
  {
   "cell_type": "code",
   "execution_count": 362,
   "id": "34f12ea0",
   "metadata": {},
   "outputs": [
    {
     "data": {
      "text/plain": [
       "array([4., 7., 1.])"
      ]
     },
     "execution_count": 362,
     "metadata": {},
     "output_type": "execute_result"
    }
   ],
   "source": [
    "np.linalg.eigvals(a)"
   ]
  },
  {
   "cell_type": "markdown",
   "id": "715da4dc",
   "metadata": {},
   "source": [
    "[Regresar al Contenido](#Contenido)"
   ]
  },
  {
   "cell_type": "markdown",
   "id": "69ffa0e8",
   "metadata": {},
   "source": [
    "<h3>Matriz Elemental</h3>\n",
    "\n",
    "Una matriz elemental de orden n es una matriz que se obtiene a partir de la matriz identidad $I_{n}$ aplicando solo una operación elemental de fila. Por ejemplo:\n",
    "\n",
    "- Multiplicar un renglón por un escalar\n",
    "$$\n",
    "\\begin{bmatrix}\n",
    "1 & 0 & 0\\\\\n",
    "0 & \\alpha & 0 \\\\\n",
    "0 & 0 & 1\\\\\n",
    "\\end{bmatrix}\n",
    "$$\n",
    "\n",
    "- Intercambiar renglones\n",
    "\n",
    "$$\n",
    "\\begin{bmatrix}\n",
    "1 & 0 & 0\\\\\n",
    "0 & 0 & 1\\\\\n",
    "0 & 1 & 0\\\\\n",
    "\\end{bmatrix}\n",
    "$$\n",
    "\n",
    "- Sumar a un renglón un múltiplo de otro\n",
    "\n",
    "$$\n",
    "\\begin{bmatrix}\n",
    "1 & 0 & 0\\\\\n",
    "\\alpha & 1 & 0 \\\\\n",
    "0 & 0 & 1\\\\\n",
    "\\end{bmatrix}\n",
    "$$\n",
    "\n",
    "\n",
    "Note que multiplicar una matriz elemental $E$ por una matriz $A$ es equivalente a aplicar la operación elemental de $E$ sobre $A$.\n",
    "\n"
   ]
  },
  {
   "cell_type": "code",
   "execution_count": 363,
   "id": "4114c145",
   "metadata": {},
   "outputs": [],
   "source": [
    "e = np.array([[1, 0, 0], [0, 0, 1], [0, 1, 0]])"
   ]
  },
  {
   "cell_type": "code",
   "execution_count": 364,
   "id": "cc938df0",
   "metadata": {},
   "outputs": [
    {
     "data": {
      "text/plain": [
       "array([[1, 0, 0],\n",
       "       [0, 0, 1],\n",
       "       [0, 1, 0]])"
      ]
     },
     "execution_count": 364,
     "metadata": {},
     "output_type": "execute_result"
    }
   ],
   "source": [
    "e"
   ]
  },
  {
   "cell_type": "code",
   "execution_count": 366,
   "id": "cc64146e",
   "metadata": {},
   "outputs": [],
   "source": [
    "a = np.random.randint(1, 100, (3, 3))"
   ]
  },
  {
   "cell_type": "code",
   "execution_count": 367,
   "id": "5774b334",
   "metadata": {},
   "outputs": [
    {
     "data": {
      "text/plain": [
       "array([[59,  7, 33],\n",
       "       [34, 27, 26],\n",
       "       [71, 76, 57]])"
      ]
     },
     "execution_count": 367,
     "metadata": {},
     "output_type": "execute_result"
    }
   ],
   "source": [
    "a"
   ]
  },
  {
   "cell_type": "code",
   "execution_count": 368,
   "id": "174f66c5",
   "metadata": {},
   "outputs": [
    {
     "data": {
      "text/plain": [
       "array([[59,  7, 33],\n",
       "       [71, 76, 57],\n",
       "       [34, 27, 26]])"
      ]
     },
     "execution_count": 368,
     "metadata": {},
     "output_type": "execute_result"
    }
   ],
   "source": [
    "e @ a"
   ]
  },
  {
   "cell_type": "code",
   "execution_count": 369,
   "id": "58255379",
   "metadata": {},
   "outputs": [],
   "source": [
    "e2 = np.array([[1, 0, 0], [0, 1, 0], [0, 0, 2]])"
   ]
  },
  {
   "cell_type": "code",
   "execution_count": 370,
   "id": "0bd1b3fe",
   "metadata": {},
   "outputs": [
    {
     "data": {
      "text/plain": [
       "array([[1, 0, 0],\n",
       "       [0, 1, 0],\n",
       "       [0, 0, 2]])"
      ]
     },
     "execution_count": 370,
     "metadata": {},
     "output_type": "execute_result"
    }
   ],
   "source": [
    "e2"
   ]
  },
  {
   "cell_type": "code",
   "execution_count": 371,
   "id": "db8a08c1",
   "metadata": {},
   "outputs": [
    {
     "data": {
      "text/plain": [
       "array([[ 59,   7,  33],\n",
       "       [ 34,  27,  26],\n",
       "       [142, 152, 114]])"
      ]
     },
     "execution_count": 371,
     "metadata": {},
     "output_type": "execute_result"
    }
   ],
   "source": [
    "e2 @ a"
   ]
  },
  {
   "cell_type": "code",
   "execution_count": 372,
   "id": "40efa26c",
   "metadata": {},
   "outputs": [
    {
     "data": {
      "text/plain": [
       "array([[59,  7, 33],\n",
       "       [71, 76, 57],\n",
       "       [68, 54, 52]])"
      ]
     },
     "execution_count": 372,
     "metadata": {},
     "output_type": "execute_result"
    }
   ],
   "source": [
    "e2 @ e @ a"
   ]
  },
  {
   "cell_type": "code",
   "execution_count": 374,
   "id": "290fa94e",
   "metadata": {},
   "outputs": [],
   "source": [
    "m = e2 @ e"
   ]
  },
  {
   "cell_type": "code",
   "execution_count": 375,
   "id": "e274488f",
   "metadata": {},
   "outputs": [
    {
     "data": {
      "text/plain": [
       "array([[59,  7, 33],\n",
       "       [71, 76, 57],\n",
       "       [68, 54, 52]])"
      ]
     },
     "execution_count": 375,
     "metadata": {},
     "output_type": "execute_result"
    }
   ],
   "source": [
    "m @ a"
   ]
  },
  {
   "cell_type": "markdown",
   "id": "8ca7f4d2",
   "metadata": {},
   "source": [
    "[Regresar al Contenido](#Contenido)"
   ]
  },
  {
   "cell_type": "markdown",
   "id": "17251e02",
   "metadata": {},
   "source": [
    "<h3>Matriz Transpuesta</h3>\n",
    "\n",
    "$$$$\n",
    "La matriz transpuesta de una matriz $A_{m \\times n}$ es una matriz $A_{n \\times m}^T$ que tiene por filas las columnas de $A_{m \\times n}$, es decir su elemento $a_{ij}^T = a_{ji}$.\n",
    "\n",
    "\n",
    "<img src = https://upload.wikimedia.org/wikipedia/commons/e/e4/Matrix_transpose.gif width = 300 height = 300>"
   ]
  },
  {
   "cell_type": "code",
   "execution_count": 376,
   "id": "7d9038d5",
   "metadata": {},
   "outputs": [
    {
     "data": {
      "text/plain": [
       "array([[59,  7, 33],\n",
       "       [34, 27, 26],\n",
       "       [71, 76, 57]])"
      ]
     },
     "execution_count": 376,
     "metadata": {},
     "output_type": "execute_result"
    }
   ],
   "source": [
    "a"
   ]
  },
  {
   "cell_type": "code",
   "execution_count": 377,
   "id": "40461978",
   "metadata": {},
   "outputs": [
    {
     "data": {
      "text/plain": [
       "array([[59, 34, 71],\n",
       "       [ 7, 27, 76],\n",
       "       [33, 26, 57]])"
      ]
     },
     "execution_count": 377,
     "metadata": {},
     "output_type": "execute_result"
    }
   ],
   "source": [
    "a.T"
   ]
  },
  {
   "cell_type": "code",
   "execution_count": 378,
   "id": "89256256",
   "metadata": {},
   "outputs": [],
   "source": [
    "b = np.array([[1, 2], [3, 4], [5, 6]])"
   ]
  },
  {
   "cell_type": "code",
   "execution_count": 380,
   "id": "3ec35178",
   "metadata": {},
   "outputs": [
    {
     "data": {
      "text/plain": [
       "array([[1, 2],\n",
       "       [3, 4],\n",
       "       [5, 6]])"
      ]
     },
     "execution_count": 380,
     "metadata": {},
     "output_type": "execute_result"
    }
   ],
   "source": [
    "b"
   ]
  },
  {
   "cell_type": "code",
   "execution_count": 381,
   "id": "81802894",
   "metadata": {},
   "outputs": [
    {
     "data": {
      "text/plain": [
       "array([[1, 3, 5],\n",
       "       [2, 4, 6]])"
      ]
     },
     "execution_count": 381,
     "metadata": {},
     "output_type": "execute_result"
    }
   ],
   "source": [
    "b.T"
   ]
  },
  {
   "cell_type": "markdown",
   "id": "9b78c295",
   "metadata": {},
   "source": [
    "[Regresar al Contenido](#Contenido)"
   ]
  },
  {
   "cell_type": "markdown",
   "id": "5e56ea54",
   "metadata": {},
   "source": [
    "<h3>Matriz Inversa</h3>\n",
    "\n",
    "Se dice que una matriz cuadrada tiene inversa, si existe una matriz $A^{-1}$ tal que:\n",
    "\n",
    "$$ A A^{-1} = A^{-1} A = I_n $$\n",
    "\n",
    "Si una matriz no tiene inversa se dice matriz singular. Una matriz tiene inversa si y solo si su determinante es no nulo"
   ]
  },
  {
   "cell_type": "code",
   "execution_count": 382,
   "id": "95ed4150",
   "metadata": {},
   "outputs": [
    {
     "data": {
      "text/plain": [
       "array([[59,  7, 33],\n",
       "       [34, 27, 26],\n",
       "       [71, 76, 57]])"
      ]
     },
     "execution_count": 382,
     "metadata": {},
     "output_type": "execute_result"
    }
   ],
   "source": [
    "a"
   ]
  },
  {
   "cell_type": "code",
   "execution_count": 385,
   "id": "cac0e381",
   "metadata": {},
   "outputs": [],
   "source": [
    "inv_a = np.linalg.inv(a)"
   ]
  },
  {
   "cell_type": "code",
   "execution_count": 386,
   "id": "567ecc83",
   "metadata": {},
   "outputs": [
    {
     "data": {
      "text/plain": [
       "array([[ 0.09895833, -0.47758152,  0.16055254],\n",
       "       [ 0.02083333, -0.23097826,  0.0932971 ],\n",
       "       [-0.15104167,  0.90285326, -0.30683877]])"
      ]
     },
     "execution_count": 386,
     "metadata": {},
     "output_type": "execute_result"
    }
   ],
   "source": [
    "inv_a"
   ]
  },
  {
   "cell_type": "code",
   "execution_count": 396,
   "id": "86bd1f35",
   "metadata": {},
   "outputs": [],
   "source": [
    "r = inv_a @ a"
   ]
  },
  {
   "cell_type": "code",
   "execution_count": 393,
   "id": "5ffaa81a",
   "metadata": {},
   "outputs": [],
   "source": [
    "M = Matrix(a)"
   ]
  },
  {
   "cell_type": "code",
   "execution_count": 395,
   "id": "a87ddd8d",
   "metadata": {},
   "outputs": [
    {
     "data": {
      "text/latex": [
       "$\\displaystyle \\left[\\begin{matrix}1 & 0 & 0\\\\0 & 1 & 0\\\\0 & 0 & 1\\end{matrix}\\right]$"
      ],
      "text/plain": [
       "Matrix([\n",
       "[1, 0, 0],\n",
       "[0, 1, 0],\n",
       "[0, 0, 1]])"
      ]
     },
     "execution_count": 395,
     "metadata": {},
     "output_type": "execute_result"
    }
   ],
   "source": [
    "M  * M.inv()"
   ]
  },
  {
   "cell_type": "code",
   "execution_count": 397,
   "id": "67fb0472",
   "metadata": {},
   "outputs": [
    {
     "data": {
      "text/plain": [
       "array([[False,  True,  True],\n",
       "       [ True, False,  True],\n",
       "       [ True,  True, False]])"
      ]
     },
     "execution_count": 397,
     "metadata": {},
     "output_type": "execute_result"
    }
   ],
   "source": [
    "np.isclose(r, 0)"
   ]
  },
  {
   "cell_type": "code",
   "execution_count": 398,
   "id": "74ec0180",
   "metadata": {},
   "outputs": [
    {
     "data": {
      "text/plain": [
       "array([[ 1.00000000e+00,  2.22044605e-16, -1.05471187e-15],\n",
       "       [-5.55111512e-17,  1.00000000e+00, -7.77156117e-16],\n",
       "       [ 3.05311332e-16,  1.99840144e-15,  1.00000000e+00]])"
      ]
     },
     "execution_count": 398,
     "metadata": {},
     "output_type": "execute_result"
    }
   ],
   "source": [
    "a @ inv_a"
   ]
  },
  {
   "cell_type": "code",
   "execution_count": null,
   "id": "2d27a055",
   "metadata": {},
   "outputs": [],
   "source": []
  },
  {
   "cell_type": "markdown",
   "id": "d611ba3f",
   "metadata": {},
   "source": [
    "[Regresar al Contenido](#Contenido)"
   ]
  },
  {
   "cell_type": "markdown",
   "id": "ccd96a5f",
   "metadata": {},
   "source": [
    "<h3>Matriz Ortogonal</h3>\n",
    "\n",
    "Una matriz se dice ortogonal cuando su transpuesta es igual a su inversa."
   ]
  },
  {
   "cell_type": "code",
   "execution_count": 399,
   "id": "29a97266",
   "metadata": {},
   "outputs": [],
   "source": [
    "a = np.array([[1, -2], [2, 1]])"
   ]
  },
  {
   "cell_type": "code",
   "execution_count": 410,
   "id": "31dc1aa6",
   "metadata": {},
   "outputs": [],
   "source": [
    "a = a * (1 / np.sqrt(5))"
   ]
  },
  {
   "cell_type": "code",
   "execution_count": 411,
   "id": "f786f7c1",
   "metadata": {},
   "outputs": [
    {
     "data": {
      "text/plain": [
       "array([[ 0.4472136 ,  0.89442719],\n",
       "       [-0.89442719,  0.4472136 ]])"
      ]
     },
     "execution_count": 411,
     "metadata": {},
     "output_type": "execute_result"
    }
   ],
   "source": [
    "a.T"
   ]
  },
  {
   "cell_type": "code",
   "execution_count": 412,
   "id": "cdc3a1fb",
   "metadata": {},
   "outputs": [
    {
     "data": {
      "text/plain": [
       "array([[1.00000000e+00, 1.25949234e-17],\n",
       "       [1.25949234e-17, 1.00000000e+00]])"
      ]
     },
     "execution_count": 412,
     "metadata": {},
     "output_type": "execute_result"
    }
   ],
   "source": [
    "a.T @ a"
   ]
  },
  {
   "cell_type": "code",
   "execution_count": null,
   "id": "ebabaa72",
   "metadata": {},
   "outputs": [],
   "source": []
  }
 ],
 "metadata": {
  "@webio": {
   "lastCommId": null,
   "lastKernelId": null
  },
  "kernelspec": {
   "display_name": "Python 3 (ipykernel)",
   "language": "python",
   "name": "python3"
  },
  "language_info": {
   "codemirror_mode": {
    "name": "ipython",
    "version": 3
   },
   "file_extension": ".py",
   "mimetype": "text/x-python",
   "name": "python",
   "nbconvert_exporter": "python",
   "pygments_lexer": "ipython3",
   "version": "3.9.16"
  },
  "toc": {
   "base_numbering": 1,
   "nav_menu": {},
   "number_sections": true,
   "sideBar": true,
   "skip_h1_title": false,
   "title_cell": "Table of Contents",
   "title_sidebar": "Contents",
   "toc_cell": false,
   "toc_position": {},
   "toc_section_display": true,
   "toc_window_display": false
  },
  "varInspector": {
   "cols": {
    "lenName": 16,
    "lenType": 16,
    "lenVar": 40
   },
   "kernels_config": {
    "python": {
     "delete_cmd_postfix": "",
     "delete_cmd_prefix": "del ",
     "library": "var_list.py",
     "varRefreshCmd": "print(var_dic_list())"
    },
    "r": {
     "delete_cmd_postfix": ") ",
     "delete_cmd_prefix": "rm(",
     "library": "var_list.r",
     "varRefreshCmd": "cat(var_dic_list()) "
    }
   },
   "types_to_exclude": [
    "module",
    "function",
    "builtin_function_or_method",
    "instance",
    "_Feature"
   ],
   "window_display": false
  }
 },
 "nbformat": 4,
 "nbformat_minor": 5
}
